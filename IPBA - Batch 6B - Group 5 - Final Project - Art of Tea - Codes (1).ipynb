{
 "cells": [
  {
   "cell_type": "markdown",
   "metadata": {},
   "source": [
    "# EDA"
   ]
  },
  {
   "cell_type": "code",
   "execution_count": 161,
   "metadata": {},
   "outputs": [],
   "source": [
    "# Import Necessary Libraries\n",
    "import numpy as np\n",
    "import pandas as pd \n",
    "import matplotlib.pyplot as plt \n",
    "import seaborn as sns\n",
    "%matplotlib inline \n",
    "import warnings\n",
    "warnings.filterwarnings('ignore')"
   ]
  },
  {
   "cell_type": "markdown",
   "metadata": {},
   "source": [
    "# Importing Data"
   ]
  },
  {
   "cell_type": "code",
   "execution_count": 162,
   "metadata": {},
   "outputs": [
    {
     "data": {
      "text/html": [
       "<div>\n",
       "<style scoped>\n",
       "    .dataframe tbody tr th:only-of-type {\n",
       "        vertical-align: middle;\n",
       "    }\n",
       "\n",
       "    .dataframe tbody tr th {\n",
       "        vertical-align: top;\n",
       "    }\n",
       "\n",
       "    .dataframe thead th {\n",
       "        text-align: right;\n",
       "    }\n",
       "</style>\n",
       "<table border=\"1\" class=\"dataframe\">\n",
       "  <thead>\n",
       "    <tr style=\"text-align: right;\">\n",
       "      <th></th>\n",
       "      <th>custid</th>\n",
       "      <th>retained</th>\n",
       "      <th>created</th>\n",
       "      <th>firstorder</th>\n",
       "      <th>register_to_order</th>\n",
       "      <th>lastorder</th>\n",
       "      <th>first_to_last_order</th>\n",
       "      <th>esent</th>\n",
       "      <th>eopenrate</th>\n",
       "      <th>eclickrate</th>\n",
       "      <th>avgorder</th>\n",
       "      <th>ordfreq</th>\n",
       "      <th>Number of orders</th>\n",
       "      <th>paperless</th>\n",
       "      <th>refill</th>\n",
       "      <th>doorstep</th>\n",
       "      <th>favday</th>\n",
       "      <th>city</th>\n",
       "    </tr>\n",
       "  </thead>\n",
       "  <tbody>\n",
       "    <tr>\n",
       "      <th>0</th>\n",
       "      <td>4PL8PJ</td>\n",
       "      <td>0</td>\n",
       "      <td>7/20/2012</td>\n",
       "      <td>7/20/2012</td>\n",
       "      <td>0</td>\n",
       "      <td>7/20/2012</td>\n",
       "      <td>0</td>\n",
       "      <td>0</td>\n",
       "      <td>0.00</td>\n",
       "      <td>0.0</td>\n",
       "      <td>31</td>\n",
       "      <td>0</td>\n",
       "      <td>1</td>\n",
       "      <td>0</td>\n",
       "      <td>0</td>\n",
       "      <td>0</td>\n",
       "      <td>Sunday</td>\n",
       "      <td>MAA</td>\n",
       "    </tr>\n",
       "    <tr>\n",
       "      <th>1</th>\n",
       "      <td>EWWSX3</td>\n",
       "      <td>0</td>\n",
       "      <td>7/20/2012</td>\n",
       "      <td>7/20/2012</td>\n",
       "      <td>0</td>\n",
       "      <td>7/20/2012</td>\n",
       "      <td>0</td>\n",
       "      <td>0</td>\n",
       "      <td>0.00</td>\n",
       "      <td>0.0</td>\n",
       "      <td>35</td>\n",
       "      <td>0</td>\n",
       "      <td>1</td>\n",
       "      <td>0</td>\n",
       "      <td>0</td>\n",
       "      <td>0</td>\n",
       "      <td>Sunday</td>\n",
       "      <td>MAA</td>\n",
       "    </tr>\n",
       "    <tr>\n",
       "      <th>2</th>\n",
       "      <td>AA5UR5</td>\n",
       "      <td>1</td>\n",
       "      <td>7/20/2012</td>\n",
       "      <td>7/20/2012</td>\n",
       "      <td>0</td>\n",
       "      <td>7/20/2012</td>\n",
       "      <td>0</td>\n",
       "      <td>37</td>\n",
       "      <td>5.41</td>\n",
       "      <td>0.0</td>\n",
       "      <td>51</td>\n",
       "      <td>0</td>\n",
       "      <td>1</td>\n",
       "      <td>0</td>\n",
       "      <td>0</td>\n",
       "      <td>0</td>\n",
       "      <td>Sunday</td>\n",
       "      <td>BLR</td>\n",
       "    </tr>\n",
       "    <tr>\n",
       "      <th>3</th>\n",
       "      <td>JKN7DR</td>\n",
       "      <td>1</td>\n",
       "      <td>7/20/2012</td>\n",
       "      <td>7/20/2012</td>\n",
       "      <td>0</td>\n",
       "      <td>7/20/2012</td>\n",
       "      <td>0</td>\n",
       "      <td>36</td>\n",
       "      <td>0.00</td>\n",
       "      <td>0.0</td>\n",
       "      <td>62</td>\n",
       "      <td>0</td>\n",
       "      <td>1</td>\n",
       "      <td>0</td>\n",
       "      <td>0</td>\n",
       "      <td>0</td>\n",
       "      <td>Sunday</td>\n",
       "      <td>MAA</td>\n",
       "    </tr>\n",
       "    <tr>\n",
       "      <th>4</th>\n",
       "      <td>6F97V9</td>\n",
       "      <td>0</td>\n",
       "      <td>7/20/2012</td>\n",
       "      <td>7/20/2012</td>\n",
       "      <td>0</td>\n",
       "      <td>7/20/2012</td>\n",
       "      <td>0</td>\n",
       "      <td>0</td>\n",
       "      <td>0.00</td>\n",
       "      <td>0.0</td>\n",
       "      <td>30</td>\n",
       "      <td>0</td>\n",
       "      <td>1</td>\n",
       "      <td>0</td>\n",
       "      <td>0</td>\n",
       "      <td>0</td>\n",
       "      <td>Sunday</td>\n",
       "      <td>MAA</td>\n",
       "    </tr>\n",
       "  </tbody>\n",
       "</table>\n",
       "</div>"
      ],
      "text/plain": [
       "   custid  retained    created firstorder  register_to_order  lastorder  \\\n",
       "0  4PL8PJ         0  7/20/2012  7/20/2012                  0  7/20/2012   \n",
       "1  EWWSX3         0  7/20/2012  7/20/2012                  0  7/20/2012   \n",
       "2  AA5UR5         1  7/20/2012  7/20/2012                  0  7/20/2012   \n",
       "3  JKN7DR         1  7/20/2012  7/20/2012                  0  7/20/2012   \n",
       "4  6F97V9         0  7/20/2012  7/20/2012                  0  7/20/2012   \n",
       "\n",
       "   first_to_last_order  esent  eopenrate  eclickrate  avgorder  ordfreq  \\\n",
       "0                    0      0       0.00         0.0        31        0   \n",
       "1                    0      0       0.00         0.0        35        0   \n",
       "2                    0     37       5.41         0.0        51        0   \n",
       "3                    0     36       0.00         0.0        62        0   \n",
       "4                    0      0       0.00         0.0        30        0   \n",
       "\n",
       "    Number of orders   paperless  refill  doorstep  favday city  \n",
       "0                   1          0       0         0  Sunday  MAA  \n",
       "1                   1          0       0         0  Sunday  MAA  \n",
       "2                   1          0       0         0  Sunday  BLR  \n",
       "3                   1          0       0         0  Sunday  MAA  \n",
       "4                   1          0       0         0  Sunday  MAA  "
      ]
     },
     "execution_count": 162,
     "metadata": {},
     "output_type": "execute_result"
    }
   ],
   "source": [
    "#Import Dataset\n",
    "cr = pd.read_csv(\"D:\\\\R\\\\Python\\\\Data\\\\storedata_total.csv\", encoding=\"ISO-8859-1\")\n",
    "cr.head()"
   ]
  },
  {
   "cell_type": "code",
   "execution_count": 163,
   "metadata": {},
   "outputs": [
    {
     "data": {
      "text/plain": [
       "(30772, 18)"
      ]
     },
     "execution_count": 163,
     "metadata": {},
     "output_type": "execute_result"
    }
   ],
   "source": [
    "#to check the row and column dimensions\n",
    "cr.shape"
   ]
  },
  {
   "cell_type": "code",
   "execution_count": 164,
   "metadata": {},
   "outputs": [
    {
     "data": {
      "text/html": [
       "<div>\n",
       "<style scoped>\n",
       "    .dataframe tbody tr th:only-of-type {\n",
       "        vertical-align: middle;\n",
       "    }\n",
       "\n",
       "    .dataframe tbody tr th {\n",
       "        vertical-align: top;\n",
       "    }\n",
       "\n",
       "    .dataframe thead th {\n",
       "        text-align: right;\n",
       "    }\n",
       "</style>\n",
       "<table border=\"1\" class=\"dataframe\">\n",
       "  <thead>\n",
       "    <tr style=\"text-align: right;\">\n",
       "      <th></th>\n",
       "      <th>custid</th>\n",
       "      <th>retained</th>\n",
       "      <th>created</th>\n",
       "      <th>firstorder</th>\n",
       "      <th>register_to_order</th>\n",
       "      <th>lastorder</th>\n",
       "      <th>first_to_last_order</th>\n",
       "      <th>esent</th>\n",
       "      <th>eopenrate</th>\n",
       "      <th>eclickrate</th>\n",
       "      <th>avgorder</th>\n",
       "      <th>ordfreq</th>\n",
       "      <th>Number of orders</th>\n",
       "      <th>paperless</th>\n",
       "      <th>refill</th>\n",
       "      <th>doorstep</th>\n",
       "      <th>favday</th>\n",
       "      <th>city</th>\n",
       "    </tr>\n",
       "  </thead>\n",
       "  <tbody>\n",
       "    <tr>\n",
       "      <th>0</th>\n",
       "      <td>4PL8PJ</td>\n",
       "      <td>0</td>\n",
       "      <td>7/20/2012</td>\n",
       "      <td>7/20/2012</td>\n",
       "      <td>0</td>\n",
       "      <td>7/20/2012</td>\n",
       "      <td>0</td>\n",
       "      <td>0</td>\n",
       "      <td>0.00</td>\n",
       "      <td>0.0</td>\n",
       "      <td>31</td>\n",
       "      <td>0</td>\n",
       "      <td>1</td>\n",
       "      <td>0</td>\n",
       "      <td>0</td>\n",
       "      <td>0</td>\n",
       "      <td>Sunday</td>\n",
       "      <td>MAA</td>\n",
       "    </tr>\n",
       "    <tr>\n",
       "      <th>1</th>\n",
       "      <td>EWWSX3</td>\n",
       "      <td>0</td>\n",
       "      <td>7/20/2012</td>\n",
       "      <td>7/20/2012</td>\n",
       "      <td>0</td>\n",
       "      <td>7/20/2012</td>\n",
       "      <td>0</td>\n",
       "      <td>0</td>\n",
       "      <td>0.00</td>\n",
       "      <td>0.0</td>\n",
       "      <td>35</td>\n",
       "      <td>0</td>\n",
       "      <td>1</td>\n",
       "      <td>0</td>\n",
       "      <td>0</td>\n",
       "      <td>0</td>\n",
       "      <td>Sunday</td>\n",
       "      <td>MAA</td>\n",
       "    </tr>\n",
       "    <tr>\n",
       "      <th>2</th>\n",
       "      <td>AA5UR5</td>\n",
       "      <td>1</td>\n",
       "      <td>7/20/2012</td>\n",
       "      <td>7/20/2012</td>\n",
       "      <td>0</td>\n",
       "      <td>7/20/2012</td>\n",
       "      <td>0</td>\n",
       "      <td>37</td>\n",
       "      <td>5.41</td>\n",
       "      <td>0.0</td>\n",
       "      <td>51</td>\n",
       "      <td>0</td>\n",
       "      <td>1</td>\n",
       "      <td>0</td>\n",
       "      <td>0</td>\n",
       "      <td>0</td>\n",
       "      <td>Sunday</td>\n",
       "      <td>BLR</td>\n",
       "    </tr>\n",
       "    <tr>\n",
       "      <th>3</th>\n",
       "      <td>JKN7DR</td>\n",
       "      <td>1</td>\n",
       "      <td>7/20/2012</td>\n",
       "      <td>7/20/2012</td>\n",
       "      <td>0</td>\n",
       "      <td>7/20/2012</td>\n",
       "      <td>0</td>\n",
       "      <td>36</td>\n",
       "      <td>0.00</td>\n",
       "      <td>0.0</td>\n",
       "      <td>62</td>\n",
       "      <td>0</td>\n",
       "      <td>1</td>\n",
       "      <td>0</td>\n",
       "      <td>0</td>\n",
       "      <td>0</td>\n",
       "      <td>Sunday</td>\n",
       "      <td>MAA</td>\n",
       "    </tr>\n",
       "    <tr>\n",
       "      <th>4</th>\n",
       "      <td>6F97V9</td>\n",
       "      <td>0</td>\n",
       "      <td>7/20/2012</td>\n",
       "      <td>7/20/2012</td>\n",
       "      <td>0</td>\n",
       "      <td>7/20/2012</td>\n",
       "      <td>0</td>\n",
       "      <td>0</td>\n",
       "      <td>0.00</td>\n",
       "      <td>0.0</td>\n",
       "      <td>30</td>\n",
       "      <td>0</td>\n",
       "      <td>1</td>\n",
       "      <td>0</td>\n",
       "      <td>0</td>\n",
       "      <td>0</td>\n",
       "      <td>Sunday</td>\n",
       "      <td>MAA</td>\n",
       "    </tr>\n",
       "  </tbody>\n",
       "</table>\n",
       "</div>"
      ],
      "text/plain": [
       "   custid  retained    created firstorder  register_to_order  lastorder  \\\n",
       "0  4PL8PJ         0  7/20/2012  7/20/2012                  0  7/20/2012   \n",
       "1  EWWSX3         0  7/20/2012  7/20/2012                  0  7/20/2012   \n",
       "2  AA5UR5         1  7/20/2012  7/20/2012                  0  7/20/2012   \n",
       "3  JKN7DR         1  7/20/2012  7/20/2012                  0  7/20/2012   \n",
       "4  6F97V9         0  7/20/2012  7/20/2012                  0  7/20/2012   \n",
       "\n",
       "   first_to_last_order  esent  eopenrate  eclickrate  avgorder  ordfreq  \\\n",
       "0                    0      0       0.00         0.0        31        0   \n",
       "1                    0      0       0.00         0.0        35        0   \n",
       "2                    0     37       5.41         0.0        51        0   \n",
       "3                    0     36       0.00         0.0        62        0   \n",
       "4                    0      0       0.00         0.0        30        0   \n",
       "\n",
       "    Number of orders   paperless  refill  doorstep  favday city  \n",
       "0                   1          0       0         0  Sunday  MAA  \n",
       "1                   1          0       0         0  Sunday  MAA  \n",
       "2                   1          0       0         0  Sunday  BLR  \n",
       "3                   1          0       0         0  Sunday  MAA  \n",
       "4                   1          0       0         0  Sunday  MAA  "
      ]
     },
     "execution_count": 164,
     "metadata": {},
     "output_type": "execute_result"
    }
   ],
   "source": [
    "#to check first 5 records\n",
    "cr.head()"
   ]
  },
  {
   "cell_type": "code",
   "execution_count": 165,
   "metadata": {},
   "outputs": [
    {
     "data": {
      "text/html": [
       "<div>\n",
       "<style scoped>\n",
       "    .dataframe tbody tr th:only-of-type {\n",
       "        vertical-align: middle;\n",
       "    }\n",
       "\n",
       "    .dataframe tbody tr th {\n",
       "        vertical-align: top;\n",
       "    }\n",
       "\n",
       "    .dataframe thead th {\n",
       "        text-align: right;\n",
       "    }\n",
       "</style>\n",
       "<table border=\"1\" class=\"dataframe\">\n",
       "  <thead>\n",
       "    <tr style=\"text-align: right;\">\n",
       "      <th></th>\n",
       "      <th>custid</th>\n",
       "      <th>retained</th>\n",
       "      <th>created</th>\n",
       "      <th>firstorder</th>\n",
       "      <th>register_to_order</th>\n",
       "      <th>lastorder</th>\n",
       "      <th>first_to_last_order</th>\n",
       "      <th>esent</th>\n",
       "      <th>eopenrate</th>\n",
       "      <th>eclickrate</th>\n",
       "      <th>avgorder</th>\n",
       "      <th>ordfreq</th>\n",
       "      <th>Number of orders</th>\n",
       "      <th>paperless</th>\n",
       "      <th>refill</th>\n",
       "      <th>doorstep</th>\n",
       "      <th>favday</th>\n",
       "      <th>city</th>\n",
       "    </tr>\n",
       "  </thead>\n",
       "  <tbody>\n",
       "    <tr>\n",
       "      <th>30767</th>\n",
       "      <td>TL9BZS</td>\n",
       "      <td>1</td>\n",
       "      <td>10/31/2009</td>\n",
       "      <td>1/4/2014</td>\n",
       "      <td>1526</td>\n",
       "      <td>1/4/2014</td>\n",
       "      <td>0</td>\n",
       "      <td>18</td>\n",
       "      <td>50.00</td>\n",
       "      <td>5.56</td>\n",
       "      <td>51</td>\n",
       "      <td>0</td>\n",
       "      <td>1</td>\n",
       "      <td>0</td>\n",
       "      <td>0</td>\n",
       "      <td>0</td>\n",
       "      <td>Monday</td>\n",
       "      <td>DEL</td>\n",
       "    </tr>\n",
       "    <tr>\n",
       "      <th>30768</th>\n",
       "      <td>LLX2PU</td>\n",
       "      <td>1</td>\n",
       "      <td>7/9/2009</td>\n",
       "      <td>9/24/2013</td>\n",
       "      <td>1538</td>\n",
       "      <td>9/24/2013</td>\n",
       "      <td>0</td>\n",
       "      <td>45</td>\n",
       "      <td>6.67</td>\n",
       "      <td>0.00</td>\n",
       "      <td>90</td>\n",
       "      <td>0</td>\n",
       "      <td>1</td>\n",
       "      <td>0</td>\n",
       "      <td>0</td>\n",
       "      <td>0</td>\n",
       "      <td>Wednesday</td>\n",
       "      <td>DEL</td>\n",
       "    </tr>\n",
       "    <tr>\n",
       "      <th>30769</th>\n",
       "      <td>79VFJW</td>\n",
       "      <td>1</td>\n",
       "      <td>4/11/2009</td>\n",
       "      <td>10/18/2013</td>\n",
       "      <td>1651</td>\n",
       "      <td>1/19/2014</td>\n",
       "      <td>93</td>\n",
       "      <td>36</td>\n",
       "      <td>8.33</td>\n",
       "      <td>0.00</td>\n",
       "      <td>58</td>\n",
       "      <td>0</td>\n",
       "      <td>6</td>\n",
       "      <td>0</td>\n",
       "      <td>0</td>\n",
       "      <td>0</td>\n",
       "      <td>Monday</td>\n",
       "      <td>DEL</td>\n",
       "    </tr>\n",
       "    <tr>\n",
       "      <th>30770</th>\n",
       "      <td>DVRL7B</td>\n",
       "      <td>1</td>\n",
       "      <td>10/7/2008</td>\n",
       "      <td>1/4/2014</td>\n",
       "      <td>1915</td>\n",
       "      <td>1/4/2014</td>\n",
       "      <td>0</td>\n",
       "      <td>9</td>\n",
       "      <td>88.89</td>\n",
       "      <td>11.11</td>\n",
       "      <td>48</td>\n",
       "      <td>0</td>\n",
       "      <td>1</td>\n",
       "      <td>1</td>\n",
       "      <td>0</td>\n",
       "      <td>0</td>\n",
       "      <td>Saturday</td>\n",
       "      <td>DEL</td>\n",
       "    </tr>\n",
       "    <tr>\n",
       "      <th>30771</th>\n",
       "      <td>5EKGJ7</td>\n",
       "      <td>1</td>\n",
       "      <td>7/22/2008</td>\n",
       "      <td>1/10/2014</td>\n",
       "      <td>1998</td>\n",
       "      <td>1/10/2014</td>\n",
       "      <td>0</td>\n",
       "      <td>31</td>\n",
       "      <td>16.13</td>\n",
       "      <td>6.45</td>\n",
       "      <td>35</td>\n",
       "      <td>0</td>\n",
       "      <td>1</td>\n",
       "      <td>0</td>\n",
       "      <td>0</td>\n",
       "      <td>0</td>\n",
       "      <td>Friday</td>\n",
       "      <td>DEL</td>\n",
       "    </tr>\n",
       "  </tbody>\n",
       "</table>\n",
       "</div>"
      ],
      "text/plain": [
       "       custid  retained     created  firstorder  register_to_order  lastorder  \\\n",
       "30767  TL9BZS         1  10/31/2009    1/4/2014               1526   1/4/2014   \n",
       "30768  LLX2PU         1    7/9/2009   9/24/2013               1538  9/24/2013   \n",
       "30769  79VFJW         1   4/11/2009  10/18/2013               1651  1/19/2014   \n",
       "30770  DVRL7B         1   10/7/2008    1/4/2014               1915   1/4/2014   \n",
       "30771  5EKGJ7         1   7/22/2008   1/10/2014               1998  1/10/2014   \n",
       "\n",
       "       first_to_last_order  esent  eopenrate  eclickrate  avgorder  ordfreq  \\\n",
       "30767                    0     18      50.00        5.56        51        0   \n",
       "30768                    0     45       6.67        0.00        90        0   \n",
       "30769                   93     36       8.33        0.00        58        0   \n",
       "30770                    0      9      88.89       11.11        48        0   \n",
       "30771                    0     31      16.13        6.45        35        0   \n",
       "\n",
       "        Number of orders   paperless  refill  doorstep     favday city  \n",
       "30767                   1          0       0         0     Monday  DEL  \n",
       "30768                   1          0       0         0  Wednesday  DEL  \n",
       "30769                   6          0       0         0     Monday  DEL  \n",
       "30770                   1          1       0         0   Saturday  DEL  \n",
       "30771                   1          0       0         0     Friday  DEL  "
      ]
     },
     "execution_count": 165,
     "metadata": {},
     "output_type": "execute_result"
    }
   ],
   "source": [
    "#to check last few records\n",
    "cr.tail()"
   ]
  },
  {
   "cell_type": "code",
   "execution_count": 166,
   "metadata": {},
   "outputs": [
    {
     "data": {
      "text/plain": [
       "custid                  object\n",
       "retained                 int64\n",
       "created                 object\n",
       "firstorder              object\n",
       "register_to_order        int64\n",
       "lastorder               object\n",
       "first_to_last_order      int64\n",
       "esent                    int64\n",
       "eopenrate              float64\n",
       "eclickrate             float64\n",
       "avgorder                 int64\n",
       "ordfreq                  int64\n",
       " Number of orders        int64\n",
       "paperless                int64\n",
       "refill                   int64\n",
       "doorstep                 int64\n",
       "favday                  object\n",
       "city                    object\n",
       "dtype: object"
      ]
     },
     "execution_count": 166,
     "metadata": {},
     "output_type": "execute_result"
    }
   ],
   "source": [
    "#to check the data types of each attribute\n",
    "cr.dtypes"
   ]
  },
  {
   "cell_type": "code",
   "execution_count": 167,
   "metadata": {},
   "outputs": [
    {
     "data": {
      "text/plain": [
       "custid                 0\n",
       "retained               0\n",
       "created                0\n",
       "firstorder             0\n",
       "register_to_order      0\n",
       "lastorder              0\n",
       "first_to_last_order    0\n",
       "esent                  0\n",
       "eopenrate              0\n",
       "eclickrate             0\n",
       "avgorder               0\n",
       "ordfreq                0\n",
       " Number of orders      0\n",
       "paperless              0\n",
       "refill                 0\n",
       "doorstep               0\n",
       "favday                 0\n",
       "city                   0\n",
       "dtype: int64"
      ]
     },
     "execution_count": 167,
     "metadata": {},
     "output_type": "execute_result"
    }
   ],
   "source": [
    "#to check for number of null values in each attribute\n",
    "cr.isna().sum()"
   ]
  },
  {
   "cell_type": "code",
   "execution_count": 168,
   "metadata": {},
   "outputs": [
    {
     "data": {
      "text/html": [
       "<div>\n",
       "<style scoped>\n",
       "    .dataframe tbody tr th:only-of-type {\n",
       "        vertical-align: middle;\n",
       "    }\n",
       "\n",
       "    .dataframe tbody tr th {\n",
       "        vertical-align: top;\n",
       "    }\n",
       "\n",
       "    .dataframe thead th {\n",
       "        text-align: right;\n",
       "    }\n",
       "</style>\n",
       "<table border=\"1\" class=\"dataframe\">\n",
       "  <thead>\n",
       "    <tr style=\"text-align: right;\">\n",
       "      <th></th>\n",
       "      <th>retained</th>\n",
       "      <th>register_to_order</th>\n",
       "      <th>first_to_last_order</th>\n",
       "      <th>esent</th>\n",
       "      <th>eopenrate</th>\n",
       "      <th>eclickrate</th>\n",
       "      <th>avgorder</th>\n",
       "      <th>ordfreq</th>\n",
       "      <th>Number of orders</th>\n",
       "      <th>paperless</th>\n",
       "      <th>refill</th>\n",
       "      <th>doorstep</th>\n",
       "    </tr>\n",
       "  </thead>\n",
       "  <tbody>\n",
       "    <tr>\n",
       "      <th>count</th>\n",
       "      <td>30772.000000</td>\n",
       "      <td>30772.000000</td>\n",
       "      <td>30772.000000</td>\n",
       "      <td>30772.000000</td>\n",
       "      <td>30772.000000</td>\n",
       "      <td>30772.000000</td>\n",
       "      <td>30772.000000</td>\n",
       "      <td>30772.000000</td>\n",
       "      <td>30772.000000</td>\n",
       "      <td>30772.000000</td>\n",
       "      <td>30772.000000</td>\n",
       "      <td>30772.000000</td>\n",
       "    </tr>\n",
       "    <tr>\n",
       "      <th>mean</th>\n",
       "      <td>0.794586</td>\n",
       "      <td>41.722670</td>\n",
       "      <td>90.508937</td>\n",
       "      <td>28.138568</td>\n",
       "      <td>25.554381</td>\n",
       "      <td>5.671762</td>\n",
       "      <td>61.837482</td>\n",
       "      <td>0.007019</td>\n",
       "      <td>4.633108</td>\n",
       "      <td>0.649129</td>\n",
       "      <td>0.095021</td>\n",
       "      <td>0.038931</td>\n",
       "    </tr>\n",
       "    <tr>\n",
       "      <th>std</th>\n",
       "      <td>0.404010</td>\n",
       "      <td>125.642378</td>\n",
       "      <td>223.107718</td>\n",
       "      <td>16.750336</td>\n",
       "      <td>29.558129</td>\n",
       "      <td>10.563580</td>\n",
       "      <td>40.950866</td>\n",
       "      <td>0.096826</td>\n",
       "      <td>12.525342</td>\n",
       "      <td>0.477250</td>\n",
       "      <td>0.293249</td>\n",
       "      <td>0.193435</td>\n",
       "    </tr>\n",
       "    <tr>\n",
       "      <th>min</th>\n",
       "      <td>0.000000</td>\n",
       "      <td>0.000000</td>\n",
       "      <td>0.000000</td>\n",
       "      <td>0.000000</td>\n",
       "      <td>0.000000</td>\n",
       "      <td>0.000000</td>\n",
       "      <td>0.000000</td>\n",
       "      <td>0.000000</td>\n",
       "      <td>1.000000</td>\n",
       "      <td>0.000000</td>\n",
       "      <td>0.000000</td>\n",
       "      <td>0.000000</td>\n",
       "    </tr>\n",
       "    <tr>\n",
       "      <th>25%</th>\n",
       "      <td>1.000000</td>\n",
       "      <td>0.000000</td>\n",
       "      <td>0.000000</td>\n",
       "      <td>16.000000</td>\n",
       "      <td>2.080000</td>\n",
       "      <td>0.000000</td>\n",
       "      <td>40.000000</td>\n",
       "      <td>0.000000</td>\n",
       "      <td>1.000000</td>\n",
       "      <td>0.000000</td>\n",
       "      <td>0.000000</td>\n",
       "      <td>0.000000</td>\n",
       "    </tr>\n",
       "    <tr>\n",
       "      <th>50%</th>\n",
       "      <td>1.000000</td>\n",
       "      <td>1.000000</td>\n",
       "      <td>0.000000</td>\n",
       "      <td>32.000000</td>\n",
       "      <td>13.185000</td>\n",
       "      <td>0.000000</td>\n",
       "      <td>51.000000</td>\n",
       "      <td>0.000000</td>\n",
       "      <td>1.000000</td>\n",
       "      <td>1.000000</td>\n",
       "      <td>0.000000</td>\n",
       "      <td>0.000000</td>\n",
       "    </tr>\n",
       "    <tr>\n",
       "      <th>75%</th>\n",
       "      <td>1.000000</td>\n",
       "      <td>22.000000</td>\n",
       "      <td>46.000000</td>\n",
       "      <td>42.000000</td>\n",
       "      <td>40.000000</td>\n",
       "      <td>7.140000</td>\n",
       "      <td>74.000000</td>\n",
       "      <td>0.000000</td>\n",
       "      <td>3.000000</td>\n",
       "      <td>1.000000</td>\n",
       "      <td>0.000000</td>\n",
       "      <td>0.000000</td>\n",
       "    </tr>\n",
       "    <tr>\n",
       "      <th>max</th>\n",
       "      <td>1.000000</td>\n",
       "      <td>1998.000000</td>\n",
       "      <td>1985.000000</td>\n",
       "      <td>291.000000</td>\n",
       "      <td>100.000000</td>\n",
       "      <td>100.000000</td>\n",
       "      <td>2600.000000</td>\n",
       "      <td>3.000000</td>\n",
       "      <td>257.000000</td>\n",
       "      <td>1.000000</td>\n",
       "      <td>1.000000</td>\n",
       "      <td>1.000000</td>\n",
       "    </tr>\n",
       "  </tbody>\n",
       "</table>\n",
       "</div>"
      ],
      "text/plain": [
       "           retained  register_to_order  first_to_last_order         esent  \\\n",
       "count  30772.000000       30772.000000         30772.000000  30772.000000   \n",
       "mean       0.794586          41.722670            90.508937     28.138568   \n",
       "std        0.404010         125.642378           223.107718     16.750336   \n",
       "min        0.000000           0.000000             0.000000      0.000000   \n",
       "25%        1.000000           0.000000             0.000000     16.000000   \n",
       "50%        1.000000           1.000000             0.000000     32.000000   \n",
       "75%        1.000000          22.000000            46.000000     42.000000   \n",
       "max        1.000000        1998.000000          1985.000000    291.000000   \n",
       "\n",
       "          eopenrate    eclickrate      avgorder       ordfreq  \\\n",
       "count  30772.000000  30772.000000  30772.000000  30772.000000   \n",
       "mean      25.554381      5.671762     61.837482      0.007019   \n",
       "std       29.558129     10.563580     40.950866      0.096826   \n",
       "min        0.000000      0.000000      0.000000      0.000000   \n",
       "25%        2.080000      0.000000     40.000000      0.000000   \n",
       "50%       13.185000      0.000000     51.000000      0.000000   \n",
       "75%       40.000000      7.140000     74.000000      0.000000   \n",
       "max      100.000000    100.000000   2600.000000      3.000000   \n",
       "\n",
       "        Number of orders      paperless        refill      doorstep  \n",
       "count        30772.000000  30772.000000  30772.000000  30772.000000  \n",
       "mean             4.633108      0.649129      0.095021      0.038931  \n",
       "std             12.525342      0.477250      0.293249      0.193435  \n",
       "min              1.000000      0.000000      0.000000      0.000000  \n",
       "25%              1.000000      0.000000      0.000000      0.000000  \n",
       "50%              1.000000      1.000000      0.000000      0.000000  \n",
       "75%              3.000000      1.000000      0.000000      0.000000  \n",
       "max            257.000000      1.000000      1.000000      1.000000  "
      ]
     },
     "execution_count": 168,
     "metadata": {},
     "output_type": "execute_result"
    }
   ],
   "source": [
    "#to check the statistics of each attribute\n",
    "cr.describe()"
   ]
  },
  {
   "cell_type": "code",
   "execution_count": 169,
   "metadata": {},
   "outputs": [
    {
     "name": "stdout",
     "output_type": "stream",
     "text": [
      "Number of duplicate rows:  0\n"
     ]
    }
   ],
   "source": [
    "#to check for duplicate records in the data\n",
    "duplicate = cr[cr.duplicated()]\n",
    "print(\"Number of duplicate rows: \", duplicate.shape[0]) #Printing number of duplicates"
   ]
  },
  {
   "cell_type": "markdown",
   "metadata": {},
   "source": [
    "## Building a barplot of overall customer retention status"
   ]
  },
  {
   "cell_type": "code",
   "execution_count": 188,
   "metadata": {},
   "outputs": [
    {
     "data": {
      "image/png": "[encoded data removed]",
      "text/plain": [
       "<Figure size 648x648 with 1 Axes>"
      ]
     },
     "metadata": {
      "needs_background": "light"
     },
     "output_type": "display_data"
    }
   ],
   "source": [
    "#building a barplot of overall customer retention status\n",
    "plt.figure(figsize=(9,9))\n",
    "ax = sns.countplot('retained',data=cr)\n",
    "plt.title(\"Overall Customer Retention\")\n",
    "plt.xlabel(\"Retention Status\")\n",
    "plt.ylabel(\"Number of Customers\")\n",
    "for p in ax.patches:\n",
    "    ax.text(p.get_x() + p.get_width()/2., p.get_height(), '%d' % int(p.get_height()), \n",
    "            fontsize=12, color='red', ha='center', va='bottom')    \n",
    "\n",
    "#majority of the records have retained customers"
   ]
  },
  {
   "cell_type": "markdown",
   "metadata": {},
   "source": [
    "### ~80% of the customers are assumed to be active in the system"
   ]
  },
  {
   "cell_type": "markdown",
   "metadata": {},
   "source": [
    "## Building a barplot of customer preference for 'paperless' of retained and unretained customers"
   ]
  },
  {
   "cell_type": "code",
   "execution_count": 189,
   "metadata": {},
   "outputs": [
    {
     "data": {
      "image/png": "[encoded data removed]",
      "text/plain": [
       "<Figure size 648x648 with 1 Axes>"
      ]
     },
     "metadata": {
      "needs_background": "light"
     },
     "output_type": "display_data"
    }
   ],
   "source": [
    "#building a barplot of customer preference for 'paperless' of retained and unretained customers\n",
    "plt.figure(figsize=(9,9))\n",
    "ax = sns.countplot('retained',hue= 'paperless',data=cr,palette='winter')\n",
    "ax.legend(loc='center right', bbox_to_anchor=(1.25, 0.5), ncol=1)\n",
    "plt.title(\"Customer Retention based on Paperless Preference\")\n",
    "plt.xlabel(\"Retention Status\")\n",
    "plt.ylabel(\"Number of Customers\")\n",
    "for p in ax.patches:\n",
    "    ax.text(p.get_x() + p.get_width()/2., p.get_height(), '%d' % int(p.get_height()), \n",
    "            fontsize=12, color='red', ha='center', va='bottom')    \n",
    "    \n",
    "#majority of unretained customers did not prefer 'paperless'\n",
    "#while majority of retained customers preferred 'paperless'"
   ]
  },
  {
   "cell_type": "markdown",
   "metadata": {},
   "source": [
    "### Unretained customers who prefer 'paperless' as mode of billing is less as compared to those who did not, while retained customers who preferred 'paperless' is more than double of those who did not"
   ]
  },
  {
   "cell_type": "markdown",
   "metadata": {},
   "source": [
    "## Building a barplot of customer preference for 'refill' of retained and unretained customers"
   ]
  },
  {
   "cell_type": "code",
   "execution_count": 20,
   "metadata": {},
   "outputs": [
    {
     "data": {
      "image/png": "[encoded data removed]",
      "text/plain": [
       "<Figure size 648x648 with 1 Axes>"
      ]
     },
     "metadata": {
      "needs_background": "light"
     },
     "output_type": "display_data"
    }
   ],
   "source": [
    "#building a barplot of customer preference for 'refill' of retained and unretained customers\n",
    "plt.figure(figsize=(9,9))\n",
    "ax = sns.countplot('retained',hue= 'refill',data=cr,palette='summer')\n",
    "ax.legend(loc='center right', bbox_to_anchor=(1.25, 0.5), ncol=1)\n",
    "plt.title(\"Customer Retention based on Refill Preference\")\n",
    "plt.xlabel(\"Retention Status\")\n",
    "plt.ylabel(\"Number of Customers\")\n",
    "for p in ax.patches:\n",
    "    ax.text(p.get_x() + p.get_width()/2., p.get_height(), '%d' % int(p.get_height()), \n",
    "            fontsize=12, color='red', ha='center', va='bottom')    \n",
    "    \n",
    "#majority of the retained as well as unretained customers did not prefer 'refill'"
   ]
  },
  {
   "cell_type": "markdown",
   "metadata": {},
   "source": [
    "### ~12% of retained customers preferred 'refill' where as only ~3% of unretained customers preferred 'refill'"
   ]
  },
  {
   "cell_type": "markdown",
   "metadata": {},
   "source": [
    "## Building a barplot of customer preference for 'doorstep' of retained and unretained customers"
   ]
  },
  {
   "cell_type": "code",
   "execution_count": 21,
   "metadata": {},
   "outputs": [
    {
     "data": {
      "image/png": "[encoded data removed]",
      "text/plain": [
       "<Figure size 648x648 with 1 Axes>"
      ]
     },
     "metadata": {
      "needs_background": "light"
     },
     "output_type": "display_data"
    }
   ],
   "source": [
    "#building a barplot of customer preference for 'doorstep' of retained and unretained customers\n",
    "plt.figure(figsize=(9,9))\n",
    "ax = sns.countplot('retained',hue= 'doorstep',data=cr,palette='autumn')\n",
    "ax.legend(loc='center right', bbox_to_anchor=(1.25, 0.5), ncol=1)\n",
    "plt.title(\"Customer Retention based on Doorstep Preference\")\n",
    "plt.xlabel(\"Retention Status\")\n",
    "plt.ylabel(\"Number of Customers\")\n",
    "for p in ax.patches:\n",
    "    ax.text(p.get_x() + p.get_width()/2., p.get_height(), '%d' % int(p.get_height()), \n",
    "            fontsize=12, color='red', ha='center', va='bottom')    \n",
    "\n",
    "#majority of the retained as well as unretained customers did not prefer 'doorstep delivery'"
   ]
  },
  {
   "cell_type": "markdown",
   "metadata": {},
   "source": [
    "## Only 1.4% of unretained customers and 4.5% of retained customer preferred 'doorstep delivery'"
   ]
  },
  {
   "cell_type": "code",
   "execution_count": 19,
   "metadata": {},
   "outputs": [
    {
     "data": {
      "image/png": "[encoded data removed]",
      "text/plain": [
       "<Figure size 720x504 with 1 Axes>"
      ]
     },
     "metadata": {
      "needs_background": "light"
     },
     "output_type": "display_data"
    }
   ],
   "source": [
    "#building a barplot of customer's city of retained and unretained customers\n",
    "\n",
    "plt.figure(figsize= (10,7))\n",
    "ax = sns.countplot('retained',hue= 'city',data=cr,palette='PRGn_r')\n",
    "ax.legend(loc='center right', bbox_to_anchor=(1.25, 0.5), ncol=1)\n",
    "plt.title(\"Customer Retention based on City\")\n",
    "plt.xlabel(\"Retention Status\")\n",
    "plt.ylabel(\"Number of Customers\")\n",
    "for p in ax.patches:\n",
    "    ax.text(p.get_x() + p.get_width()/2, p.get_height(), '%d' % int(p.get_height()), \n",
    "            fontsize=10, color='red', ha='center', va='bottom') \n",
    "    \n",
    "#most of the retained customers are from Mumbai and maximum unretained customers are from Mumbai too."
   ]
  },
  {
   "cell_type": "markdown",
   "metadata": {},
   "source": [
    "### Majority of the customer base is from Mumbai"
   ]
  },
  {
   "cell_type": "markdown",
   "metadata": {},
   "source": [
    "\n",
    "\n",
    "\n",
    "\n",
    "\n",
    "\n",
    "\n",
    "\n",
    "\n",
    "\n",
    "\n",
    "\n",
    "\n",
    "\n",
    "\n",
    "\n",
    "\n",
    "\n",
    "\n",
    "\n",
    "\n",
    "\n",
    "\n",
    "\n",
    "\n",
    "\n",
    "\n",
    "\n",
    "\n",
    "\n",
    "\n",
    "\n",
    "\n",
    "\n",
    "\n",
    "\n",
    "\n",
    "\n",
    "\n",
    "\n",
    "\n",
    "\n",
    "\n",
    "\n",
    "\n",
    "\n",
    "## To build a heatmap on the correlation between the attributes in the dataset."
   ]
  },
  {
   "cell_type": "code",
   "execution_count": 30,
   "metadata": {},
   "outputs": [],
   "source": [
    "c= cr.corr() "
   ]
  },
  {
   "cell_type": "code",
   "execution_count": 31,
   "metadata": {},
   "outputs": [
    {
     "data": {
      "text/plain": [
       "<AxesSubplot:>"
      ]
     },
     "execution_count": 31,
     "metadata": {},
     "output_type": "execute_result"
    },
    {
     "data": {
      "image/png": "[encoded data removed]",
      "text/plain": [
       "<Figure size 1728x1008 with 2 Axes>"
      ]
     },
     "metadata": {
      "needs_background": "light"
     },
     "output_type": "display_data"
    }
   ],
   "source": [
    "#to build a heatmap on the correlation between the attributes in the dataset.\n",
    "\n",
    "plt.figure(figsize=(24,14))\n",
    "sns.heatmap(c,annot=c,linewidths=.5, cmap='PuBuGn')\n",
    "\n",
    "#the below attributes are correlated considerably:\n",
    "#retained and email sent\n",
    "#first_to_last_orders and number of orders\n",
    "#email open rate and email click rate"
   ]
  },
  {
   "cell_type": "markdown",
   "metadata": {},
   "source": [
    "#### The below attributes are correlated considerably:\n",
    "#### Retained and email sent\n",
    "#### First_to_last_orders and number of orders\n",
    "#### Email open rate and email click rate"
   ]
  },
  {
   "cell_type": "markdown",
   "metadata": {},
   "source": [
    "# RFM Model"
   ]
  },
  {
   "cell_type": "code",
   "execution_count": 172,
   "metadata": {},
   "outputs": [
    {
     "data": {
      "text/html": [
       "<div>\n",
       "<style scoped>\n",
       "    .dataframe tbody tr th:only-of-type {\n",
       "        vertical-align: middle;\n",
       "    }\n",
       "\n",
       "    .dataframe tbody tr th {\n",
       "        vertical-align: top;\n",
       "    }\n",
       "\n",
       "    .dataframe thead th {\n",
       "        text-align: right;\n",
       "    }\n",
       "</style>\n",
       "<table border=\"1\" class=\"dataframe\">\n",
       "  <thead>\n",
       "    <tr style=\"text-align: right;\">\n",
       "      <th></th>\n",
       "      <th>custid</th>\n",
       "      <th>retained</th>\n",
       "      <th>created</th>\n",
       "      <th>firstorder</th>\n",
       "      <th>register_to_order</th>\n",
       "      <th>lastorder</th>\n",
       "      <th>first_to_last_order</th>\n",
       "      <th>esent</th>\n",
       "      <th>eopenrate</th>\n",
       "      <th>eclickrate</th>\n",
       "      <th>avgorder</th>\n",
       "      <th>ordfreq</th>\n",
       "      <th>Number of orders</th>\n",
       "      <th>paperless</th>\n",
       "      <th>refill</th>\n",
       "      <th>doorstep</th>\n",
       "      <th>favday</th>\n",
       "      <th>city</th>\n",
       "    </tr>\n",
       "  </thead>\n",
       "  <tbody>\n",
       "    <tr>\n",
       "      <th>0</th>\n",
       "      <td>4PL8PJ</td>\n",
       "      <td>0</td>\n",
       "      <td>7/20/2012</td>\n",
       "      <td>7/20/2012</td>\n",
       "      <td>0</td>\n",
       "      <td>7/20/2012</td>\n",
       "      <td>0</td>\n",
       "      <td>0</td>\n",
       "      <td>0.00</td>\n",
       "      <td>0.0</td>\n",
       "      <td>31</td>\n",
       "      <td>0</td>\n",
       "      <td>1</td>\n",
       "      <td>0</td>\n",
       "      <td>0</td>\n",
       "      <td>0</td>\n",
       "      <td>Sunday</td>\n",
       "      <td>MAA</td>\n",
       "    </tr>\n",
       "    <tr>\n",
       "      <th>1</th>\n",
       "      <td>EWWSX3</td>\n",
       "      <td>0</td>\n",
       "      <td>7/20/2012</td>\n",
       "      <td>7/20/2012</td>\n",
       "      <td>0</td>\n",
       "      <td>7/20/2012</td>\n",
       "      <td>0</td>\n",
       "      <td>0</td>\n",
       "      <td>0.00</td>\n",
       "      <td>0.0</td>\n",
       "      <td>35</td>\n",
       "      <td>0</td>\n",
       "      <td>1</td>\n",
       "      <td>0</td>\n",
       "      <td>0</td>\n",
       "      <td>0</td>\n",
       "      <td>Sunday</td>\n",
       "      <td>MAA</td>\n",
       "    </tr>\n",
       "    <tr>\n",
       "      <th>2</th>\n",
       "      <td>AA5UR5</td>\n",
       "      <td>1</td>\n",
       "      <td>7/20/2012</td>\n",
       "      <td>7/20/2012</td>\n",
       "      <td>0</td>\n",
       "      <td>7/20/2012</td>\n",
       "      <td>0</td>\n",
       "      <td>37</td>\n",
       "      <td>5.41</td>\n",
       "      <td>0.0</td>\n",
       "      <td>51</td>\n",
       "      <td>0</td>\n",
       "      <td>1</td>\n",
       "      <td>0</td>\n",
       "      <td>0</td>\n",
       "      <td>0</td>\n",
       "      <td>Sunday</td>\n",
       "      <td>BLR</td>\n",
       "    </tr>\n",
       "    <tr>\n",
       "      <th>3</th>\n",
       "      <td>JKN7DR</td>\n",
       "      <td>1</td>\n",
       "      <td>7/20/2012</td>\n",
       "      <td>7/20/2012</td>\n",
       "      <td>0</td>\n",
       "      <td>7/20/2012</td>\n",
       "      <td>0</td>\n",
       "      <td>36</td>\n",
       "      <td>0.00</td>\n",
       "      <td>0.0</td>\n",
       "      <td>62</td>\n",
       "      <td>0</td>\n",
       "      <td>1</td>\n",
       "      <td>0</td>\n",
       "      <td>0</td>\n",
       "      <td>0</td>\n",
       "      <td>Sunday</td>\n",
       "      <td>MAA</td>\n",
       "    </tr>\n",
       "    <tr>\n",
       "      <th>4</th>\n",
       "      <td>6F97V9</td>\n",
       "      <td>0</td>\n",
       "      <td>7/20/2012</td>\n",
       "      <td>7/20/2012</td>\n",
       "      <td>0</td>\n",
       "      <td>7/20/2012</td>\n",
       "      <td>0</td>\n",
       "      <td>0</td>\n",
       "      <td>0.00</td>\n",
       "      <td>0.0</td>\n",
       "      <td>30</td>\n",
       "      <td>0</td>\n",
       "      <td>1</td>\n",
       "      <td>0</td>\n",
       "      <td>0</td>\n",
       "      <td>0</td>\n",
       "      <td>Sunday</td>\n",
       "      <td>MAA</td>\n",
       "    </tr>\n",
       "  </tbody>\n",
       "</table>\n",
       "</div>"
      ],
      "text/plain": [
       "   custid  retained    created firstorder  register_to_order  lastorder  \\\n",
       "0  4PL8PJ         0  7/20/2012  7/20/2012                  0  7/20/2012   \n",
       "1  EWWSX3         0  7/20/2012  7/20/2012                  0  7/20/2012   \n",
       "2  AA5UR5         1  7/20/2012  7/20/2012                  0  7/20/2012   \n",
       "3  JKN7DR         1  7/20/2012  7/20/2012                  0  7/20/2012   \n",
       "4  6F97V9         0  7/20/2012  7/20/2012                  0  7/20/2012   \n",
       "\n",
       "   first_to_last_order  esent  eopenrate  eclickrate  avgorder  ordfreq  \\\n",
       "0                    0      0       0.00         0.0        31        0   \n",
       "1                    0      0       0.00         0.0        35        0   \n",
       "2                    0     37       5.41         0.0        51        0   \n",
       "3                    0     36       0.00         0.0        62        0   \n",
       "4                    0      0       0.00         0.0        30        0   \n",
       "\n",
       "    Number of orders   paperless  refill  doorstep  favday city  \n",
       "0                   1          0       0         0  Sunday  MAA  \n",
       "1                   1          0       0         0  Sunday  MAA  \n",
       "2                   1          0       0         0  Sunday  BLR  \n",
       "3                   1          0       0         0  Sunday  MAA  \n",
       "4                   1          0       0         0  Sunday  MAA  "
      ]
     },
     "execution_count": 172,
     "metadata": {},
     "output_type": "execute_result"
    }
   ],
   "source": [
    "#Import Dataset\n",
    "Rtl_data = cr.copy() # making a copy for encoded new df\n",
    "Rtl_data.head()"
   ]
  },
  {
   "cell_type": "code",
   "execution_count": 173,
   "metadata": {},
   "outputs": [
    {
     "data": {
      "text/plain": [
       "(30772, 18)"
      ]
     },
     "execution_count": 173,
     "metadata": {},
     "output_type": "execute_result"
    }
   ],
   "source": [
    "#Check the shape (number of columns and rows) in the dataset\n",
    "Rtl_data.shape"
   ]
  },
  {
   "cell_type": "code",
   "execution_count": 174,
   "metadata": {},
   "outputs": [
    {
     "data": {
      "text/html": [
       "<div>\n",
       "<style scoped>\n",
       "    .dataframe tbody tr th:only-of-type {\n",
       "        vertical-align: middle;\n",
       "    }\n",
       "\n",
       "    .dataframe tbody tr th {\n",
       "        vertical-align: top;\n",
       "    }\n",
       "\n",
       "    .dataframe thead th {\n",
       "        text-align: right;\n",
       "    }\n",
       "</style>\n",
       "<table border=\"1\" class=\"dataframe\">\n",
       "  <thead>\n",
       "    <tr style=\"text-align: right;\">\n",
       "      <th></th>\n",
       "      <th>city</th>\n",
       "      <th>custid</th>\n",
       "    </tr>\n",
       "  </thead>\n",
       "  <tbody>\n",
       "    <tr>\n",
       "      <th>1</th>\n",
       "      <td>BOM</td>\n",
       "      <td>11550</td>\n",
       "    </tr>\n",
       "    <tr>\n",
       "      <th>2</th>\n",
       "      <td>DEL</td>\n",
       "      <td>8778</td>\n",
       "    </tr>\n",
       "    <tr>\n",
       "      <th>3</th>\n",
       "      <td>MAA</td>\n",
       "      <td>8739</td>\n",
       "    </tr>\n",
       "    <tr>\n",
       "      <th>0</th>\n",
       "      <td>BLR</td>\n",
       "      <td>1696</td>\n",
       "    </tr>\n",
       "  </tbody>\n",
       "</table>\n",
       "</div>"
      ],
      "text/plain": [
       "  city  custid\n",
       "1  BOM   11550\n",
       "2  DEL    8778\n",
       "3  MAA    8739\n",
       "0  BLR    1696"
      ]
     },
     "execution_count": 174,
     "metadata": {},
     "output_type": "execute_result"
    }
   ],
   "source": [
    "#Customer distribution by city\n",
    "country_cust_data=Rtl_data[['city','custid']].drop_duplicates()\n",
    "country_cust_data.groupby(['city'])['custid'].aggregate('count').reset_index().sort_values('custid', ascending=False)"
   ]
  },
  {
   "cell_type": "code",
   "execution_count": 175,
   "metadata": {},
   "outputs": [
    {
     "data": {
      "text/plain": [
       "custid                 0\n",
       "retained               0\n",
       "created                0\n",
       "firstorder             0\n",
       "register_to_order      0\n",
       "lastorder              0\n",
       "first_to_last_order    0\n",
       "esent                  0\n",
       "eopenrate              0\n",
       "eclickrate             0\n",
       "avgorder               0\n",
       "ordfreq                0\n",
       " Number of orders      0\n",
       "paperless              0\n",
       "refill                 0\n",
       "doorstep               0\n",
       "favday                 0\n",
       "city                   0\n",
       "dtype: int64"
      ]
     },
     "execution_count": 175,
     "metadata": {},
     "output_type": "execute_result"
    }
   ],
   "source": [
    "#Check for missing values in the dataset\n",
    "Rtl_data.isnull().sum(axis=0)"
   ]
  },
  {
   "cell_type": "markdown",
   "metadata": {},
   "source": [
    "##### Validate if there are any negative values in lastorder column"
   ]
  },
  {
   "cell_type": "code",
   "execution_count": 176,
   "metadata": {},
   "outputs": [
    {
     "data": {
      "text/plain": [
       "'1/1/2011'"
      ]
     },
     "execution_count": 176,
     "metadata": {},
     "output_type": "execute_result"
    }
   ],
   "source": [
    "#Validate if there are any negative values in lastorder column\n",
    "Rtl_data.lastorder.min()"
   ]
  },
  {
   "cell_type": "markdown",
   "metadata": {},
   "source": [
    "##### Validate if there are any negative values in ordfreq column"
   ]
  },
  {
   "cell_type": "code",
   "execution_count": 177,
   "metadata": {},
   "outputs": [
    {
     "data": {
      "text/plain": [
       "0"
      ]
     },
     "execution_count": 177,
     "metadata": {},
     "output_type": "execute_result"
    }
   ],
   "source": [
    "#Validate if there are any negative values in ordfreq column\n",
    "Rtl_data.ordfreq.min()"
   ]
  },
  {
   "cell_type": "markdown",
   "metadata": {},
   "source": [
    "##### Convert the string date field to datetime"
   ]
  },
  {
   "cell_type": "code",
   "execution_count": 178,
   "metadata": {},
   "outputs": [],
   "source": [
    "#Convert the string date field to datetime\n",
    "Rtl_data['lastorder'] = pd.to_datetime(Rtl_data['lastorder'])"
   ]
  },
  {
   "cell_type": "code",
   "execution_count": 179,
   "metadata": {},
   "outputs": [
    {
     "data": {
      "text/html": [
       "<div>\n",
       "<style scoped>\n",
       "    .dataframe tbody tr th:only-of-type {\n",
       "        vertical-align: middle;\n",
       "    }\n",
       "\n",
       "    .dataframe tbody tr th {\n",
       "        vertical-align: top;\n",
       "    }\n",
       "\n",
       "    .dataframe thead th {\n",
       "        text-align: right;\n",
       "    }\n",
       "</style>\n",
       "<table border=\"1\" class=\"dataframe\">\n",
       "  <thead>\n",
       "    <tr style=\"text-align: right;\">\n",
       "      <th></th>\n",
       "      <th>custid</th>\n",
       "      <th>retained</th>\n",
       "      <th>created</th>\n",
       "      <th>firstorder</th>\n",
       "      <th>register_to_order</th>\n",
       "      <th>lastorder</th>\n",
       "      <th>first_to_last_order</th>\n",
       "      <th>esent</th>\n",
       "      <th>eopenrate</th>\n",
       "      <th>eclickrate</th>\n",
       "      <th>avgorder</th>\n",
       "      <th>ordfreq</th>\n",
       "      <th>Number of orders</th>\n",
       "      <th>paperless</th>\n",
       "      <th>refill</th>\n",
       "      <th>doorstep</th>\n",
       "      <th>favday</th>\n",
       "      <th>city</th>\n",
       "    </tr>\n",
       "  </thead>\n",
       "  <tbody>\n",
       "    <tr>\n",
       "      <th>0</th>\n",
       "      <td>4PL8PJ</td>\n",
       "      <td>0</td>\n",
       "      <td>7/20/2012</td>\n",
       "      <td>7/20/2012</td>\n",
       "      <td>0</td>\n",
       "      <td>2012-07-20</td>\n",
       "      <td>0</td>\n",
       "      <td>0</td>\n",
       "      <td>0.00</td>\n",
       "      <td>0.0</td>\n",
       "      <td>31</td>\n",
       "      <td>0</td>\n",
       "      <td>1</td>\n",
       "      <td>0</td>\n",
       "      <td>0</td>\n",
       "      <td>0</td>\n",
       "      <td>Sunday</td>\n",
       "      <td>MAA</td>\n",
       "    </tr>\n",
       "    <tr>\n",
       "      <th>1</th>\n",
       "      <td>EWWSX3</td>\n",
       "      <td>0</td>\n",
       "      <td>7/20/2012</td>\n",
       "      <td>7/20/2012</td>\n",
       "      <td>0</td>\n",
       "      <td>2012-07-20</td>\n",
       "      <td>0</td>\n",
       "      <td>0</td>\n",
       "      <td>0.00</td>\n",
       "      <td>0.0</td>\n",
       "      <td>35</td>\n",
       "      <td>0</td>\n",
       "      <td>1</td>\n",
       "      <td>0</td>\n",
       "      <td>0</td>\n",
       "      <td>0</td>\n",
       "      <td>Sunday</td>\n",
       "      <td>MAA</td>\n",
       "    </tr>\n",
       "    <tr>\n",
       "      <th>2</th>\n",
       "      <td>AA5UR5</td>\n",
       "      <td>1</td>\n",
       "      <td>7/20/2012</td>\n",
       "      <td>7/20/2012</td>\n",
       "      <td>0</td>\n",
       "      <td>2012-07-20</td>\n",
       "      <td>0</td>\n",
       "      <td>37</td>\n",
       "      <td>5.41</td>\n",
       "      <td>0.0</td>\n",
       "      <td>51</td>\n",
       "      <td>0</td>\n",
       "      <td>1</td>\n",
       "      <td>0</td>\n",
       "      <td>0</td>\n",
       "      <td>0</td>\n",
       "      <td>Sunday</td>\n",
       "      <td>BLR</td>\n",
       "    </tr>\n",
       "    <tr>\n",
       "      <th>3</th>\n",
       "      <td>JKN7DR</td>\n",
       "      <td>1</td>\n",
       "      <td>7/20/2012</td>\n",
       "      <td>7/20/2012</td>\n",
       "      <td>0</td>\n",
       "      <td>2012-07-20</td>\n",
       "      <td>0</td>\n",
       "      <td>36</td>\n",
       "      <td>0.00</td>\n",
       "      <td>0.0</td>\n",
       "      <td>62</td>\n",
       "      <td>0</td>\n",
       "      <td>1</td>\n",
       "      <td>0</td>\n",
       "      <td>0</td>\n",
       "      <td>0</td>\n",
       "      <td>Sunday</td>\n",
       "      <td>MAA</td>\n",
       "    </tr>\n",
       "    <tr>\n",
       "      <th>4</th>\n",
       "      <td>6F97V9</td>\n",
       "      <td>0</td>\n",
       "      <td>7/20/2012</td>\n",
       "      <td>7/20/2012</td>\n",
       "      <td>0</td>\n",
       "      <td>2012-07-20</td>\n",
       "      <td>0</td>\n",
       "      <td>0</td>\n",
       "      <td>0.00</td>\n",
       "      <td>0.0</td>\n",
       "      <td>30</td>\n",
       "      <td>0</td>\n",
       "      <td>1</td>\n",
       "      <td>0</td>\n",
       "      <td>0</td>\n",
       "      <td>0</td>\n",
       "      <td>Sunday</td>\n",
       "      <td>MAA</td>\n",
       "    </tr>\n",
       "  </tbody>\n",
       "</table>\n",
       "</div>"
      ],
      "text/plain": [
       "   custid  retained    created firstorder  register_to_order  lastorder  \\\n",
       "0  4PL8PJ         0  7/20/2012  7/20/2012                  0 2012-07-20   \n",
       "1  EWWSX3         0  7/20/2012  7/20/2012                  0 2012-07-20   \n",
       "2  AA5UR5         1  7/20/2012  7/20/2012                  0 2012-07-20   \n",
       "3  JKN7DR         1  7/20/2012  7/20/2012                  0 2012-07-20   \n",
       "4  6F97V9         0  7/20/2012  7/20/2012                  0 2012-07-20   \n",
       "\n",
       "   first_to_last_order  esent  eopenrate  eclickrate  avgorder  ordfreq  \\\n",
       "0                    0      0       0.00         0.0        31        0   \n",
       "1                    0      0       0.00         0.0        35        0   \n",
       "2                    0     37       5.41         0.0        51        0   \n",
       "3                    0     36       0.00         0.0        62        0   \n",
       "4                    0      0       0.00         0.0        30        0   \n",
       "\n",
       "    Number of orders   paperless  refill  doorstep  favday city  \n",
       "0                   1          0       0         0  Sunday  MAA  \n",
       "1                   1          0       0         0  Sunday  MAA  \n",
       "2                   1          0       0         0  Sunday  BLR  \n",
       "3                   1          0       0         0  Sunday  MAA  \n",
       "4                   1          0       0         0  Sunday  MAA  "
      ]
     },
     "execution_count": 179,
     "metadata": {},
     "output_type": "execute_result"
    }
   ],
   "source": [
    "Rtl_data.head()"
   ]
  },
  {
   "cell_type": "markdown",
   "metadata": {},
   "source": [
    "#### Validate if there are any max values in lastorder column"
   ]
  },
  {
   "cell_type": "code",
   "execution_count": 180,
   "metadata": {},
   "outputs": [
    {
     "data": {
      "text/plain": [
       "Timestamp('2018-01-21 00:00:00')"
      ]
     },
     "execution_count": 180,
     "metadata": {},
     "output_type": "execute_result"
    }
   ],
   "source": [
    "#Validate if there are any max values in lastorder column\n",
    "Rtl_data.lastorder.max()"
   ]
  },
  {
   "cell_type": "markdown",
   "metadata": {},
   "source": [
    "#### Calculating Recency, Frequency & Monetary"
   ]
  },
  {
   "cell_type": "code",
   "execution_count": 181,
   "metadata": {},
   "outputs": [
    {
     "data": {
      "text/html": [
       "<div>\n",
       "<style scoped>\n",
       "    .dataframe tbody tr th:only-of-type {\n",
       "        vertical-align: middle;\n",
       "    }\n",
       "\n",
       "    .dataframe tbody tr th {\n",
       "        vertical-align: top;\n",
       "    }\n",
       "\n",
       "    .dataframe thead th {\n",
       "        text-align: right;\n",
       "    }\n",
       "</style>\n",
       "<table border=\"1\" class=\"dataframe\">\n",
       "  <thead>\n",
       "    <tr style=\"text-align: right;\">\n",
       "      <th></th>\n",
       "      <th>custid</th>\n",
       "      <th>Recency</th>\n",
       "      <th>Frequency</th>\n",
       "      <th>Monetary</th>\n",
       "    </tr>\n",
       "  </thead>\n",
       "  <tbody>\n",
       "    <tr>\n",
       "      <th>0</th>\n",
       "      <td>2229GF</td>\n",
       "      <td>1564</td>\n",
       "      <td>1</td>\n",
       "      <td>41</td>\n",
       "    </tr>\n",
       "    <tr>\n",
       "      <th>1</th>\n",
       "      <td>223KBA</td>\n",
       "      <td>1508</td>\n",
       "      <td>1</td>\n",
       "      <td>40</td>\n",
       "    </tr>\n",
       "    <tr>\n",
       "      <th>2</th>\n",
       "      <td>22476K</td>\n",
       "      <td>1594</td>\n",
       "      <td>1</td>\n",
       "      <td>40</td>\n",
       "    </tr>\n",
       "    <tr>\n",
       "      <th>3</th>\n",
       "      <td>224L8Q</td>\n",
       "      <td>1552</td>\n",
       "      <td>1</td>\n",
       "      <td>52</td>\n",
       "    </tr>\n",
       "    <tr>\n",
       "      <th>4</th>\n",
       "      <td>2253X7</td>\n",
       "      <td>1472</td>\n",
       "      <td>1</td>\n",
       "      <td>31</td>\n",
       "    </tr>\n",
       "  </tbody>\n",
       "</table>\n",
       "</div>"
      ],
      "text/plain": [
       "   custid  Recency  Frequency  Monetary\n",
       "0  2229GF     1564          1        41\n",
       "1  223KBA     1508          1        40\n",
       "2  22476K     1594          1        40\n",
       "3  224L8Q     1552          1        52\n",
       "4  2253X7     1472          1        31"
      ]
     },
     "execution_count": 181,
     "metadata": {},
     "output_type": "execute_result"
    }
   ],
   "source": [
    "import datetime as dt \n",
    "#Set Latest date 2018-12-01 as last lastorder was 2018-01-21. This is to calculate the number of days from recent purchase\n",
    "Latest_Date = dt.datetime(2018,1,21) \n",
    "\n",
    "#Create RFM Modelling scores for each customer\n",
    "RFMScores = Rtl_data.groupby('custid').agg({'lastorder': lambda x: (Latest_Date - x.max()).days, 'ordfreq': lambda x: len(x), 'avgorder': lambda x: x.sum()})\n",
    "\n",
    "\n",
    "#Convert Invoice Date into type int\n",
    "RFMScores['ordfreq'] = RFMScores['ordfreq'].astype(int) \n",
    "\n",
    "#Rename column names to Recency, Frequency and Monetary\n",
    "RFMScores.rename(columns={'lastorder': 'Recency', \n",
    "                         'ordfreq': 'Frequency', \n",
    "                         'avgorder': 'Monetary'}, inplace=True) \n",
    " \n",
    "RFMScores.reset_index().head()"
   ]
  },
  {
   "cell_type": "markdown",
   "metadata": {},
   "source": [
    "#### Descriptive Statistics (Recency)"
   ]
  },
  {
   "cell_type": "code",
   "execution_count": 182,
   "metadata": {},
   "outputs": [
    {
     "data": {
      "text/plain": [
       "count    30763.000000\n",
       "mean      1429.423561\n",
       "std        675.834799\n",
       "min          0.000000\n",
       "25%       1469.000000\n",
       "50%       1544.000000\n",
       "75%       1674.000000\n",
       "max       3463.000000\n",
       "Name: Recency, dtype: float64"
      ]
     },
     "execution_count": 182,
     "metadata": {},
     "output_type": "execute_result"
    }
   ],
   "source": [
    "#Descriptive Statistics (Recency)\n",
    "RFMScores.Recency.describe()"
   ]
  },
  {
   "cell_type": "markdown",
   "metadata": {},
   "source": [
    "#### Recency distribution plot"
   ]
  },
  {
   "cell_type": "code",
   "execution_count": 183,
   "metadata": {},
   "outputs": [
    {
     "data": {
      "image/png": "[encoded data removed]",
      "text/plain": [
       "<Figure size 432x288 with 1 Axes>"
      ]
     },
     "metadata": {
      "needs_background": "light"
     },
     "output_type": "display_data"
    }
   ],
   "source": [
    "#Recency distribution plot\n",
    "import seaborn as sns\n",
    "x = RFMScores['Recency']\n",
    "\n",
    "ax = sns.distplot(x)"
   ]
  },
  {
   "cell_type": "markdown",
   "metadata": {},
   "source": [
    "#### Descriptive Statistics (Frequency)"
   ]
  },
  {
   "cell_type": "code",
   "execution_count": 184,
   "metadata": {},
   "outputs": [
    {
     "data": {
      "text/plain": [
       "count    30763.000000\n",
       "mean         1.000293\n",
       "std          0.017102\n",
       "min          1.000000\n",
       "25%          1.000000\n",
       "50%          1.000000\n",
       "75%          1.000000\n",
       "max          2.000000\n",
       "Name: Frequency, dtype: float64"
      ]
     },
     "execution_count": 184,
     "metadata": {},
     "output_type": "execute_result"
    }
   ],
   "source": [
    "#Descriptive Statistics (Frequency)\n",
    "RFMScores.Frequency.describe()"
   ]
  },
  {
   "cell_type": "markdown",
   "metadata": {},
   "source": [
    "#### Frequency distribution plot"
   ]
  },
  {
   "cell_type": "code",
   "execution_count": 185,
   "metadata": {},
   "outputs": [
    {
     "data": {
      "image/png": "[encoded data removed]",
      "text/plain": [
       "<Figure size 432x288 with 1 Axes>"
      ]
     },
     "metadata": {
      "needs_background": "light"
     },
     "output_type": "display_data"
    }
   ],
   "source": [
    "#Frequency distribution plot\n",
    "import seaborn as sns\n",
    "x = RFMScores['Frequency']\n",
    "\n",
    "ax = sns.distplot(x)"
   ]
  },
  {
   "cell_type": "markdown",
   "metadata": {},
   "source": [
    "#### Descriptive Statistics (Monetary)"
   ]
  },
  {
   "cell_type": "code",
   "execution_count": 186,
   "metadata": {},
   "outputs": [
    {
     "data": {
      "text/plain": [
       "count    30763.000000\n",
       "mean        61.855573\n",
       "std         40.958987\n",
       "min          0.000000\n",
       "25%         40.000000\n",
       "50%         51.000000\n",
       "75%         74.000000\n",
       "max       2600.000000\n",
       "Name: Monetary, dtype: float64"
      ]
     },
     "execution_count": 186,
     "metadata": {},
     "output_type": "execute_result"
    }
   ],
   "source": [
    "#Descriptive Statistics (Monetary)\n",
    "RFMScores.Monetary.describe()"
   ]
  },
  {
   "cell_type": "markdown",
   "metadata": {},
   "source": [
    "#### Monateray distribution plot"
   ]
  },
  {
   "cell_type": "code",
   "execution_count": 187,
   "metadata": {},
   "outputs": [
    {
     "data": {
      "image/png": "[encoded data removed]",
      "text/plain": [
       "<Figure size 432x288 with 1 Axes>"
      ]
     },
     "metadata": {
      "needs_background": "light"
     },
     "output_type": "display_data"
    }
   ],
   "source": [
    "#Monateray distribution plot\n",
    "import seaborn as sns\n",
    "x = RFMScores['Monetary']\n",
    "\n",
    "ax = sns.distplot(x)"
   ]
  },
  {
   "cell_type": "markdown",
   "metadata": {},
   "source": [
    "#### Split into four segments using quantiles"
   ]
  },
  {
   "cell_type": "code",
   "execution_count": 190,
   "metadata": {},
   "outputs": [],
   "source": [
    "#Split into four segments using quantiles\n",
    "quantiles = RFMScores.quantile(q=[0.25,0.5,0.75])\n",
    "quantiles = quantiles.to_dict()"
   ]
  },
  {
   "cell_type": "code",
   "execution_count": 191,
   "metadata": {},
   "outputs": [
    {
     "data": {
      "text/plain": [
       "{'Recency': {0.25: 1469.0, 0.5: 1544.0, 0.75: 1674.0},\n",
       " 'Frequency': {0.25: 1.0, 0.5: 1.0, 0.75: 1.0},\n",
       " 'Monetary': {0.25: 40.0, 0.5: 51.0, 0.75: 74.0}}"
      ]
     },
     "execution_count": 191,
     "metadata": {},
     "output_type": "execute_result"
    }
   ],
   "source": [
    "quantiles"
   ]
  },
  {
   "cell_type": "markdown",
   "metadata": {},
   "source": [
    "#### Giving Value to the to Recency , Monetary and Frequency "
   ]
  },
  {
   "cell_type": "code",
   "execution_count": 50,
   "metadata": {},
   "outputs": [],
   "source": [
    " #Arguments (x = value, p = recency, monetary_value, frequency, d = quartiles dict)\n",
    "def RScoring(x,p,d):\n",
    "    if x <= d[p][0.25]:\n",
    "        return 4\n",
    "    elif x <= d[p][0.50]:\n",
    "        return 3\n",
    "    elif x <= d[p][0.75]: \n",
    "        return 2\n",
    "    else:\n",
    "        return 1\n",
    "# Arguments (x = value, p = recency, monetary_value, frequency, d = quartiles dict)   \n",
    "def FnMScoring(x,p,d):\n",
    "    if x <= d[p][0.25]:\n",
    "        return 1\n",
    "    elif x <= d[p][0.50]:\n",
    "        return 2\n",
    "    elif x <= d[p][0.75]: \n",
    "        return 3\n",
    "    else:\n",
    "        return 4"
   ]
  },
  {
   "cell_type": "markdown",
   "metadata": {},
   "source": [
    "#### Calculate Add R, F and M segment value columns in the existing dataset to show R, F and M segment values"
   ]
  },
  {
   "cell_type": "code",
   "execution_count": 51,
   "metadata": {},
   "outputs": [
    {
     "data": {
      "text/html": [
       "<div>\n",
       "<style scoped>\n",
       "    .dataframe tbody tr th:only-of-type {\n",
       "        vertical-align: middle;\n",
       "    }\n",
       "\n",
       "    .dataframe tbody tr th {\n",
       "        vertical-align: top;\n",
       "    }\n",
       "\n",
       "    .dataframe thead th {\n",
       "        text-align: right;\n",
       "    }\n",
       "</style>\n",
       "<table border=\"1\" class=\"dataframe\">\n",
       "  <thead>\n",
       "    <tr style=\"text-align: right;\">\n",
       "      <th></th>\n",
       "      <th>Recency</th>\n",
       "      <th>Frequency</th>\n",
       "      <th>Monetary</th>\n",
       "      <th>R</th>\n",
       "      <th>F</th>\n",
       "      <th>M</th>\n",
       "    </tr>\n",
       "    <tr>\n",
       "      <th>custid</th>\n",
       "      <th></th>\n",
       "      <th></th>\n",
       "      <th></th>\n",
       "      <th></th>\n",
       "      <th></th>\n",
       "      <th></th>\n",
       "    </tr>\n",
       "  </thead>\n",
       "  <tbody>\n",
       "    <tr>\n",
       "      <th>2229GF</th>\n",
       "      <td>1564</td>\n",
       "      <td>1</td>\n",
       "      <td>41</td>\n",
       "      <td>2</td>\n",
       "      <td>1</td>\n",
       "      <td>2</td>\n",
       "    </tr>\n",
       "    <tr>\n",
       "      <th>223KBA</th>\n",
       "      <td>1508</td>\n",
       "      <td>1</td>\n",
       "      <td>40</td>\n",
       "      <td>3</td>\n",
       "      <td>1</td>\n",
       "      <td>1</td>\n",
       "    </tr>\n",
       "    <tr>\n",
       "      <th>22476K</th>\n",
       "      <td>1594</td>\n",
       "      <td>1</td>\n",
       "      <td>40</td>\n",
       "      <td>2</td>\n",
       "      <td>1</td>\n",
       "      <td>1</td>\n",
       "    </tr>\n",
       "    <tr>\n",
       "      <th>224L8Q</th>\n",
       "      <td>1552</td>\n",
       "      <td>1</td>\n",
       "      <td>52</td>\n",
       "      <td>2</td>\n",
       "      <td>1</td>\n",
       "      <td>3</td>\n",
       "    </tr>\n",
       "    <tr>\n",
       "      <th>2253X7</th>\n",
       "      <td>1472</td>\n",
       "      <td>1</td>\n",
       "      <td>31</td>\n",
       "      <td>3</td>\n",
       "      <td>1</td>\n",
       "      <td>1</td>\n",
       "    </tr>\n",
       "  </tbody>\n",
       "</table>\n",
       "</div>"
      ],
      "text/plain": [
       "        Recency  Frequency  Monetary  R  F  M\n",
       "custid                                       \n",
       "2229GF     1564          1        41  2  1  2\n",
       "223KBA     1508          1        40  3  1  1\n",
       "22476K     1594          1        40  2  1  1\n",
       "224L8Q     1552          1        52  2  1  3\n",
       "2253X7     1472          1        31  3  1  1"
      ]
     },
     "execution_count": 51,
     "metadata": {},
     "output_type": "execute_result"
    }
   ],
   "source": [
    "#Calculate Add R, F and M segment value columns in the existing dataset to show R, F and M segment values\n",
    "RFMScores['R'] = RFMScores['Recency'].apply(RScoring, args=('Recency',quantiles,))\n",
    "RFMScores['F'] = RFMScores['Frequency'].apply(FnMScoring, args=('Frequency',quantiles,))\n",
    "RFMScores['M'] = RFMScores['Monetary'].apply(FnMScoring, args=('Monetary',quantiles,))\n",
    "RFMScores.head()"
   ]
  },
  {
   "cell_type": "markdown",
   "metadata": {},
   "source": [
    "#### Calculate and Add RFMGroup value column showing combined concatenated score of RFM"
   ]
  },
  {
   "cell_type": "code",
   "execution_count": 52,
   "metadata": {},
   "outputs": [
    {
     "data": {
      "text/html": [
       "<div>\n",
       "<style scoped>\n",
       "    .dataframe tbody tr th:only-of-type {\n",
       "        vertical-align: middle;\n",
       "    }\n",
       "\n",
       "    .dataframe tbody tr th {\n",
       "        vertical-align: top;\n",
       "    }\n",
       "\n",
       "    .dataframe thead th {\n",
       "        text-align: right;\n",
       "    }\n",
       "</style>\n",
       "<table border=\"1\" class=\"dataframe\">\n",
       "  <thead>\n",
       "    <tr style=\"text-align: right;\">\n",
       "      <th></th>\n",
       "      <th>Recency</th>\n",
       "      <th>Frequency</th>\n",
       "      <th>Monetary</th>\n",
       "      <th>R</th>\n",
       "      <th>F</th>\n",
       "      <th>M</th>\n",
       "      <th>RFMGroup</th>\n",
       "      <th>RFMScore</th>\n",
       "    </tr>\n",
       "    <tr>\n",
       "      <th>custid</th>\n",
       "      <th></th>\n",
       "      <th></th>\n",
       "      <th></th>\n",
       "      <th></th>\n",
       "      <th></th>\n",
       "      <th></th>\n",
       "      <th></th>\n",
       "      <th></th>\n",
       "    </tr>\n",
       "  </thead>\n",
       "  <tbody>\n",
       "    <tr>\n",
       "      <th>2229GF</th>\n",
       "      <td>1564</td>\n",
       "      <td>1</td>\n",
       "      <td>41</td>\n",
       "      <td>2</td>\n",
       "      <td>1</td>\n",
       "      <td>2</td>\n",
       "      <td>212</td>\n",
       "      <td>5</td>\n",
       "    </tr>\n",
       "    <tr>\n",
       "      <th>223KBA</th>\n",
       "      <td>1508</td>\n",
       "      <td>1</td>\n",
       "      <td>40</td>\n",
       "      <td>3</td>\n",
       "      <td>1</td>\n",
       "      <td>1</td>\n",
       "      <td>311</td>\n",
       "      <td>5</td>\n",
       "    </tr>\n",
       "    <tr>\n",
       "      <th>22476K</th>\n",
       "      <td>1594</td>\n",
       "      <td>1</td>\n",
       "      <td>40</td>\n",
       "      <td>2</td>\n",
       "      <td>1</td>\n",
       "      <td>1</td>\n",
       "      <td>211</td>\n",
       "      <td>4</td>\n",
       "    </tr>\n",
       "    <tr>\n",
       "      <th>224L8Q</th>\n",
       "      <td>1552</td>\n",
       "      <td>1</td>\n",
       "      <td>52</td>\n",
       "      <td>2</td>\n",
       "      <td>1</td>\n",
       "      <td>3</td>\n",
       "      <td>213</td>\n",
       "      <td>6</td>\n",
       "    </tr>\n",
       "    <tr>\n",
       "      <th>2253X7</th>\n",
       "      <td>1472</td>\n",
       "      <td>1</td>\n",
       "      <td>31</td>\n",
       "      <td>3</td>\n",
       "      <td>1</td>\n",
       "      <td>1</td>\n",
       "      <td>311</td>\n",
       "      <td>5</td>\n",
       "    </tr>\n",
       "  </tbody>\n",
       "</table>\n",
       "</div>"
      ],
      "text/plain": [
       "        Recency  Frequency  Monetary  R  F  M RFMGroup  RFMScore\n",
       "custid                                                          \n",
       "2229GF     1564          1        41  2  1  2      212         5\n",
       "223KBA     1508          1        40  3  1  1      311         5\n",
       "22476K     1594          1        40  2  1  1      211         4\n",
       "224L8Q     1552          1        52  2  1  3      213         6\n",
       "2253X7     1472          1        31  3  1  1      311         5"
      ]
     },
     "execution_count": 52,
     "metadata": {},
     "output_type": "execute_result"
    }
   ],
   "source": [
    "#Calculate and Add RFMGroup value column showing combined concatenated score of RFM\n",
    "RFMScores['RFMGroup'] = RFMScores.R.map(str) + RFMScores.F.map(str) + RFMScores.M.map(str)\n",
    "\n",
    "#Calculate and Add RFMScore value column showing total sum of RFMGroup values\n",
    "RFMScores['RFMScore'] = RFMScores[['R', 'F', 'M']].sum(axis = 1)\n",
    "RFMScores.head()"
   ]
  },
  {
   "cell_type": "markdown",
   "metadata": {},
   "source": [
    "#### Assign Loyalty Level to each customer"
   ]
  },
  {
   "cell_type": "code",
   "execution_count": 53,
   "metadata": {},
   "outputs": [
    {
     "data": {
      "text/html": [
       "<div>\n",
       "<style scoped>\n",
       "    .dataframe tbody tr th:only-of-type {\n",
       "        vertical-align: middle;\n",
       "    }\n",
       "\n",
       "    .dataframe tbody tr th {\n",
       "        vertical-align: top;\n",
       "    }\n",
       "\n",
       "    .dataframe thead th {\n",
       "        text-align: right;\n",
       "    }\n",
       "</style>\n",
       "<table border=\"1\" class=\"dataframe\">\n",
       "  <thead>\n",
       "    <tr style=\"text-align: right;\">\n",
       "      <th></th>\n",
       "      <th>custid</th>\n",
       "      <th>Recency</th>\n",
       "      <th>Frequency</th>\n",
       "      <th>Monetary</th>\n",
       "      <th>R</th>\n",
       "      <th>F</th>\n",
       "      <th>M</th>\n",
       "      <th>RFMGroup</th>\n",
       "      <th>RFMScore</th>\n",
       "      <th>RFM_Loyalty_Level</th>\n",
       "    </tr>\n",
       "  </thead>\n",
       "  <tbody>\n",
       "    <tr>\n",
       "      <th>0</th>\n",
       "      <td>2229GF</td>\n",
       "      <td>1564</td>\n",
       "      <td>1</td>\n",
       "      <td>41</td>\n",
       "      <td>2</td>\n",
       "      <td>1</td>\n",
       "      <td>2</td>\n",
       "      <td>212</td>\n",
       "      <td>5</td>\n",
       "      <td>Broze</td>\n",
       "    </tr>\n",
       "    <tr>\n",
       "      <th>1</th>\n",
       "      <td>223KBA</td>\n",
       "      <td>1508</td>\n",
       "      <td>1</td>\n",
       "      <td>40</td>\n",
       "      <td>3</td>\n",
       "      <td>1</td>\n",
       "      <td>1</td>\n",
       "      <td>311</td>\n",
       "      <td>5</td>\n",
       "      <td>Broze</td>\n",
       "    </tr>\n",
       "    <tr>\n",
       "      <th>2</th>\n",
       "      <td>22476K</td>\n",
       "      <td>1594</td>\n",
       "      <td>1</td>\n",
       "      <td>40</td>\n",
       "      <td>2</td>\n",
       "      <td>1</td>\n",
       "      <td>1</td>\n",
       "      <td>211</td>\n",
       "      <td>4</td>\n",
       "      <td>Broze</td>\n",
       "    </tr>\n",
       "    <tr>\n",
       "      <th>3</th>\n",
       "      <td>224L8Q</td>\n",
       "      <td>1552</td>\n",
       "      <td>1</td>\n",
       "      <td>52</td>\n",
       "      <td>2</td>\n",
       "      <td>1</td>\n",
       "      <td>3</td>\n",
       "      <td>213</td>\n",
       "      <td>6</td>\n",
       "      <td>Silver</td>\n",
       "    </tr>\n",
       "    <tr>\n",
       "      <th>4</th>\n",
       "      <td>2253X7</td>\n",
       "      <td>1472</td>\n",
       "      <td>1</td>\n",
       "      <td>31</td>\n",
       "      <td>3</td>\n",
       "      <td>1</td>\n",
       "      <td>1</td>\n",
       "      <td>311</td>\n",
       "      <td>5</td>\n",
       "      <td>Broze</td>\n",
       "    </tr>\n",
       "  </tbody>\n",
       "</table>\n",
       "</div>"
      ],
      "text/plain": [
       "   custid  Recency  Frequency  Monetary  R  F  M RFMGroup  RFMScore  \\\n",
       "0  2229GF     1564          1        41  2  1  2      212         5   \n",
       "1  223KBA     1508          1        40  3  1  1      311         5   \n",
       "2  22476K     1594          1        40  2  1  1      211         4   \n",
       "3  224L8Q     1552          1        52  2  1  3      213         6   \n",
       "4  2253X7     1472          1        31  3  1  1      311         5   \n",
       "\n",
       "  RFM_Loyalty_Level  \n",
       "0             Broze  \n",
       "1             Broze  \n",
       "2             Broze  \n",
       "3            Silver  \n",
       "4             Broze  "
      ]
     },
     "execution_count": 53,
     "metadata": {},
     "output_type": "execute_result"
    }
   ],
   "source": [
    "#Assign Loyalty Level to each customer\n",
    "Loyalty_Level = ['Bronze','Silver','Gold','Platinum']\n",
    "Score_cuts = pd.qcut(RFMScores.RFMScore, q = 4, labels = Loyalty_Level)\n",
    "RFMScores['RFM_Loyalty_Level'] = Score_cuts.values\n",
    "RFMScores.reset_index().head()"
   ]
  },
  {
   "cell_type": "markdown",
   "metadata": {},
   "source": [
    "#### Validate the data for RFM_Loyalty_Level = Platinum"
   ]
  },
  {
   "cell_type": "code",
   "execution_count": 54,
   "metadata": {},
   "outputs": [
    {
     "data": {
      "text/html": [
       "<div>\n",
       "<style scoped>\n",
       "    .dataframe tbody tr th:only-of-type {\n",
       "        vertical-align: middle;\n",
       "    }\n",
       "\n",
       "    .dataframe tbody tr th {\n",
       "        vertical-align: top;\n",
       "    }\n",
       "\n",
       "    .dataframe thead th {\n",
       "        text-align: right;\n",
       "    }\n",
       "</style>\n",
       "<table border=\"1\" class=\"dataframe\">\n",
       "  <thead>\n",
       "    <tr style=\"text-align: right;\">\n",
       "      <th></th>\n",
       "      <th>custid</th>\n",
       "      <th>Recency</th>\n",
       "      <th>Frequency</th>\n",
       "      <th>Monetary</th>\n",
       "      <th>R</th>\n",
       "      <th>F</th>\n",
       "      <th>M</th>\n",
       "      <th>RFMGroup</th>\n",
       "      <th>RFMScore</th>\n",
       "      <th>RFM_Loyalty_Level</th>\n",
       "    </tr>\n",
       "  </thead>\n",
       "  <tbody>\n",
       "    <tr>\n",
       "      <th>0</th>\n",
       "      <td>G3DXPX</td>\n",
       "      <td>1468</td>\n",
       "      <td>1</td>\n",
       "      <td>537</td>\n",
       "      <td>4</td>\n",
       "      <td>1</td>\n",
       "      <td>4</td>\n",
       "      <td>414</td>\n",
       "      <td>9</td>\n",
       "      <td>Platinum</td>\n",
       "    </tr>\n",
       "    <tr>\n",
       "      <th>1</th>\n",
       "      <td>YAJX3N</td>\n",
       "      <td>59</td>\n",
       "      <td>1</td>\n",
       "      <td>530</td>\n",
       "      <td>4</td>\n",
       "      <td>1</td>\n",
       "      <td>4</td>\n",
       "      <td>414</td>\n",
       "      <td>9</td>\n",
       "      <td>Platinum</td>\n",
       "    </tr>\n",
       "    <tr>\n",
       "      <th>2</th>\n",
       "      <td>YHJL9Y</td>\n",
       "      <td>514</td>\n",
       "      <td>1</td>\n",
       "      <td>419</td>\n",
       "      <td>4</td>\n",
       "      <td>1</td>\n",
       "      <td>4</td>\n",
       "      <td>414</td>\n",
       "      <td>9</td>\n",
       "      <td>Platinum</td>\n",
       "    </tr>\n",
       "    <tr>\n",
       "      <th>3</th>\n",
       "      <td>GCXAGK</td>\n",
       "      <td>1505</td>\n",
       "      <td>1</td>\n",
       "      <td>419</td>\n",
       "      <td>3</td>\n",
       "      <td>1</td>\n",
       "      <td>4</td>\n",
       "      <td>314</td>\n",
       "      <td>8</td>\n",
       "      <td>Platinum</td>\n",
       "    </tr>\n",
       "    <tr>\n",
       "      <th>4</th>\n",
       "      <td>ZFEWS3</td>\n",
       "      <td>510</td>\n",
       "      <td>1</td>\n",
       "      <td>413</td>\n",
       "      <td>4</td>\n",
       "      <td>1</td>\n",
       "      <td>4</td>\n",
       "      <td>414</td>\n",
       "      <td>9</td>\n",
       "      <td>Platinum</td>\n",
       "    </tr>\n",
       "    <tr>\n",
       "      <th>5</th>\n",
       "      <td>XF3KUM</td>\n",
       "      <td>1496</td>\n",
       "      <td>1</td>\n",
       "      <td>404</td>\n",
       "      <td>3</td>\n",
       "      <td>1</td>\n",
       "      <td>4</td>\n",
       "      <td>314</td>\n",
       "      <td>8</td>\n",
       "      <td>Platinum</td>\n",
       "    </tr>\n",
       "    <tr>\n",
       "      <th>6</th>\n",
       "      <td>ZLLGWV</td>\n",
       "      <td>171</td>\n",
       "      <td>1</td>\n",
       "      <td>397</td>\n",
       "      <td>4</td>\n",
       "      <td>1</td>\n",
       "      <td>4</td>\n",
       "      <td>414</td>\n",
       "      <td>9</td>\n",
       "      <td>Platinum</td>\n",
       "    </tr>\n",
       "    <tr>\n",
       "      <th>7</th>\n",
       "      <td>3ZHN9X</td>\n",
       "      <td>1473</td>\n",
       "      <td>1</td>\n",
       "      <td>377</td>\n",
       "      <td>3</td>\n",
       "      <td>1</td>\n",
       "      <td>4</td>\n",
       "      <td>314</td>\n",
       "      <td>8</td>\n",
       "      <td>Platinum</td>\n",
       "    </tr>\n",
       "    <tr>\n",
       "      <th>8</th>\n",
       "      <td>MKWT76</td>\n",
       "      <td>1531</td>\n",
       "      <td>1</td>\n",
       "      <td>373</td>\n",
       "      <td>3</td>\n",
       "      <td>1</td>\n",
       "      <td>4</td>\n",
       "      <td>314</td>\n",
       "      <td>8</td>\n",
       "      <td>Platinum</td>\n",
       "    </tr>\n",
       "    <tr>\n",
       "      <th>9</th>\n",
       "      <td>M29EVC</td>\n",
       "      <td>1470</td>\n",
       "      <td>1</td>\n",
       "      <td>370</td>\n",
       "      <td>3</td>\n",
       "      <td>1</td>\n",
       "      <td>4</td>\n",
       "      <td>314</td>\n",
       "      <td>8</td>\n",
       "      <td>Platinum</td>\n",
       "    </tr>\n",
       "  </tbody>\n",
       "</table>\n",
       "</div>"
      ],
      "text/plain": [
       "   custid  Recency  Frequency  Monetary  R  F  M RFMGroup  RFMScore  \\\n",
       "0  G3DXPX     1468          1       537  4  1  4      414         9   \n",
       "1  YAJX3N       59          1       530  4  1  4      414         9   \n",
       "2  YHJL9Y      514          1       419  4  1  4      414         9   \n",
       "3  GCXAGK     1505          1       419  3  1  4      314         8   \n",
       "4  ZFEWS3      510          1       413  4  1  4      414         9   \n",
       "5  XF3KUM     1496          1       404  3  1  4      314         8   \n",
       "6  ZLLGWV      171          1       397  4  1  4      414         9   \n",
       "7  3ZHN9X     1473          1       377  3  1  4      314         8   \n",
       "8  MKWT76     1531          1       373  3  1  4      314         8   \n",
       "9  M29EVC     1470          1       370  3  1  4      314         8   \n",
       "\n",
       "  RFM_Loyalty_Level  \n",
       "0          Platinum  \n",
       "1          Platinum  \n",
       "2          Platinum  \n",
       "3          Platinum  \n",
       "4          Platinum  \n",
       "5          Platinum  \n",
       "6          Platinum  \n",
       "7          Platinum  \n",
       "8          Platinum  \n",
       "9          Platinum  "
      ]
     },
     "execution_count": 54,
     "metadata": {},
     "output_type": "execute_result"
    }
   ],
   "source": [
    "#Validate the data for RFM_Loyalty_Level = Platinum\n",
    "RFMScores[RFMScores['RFM_Loyalty_Level']=='Platinum'].sort_values('Monetary', ascending=False).reset_index().head(10)"
   ]
  },
  {
   "cell_type": "markdown",
   "metadata": {},
   "source": [
    "#### Loyalty Level distribution plot"
   ]
  },
  {
   "cell_type": "code",
   "execution_count": 155,
   "metadata": {},
   "outputs": [
    {
     "data": {
      "image/png": "[encoded data removed]",
      "text/plain": [
       "<Figure size 720x288 with 1 Axes>"
      ]
     },
     "metadata": {},
     "output_type": "display_data"
    }
   ],
   "source": [
    "label = RFMScores.RFM_Loyalty_Level.value_counts()\n",
    "sns.set_style(\"whitegrid\")\n",
    "plt.figure(figsize=(10,4))\n",
    "colors = ['#CD7F32','#C0C0C0',\"#FFD700\", \"#E5E4E2\"]\n",
    "# Set your custom color palette\n",
    "sns.set_palette(sns.color_palette(colors))\n",
    "sns.barplot(x=label.index, y=label.values)\n",
    "plt.show() "
   ]
  },
  {
   "cell_type": "markdown",
   "metadata": {},
   "source": [
    "#### The customers in Platinum are those who either had more number of orders, high order value and/or were active for a longer period of time"
   ]
  },
  {
   "cell_type": "markdown",
   "metadata": {},
   "source": [
    "#### This anlaysis helped us identify different types of customers and will help plan different marketing strategies for every bucket. That will also help us understand their behaviour and move more customers from Silver and Bronze to Gold and Platinum.\n",
    "#### For example, if the emails sent to the gold and platinum customers were high, then those strategies can be replicated on Bronze and Silver too. Or 'refill' and 'doorstep delivery' can be offered to the customers with higher basket value"
   ]
  },
  {
   "cell_type": "code",
   "execution_count": 193,
   "metadata": {},
   "outputs": [],
   "source": [
    "#Handle negative and zero values so as to handle infinite numbers during log transformation\n",
    "def handle_neg_n_zero(num):\n",
    "    if num <= 0:\n",
    "        return 1\n",
    "    else:\n",
    "        return num\n",
    "#Apply handle_neg_n_zero function to Recency and Monetary columns \n",
    "RFMScores['Recency'] = [handle_neg_n_zero(x) for x in RFMScores.Recency]\n",
    "RFMScores['Monetary'] = [handle_neg_n_zero(x) for x in RFMScores.Monetary]\n",
    "\n",
    "#Perform Log transformation to bring data into normal or near normal distribution\n",
    "Log_Tfd_Data = RFMScores[['Recency', 'Frequency', 'Monetary']].apply(np.log, axis = 1).round(3)"
   ]
  },
  {
   "cell_type": "markdown",
   "metadata": {},
   "source": [
    "#### Data distribution after data normalization for Recency"
   ]
  },
  {
   "cell_type": "code",
   "execution_count": 194,
   "metadata": {},
   "outputs": [
    {
     "data": {
      "image/png": "[encoded data removed]",
      "text/plain": [
       "<Figure size 432x288 with 1 Axes>"
      ]
     },
     "metadata": {
      "needs_background": "light"
     },
     "output_type": "display_data"
    }
   ],
   "source": [
    "#Data distribution after data normalization for Recency\n",
    "Recency_Plot = Log_Tfd_Data['Recency']\n",
    "ax = sns.distplot(Recency_Plot)"
   ]
  },
  {
   "cell_type": "markdown",
   "metadata": {},
   "source": [
    "#### Data distribution after data normalization for Frequency"
   ]
  },
  {
   "cell_type": "code",
   "execution_count": 195,
   "metadata": {},
   "outputs": [
    {
     "data": {
      "image/png": "[encoded data removed]",
      "text/plain": [
       "<Figure size 432x288 with 1 Axes>"
      ]
     },
     "metadata": {
      "needs_background": "light"
     },
     "output_type": "display_data"
    }
   ],
   "source": [
    "#Data distribution after data normalization for Frequency\n",
    "Frequency_Plot = Log_Tfd_Data['Frequency']\n",
    "ax = sns.distplot(Frequency_Plot)"
   ]
  },
  {
   "cell_type": "markdown",
   "metadata": {},
   "source": [
    "#### Data distribution after data normalization for Monetary"
   ]
  },
  {
   "cell_type": "code",
   "execution_count": 196,
   "metadata": {},
   "outputs": [
    {
     "data": {
      "image/png": "[encoded data removed]",
      "text/plain": [
       "<Figure size 432x288 with 1 Axes>"
      ]
     },
     "metadata": {
      "needs_background": "light"
     },
     "output_type": "display_data"
    }
   ],
   "source": [
    "#Data distribution after data normalization for Monetary\n",
    "Monetary_Plot = Log_Tfd_Data['Monetary']\n",
    "ax = sns.distplot(Monetary_Plot)"
   ]
  },
  {
   "cell_type": "markdown",
   "metadata": {},
   "source": [
    "#### Bring the data on same scale"
   ]
  },
  {
   "cell_type": "code",
   "execution_count": 60,
   "metadata": {},
   "outputs": [],
   "source": [
    "from sklearn.preprocessing import StandardScaler\n",
    "\n",
    "#Bring the data on same scale\n",
    "scaleobj = StandardScaler()\n",
    "Scaled_Data = scaleobj.fit_transform(Log_Tfd_Data)\n",
    "\n",
    "#Transform it back to dataframe\n",
    "Scaled_Data = pd.DataFrame(Scaled_Data, index = RFMScores.index, columns = Log_Tfd_Data.columns)"
   ]
  },
  {
   "cell_type": "markdown",
   "metadata": {},
   "source": [
    "#### Creating a eblow cruve of Kmeans "
   ]
  },
  {
   "cell_type": "code",
   "execution_count": 61,
   "metadata": {},
   "outputs": [
    {
     "data": {
      "image/png": "[encoded data removed]",
      "text/plain": [
       "<Figure size 432x288 with 1 Axes>"
      ]
     },
     "metadata": {},
     "output_type": "display_data"
    }
   ],
   "source": [
    "from sklearn.cluster import KMeans\n",
    "\n",
    "sum_of_sq_dist = {}\n",
    "for k in range(1,15):\n",
    "    km = KMeans(n_clusters= k, init= 'k-means++', max_iter= 1000)\n",
    "    km = km.fit(Scaled_Data)\n",
    "    sum_of_sq_dist[k] = km.inertia_\n",
    "    \n",
    "#Plot the graph for the sum of square distance values and Number of Clusters\n",
    "sns.pointplot(x = list(sum_of_sq_dist.keys()), y = list(sum_of_sq_dist.values()))\n",
    "plt.xlabel('Number of Clusters(k)')\n",
    "plt.ylabel('Sum of Square Distances')\n",
    "plt.title('Elbow Method For Optimal k')\n",
    "plt.show()"
   ]
  },
  {
   "cell_type": "markdown",
   "metadata": {},
   "source": [
    "#### After seeing the Chart we choose K=4 as the no. of clusters"
   ]
  },
  {
   "cell_type": "markdown",
   "metadata": {},
   "source": [
    "#### We Calculate Silhouette Score too. To Confirm the K Value "
   ]
  },
  {
   "cell_type": "markdown",
   "metadata": {},
   "source": [
    "# Silhouette score for k(clusters)"
   ]
  },
  {
   "cell_type": "code",
   "execution_count": 62,
   "metadata": {},
   "outputs": [],
   "source": [
    "#import sklearn.cluster as cluster \n",
    "import sklearn.metrics as metrics"
   ]
  },
  {
   "cell_type": "code",
   "execution_count": 69,
   "metadata": {},
   "outputs": [
    {
     "name": "stdout",
     "output_type": "stream",
     "text": [
      "Silhouette score for k(clusters) = 2 is 0.9733454076816606\n",
      "Silhouette score for k(clusters) = 3 is 0.6007113113327599\n",
      "Silhouette score for k(clusters) = 4 is 0.5242326198755917\n",
      "Silhouette score for k(clusters) = 5 is 0.5443578715214975\n",
      "Silhouette score for k(clusters) = 6 is 0.4679776839296599\n",
      "Silhouette score for k(clusters) = 7 is 0.47054469398650856\n",
      "Silhouette score for k(clusters) = 8 is 0.4789560824402456\n",
      "Silhouette score for k(clusters) = 9 is 0.49011300723523726\n",
      "Silhouette score for k(clusters) = 10 is 0.4921726855136204\n",
      "Silhouette score for k(clusters) = 11 is 0.49249945906775494\n",
      "Silhouette score for k(clusters) = 12 is 0.49105683613109047\n"
     ]
    }
   ],
   "source": [
    "for i in range(2,13):\n",
    "    labels=KMeans(n_clusters=i,init=\"k-means++\",random_state=200).fit(Scaled_Data).labels_\n",
    "    print (\"#Bring the data on same scale = \"+str(i)+\" is \"\n",
    "           +str(metrics.silhouette_score(Scaled_Data,labels,metric=\"euclidean\",random_state=200))) "
   ]
  },
  {
   "cell_type": "markdown",
   "metadata": {},
   "source": [
    "#### After Calculating Silhouette score for k(clusters) we compare eblow curve and Silhouette score and we choose K=4 "
   ]
  },
  {
   "cell_type": "markdown",
   "metadata": {},
   "source": [
    "#### Perform K-Mean Clustering or build the K-Means clustering model"
   ]
  },
  {
   "cell_type": "code",
   "execution_count": 63,
   "metadata": {},
   "outputs": [
    {
     "data": {
      "text/html": [
       "<div>\n",
       "<style scoped>\n",
       "    .dataframe tbody tr th:only-of-type {\n",
       "        vertical-align: middle;\n",
       "    }\n",
       "\n",
       "    .dataframe tbody tr th {\n",
       "        vertical-align: top;\n",
       "    }\n",
       "\n",
       "    .dataframe thead th {\n",
       "        text-align: right;\n",
       "    }\n",
       "</style>\n",
       "<table border=\"1\" class=\"dataframe\">\n",
       "  <thead>\n",
       "    <tr style=\"text-align: right;\">\n",
       "      <th></th>\n",
       "      <th>Recency</th>\n",
       "      <th>Frequency</th>\n",
       "      <th>Monetary</th>\n",
       "      <th>R</th>\n",
       "      <th>F</th>\n",
       "      <th>M</th>\n",
       "      <th>RFMGroup</th>\n",
       "      <th>RFMScore</th>\n",
       "      <th>RFM_Loyalty_Level</th>\n",
       "      <th>Cluster</th>\n",
       "    </tr>\n",
       "    <tr>\n",
       "      <th>custid</th>\n",
       "      <th></th>\n",
       "      <th></th>\n",
       "      <th></th>\n",
       "      <th></th>\n",
       "      <th></th>\n",
       "      <th></th>\n",
       "      <th></th>\n",
       "      <th></th>\n",
       "      <th></th>\n",
       "      <th></th>\n",
       "    </tr>\n",
       "  </thead>\n",
       "  <tbody>\n",
       "    <tr>\n",
       "      <th>2229GF</th>\n",
       "      <td>1564</td>\n",
       "      <td>1</td>\n",
       "      <td>41</td>\n",
       "      <td>2</td>\n",
       "      <td>1</td>\n",
       "      <td>2</td>\n",
       "      <td>212</td>\n",
       "      <td>5</td>\n",
       "      <td>Broze</td>\n",
       "      <td>0</td>\n",
       "    </tr>\n",
       "    <tr>\n",
       "      <th>223KBA</th>\n",
       "      <td>1508</td>\n",
       "      <td>1</td>\n",
       "      <td>40</td>\n",
       "      <td>3</td>\n",
       "      <td>1</td>\n",
       "      <td>1</td>\n",
       "      <td>311</td>\n",
       "      <td>5</td>\n",
       "      <td>Broze</td>\n",
       "      <td>0</td>\n",
       "    </tr>\n",
       "    <tr>\n",
       "      <th>22476K</th>\n",
       "      <td>1594</td>\n",
       "      <td>1</td>\n",
       "      <td>40</td>\n",
       "      <td>2</td>\n",
       "      <td>1</td>\n",
       "      <td>1</td>\n",
       "      <td>211</td>\n",
       "      <td>4</td>\n",
       "      <td>Broze</td>\n",
       "      <td>0</td>\n",
       "    </tr>\n",
       "    <tr>\n",
       "      <th>224L8Q</th>\n",
       "      <td>1552</td>\n",
       "      <td>1</td>\n",
       "      <td>52</td>\n",
       "      <td>2</td>\n",
       "      <td>1</td>\n",
       "      <td>3</td>\n",
       "      <td>213</td>\n",
       "      <td>6</td>\n",
       "      <td>Silver</td>\n",
       "      <td>0</td>\n",
       "    </tr>\n",
       "    <tr>\n",
       "      <th>2253X7</th>\n",
       "      <td>1472</td>\n",
       "      <td>1</td>\n",
       "      <td>31</td>\n",
       "      <td>3</td>\n",
       "      <td>1</td>\n",
       "      <td>1</td>\n",
       "      <td>311</td>\n",
       "      <td>5</td>\n",
       "      <td>Broze</td>\n",
       "      <td>0</td>\n",
       "    </tr>\n",
       "  </tbody>\n",
       "</table>\n",
       "</div>"
      ],
      "text/plain": [
       "        Recency  Frequency  Monetary  R  F  M RFMGroup  RFMScore  \\\n",
       "custid                                                             \n",
       "2229GF     1564          1        41  2  1  2      212         5   \n",
       "223KBA     1508          1        40  3  1  1      311         5   \n",
       "22476K     1594          1        40  2  1  1      211         4   \n",
       "224L8Q     1552          1        52  2  1  3      213         6   \n",
       "2253X7     1472          1        31  3  1  1      311         5   \n",
       "\n",
       "       RFM_Loyalty_Level  Cluster  \n",
       "custid                             \n",
       "2229GF             Broze        0  \n",
       "223KBA             Broze        0  \n",
       "22476K             Broze        0  \n",
       "224L8Q            Silver        0  \n",
       "2253X7             Broze        0  "
      ]
     },
     "execution_count": 63,
     "metadata": {},
     "output_type": "execute_result"
    }
   ],
   "source": [
    "#Perform K-Mean Clustering or build the K-Means clustering model\n",
    "KMean_clust = KMeans(n_clusters= 4, init= 'k-means++', max_iter= 1000)\n",
    "KMean_clust.fit(Scaled_Data)\n",
    "\n",
    "#Find the clusters for the observation given in the dataset\n",
    "RFMScores['Cluster'] = KMean_clust.labels_\n",
    "RFMScores.head()"
   ]
  },
  {
   "cell_type": "code",
   "execution_count": 64,
   "metadata": {},
   "outputs": [
    {
     "data": {
      "text/plain": [
       "<Figure size 504x504 with 0 Axes>"
      ]
     },
     "metadata": {},
     "output_type": "display_data"
    },
    {
     "data": {
      "image/png": "[encoded data removed]",
      "text/plain": [
       "<Figure size 720x576 with 1 Axes>"
      ]
     },
     "metadata": {},
     "output_type": "display_data"
    }
   ],
   "source": [
    "from matplotlib import pyplot as plt\n",
    "plt.figure(figsize=(7,7))\n",
    "\n",
    "##Scatter Plot Frequency Vs Recency\n",
    "Colors = [\"blue\",\"green\",\"red\", \"yellow\"]\n",
    "RFMScores['Color'] = RFMScores['Cluster'].map(lambda p: Colors[p])\n",
    "ax = RFMScores.plot(    \n",
    "    kind=\"scatter\", \n",
    "    x=\"Monetary\", y=\"Recency\",\n",
    "    figsize=(10,8),\n",
    "    c = RFMScores['Color']\n",
    ")"
   ]
  },
  {
   "cell_type": "markdown",
   "metadata": {},
   "source": [
    "### Camparing the RFM Segemention and K-Mean Clustering"
   ]
  },
  {
   "cell_type": "code",
   "execution_count": 93,
   "metadata": {},
   "outputs": [
    {
     "data": {
      "image/png": "[encoded data removed]",
      "text/plain": [
       "<Figure size 720x288 with 1 Axes>"
      ]
     },
     "metadata": {},
     "output_type": "display_data"
    }
   ],
   "source": [
    "label = RFMScores.RFM_Loyalty_Level.value_counts()\n",
    "sns.set_style(\"whitegrid\")\n",
    "plt.figure(figsize=(10,4))\n",
    "colors = ['#CD7F32','#C0C0C0',\"#FFD700\", \"#E5E4E2\"]\n",
    "# Set your custom color palette\n",
    "sns.set_palette(sns.color_palette(colors))\n",
    "sns.barplot(x=label.index, y=label.values)\n",
    "plt.show()"
   ]
  },
  {
   "cell_type": "code",
   "execution_count": 91,
   "metadata": {},
   "outputs": [
    {
     "data": {
      "image/png": "[encoded data removed]",
      "text/plain": [
       "<Figure size 720x288 with 1 Axes>"
      ]
     },
     "metadata": {},
     "output_type": "display_data"
    }
   ],
   "source": [
    "label = RFMScores.Color.value_counts()\n",
    "sns.set_style(\"darkgrid\")\n",
    "plt.figure(figsize=(10,4))\n",
    "colors = ['#0000FF','#FFFF00',\"#ff0000\", \"#00FF00\"]\n",
    "# Set your custom color palette\n",
    "sns.set_palette(sns.color_palette(colors))\n",
    "sns.barplot(x=label.index, y=label.values)\n",
    "plt.show()"
   ]
  },
  {
   "cell_type": "markdown",
   "metadata": {},
   "source": [
    "#### We can see that there is a similarity between RFM Segemention and K-Mean Clustering"
   ]
  },
  {
   "cell_type": "code",
   "execution_count": 95,
   "metadata": {},
   "outputs": [
    {
     "data": {
      "text/html": [
       "<div>\n",
       "<style scoped>\n",
       "    .dataframe tbody tr th:only-of-type {\n",
       "        vertical-align: middle;\n",
       "    }\n",
       "\n",
       "    .dataframe tbody tr th {\n",
       "        vertical-align: top;\n",
       "    }\n",
       "\n",
       "    .dataframe thead th {\n",
       "        text-align: right;\n",
       "    }\n",
       "</style>\n",
       "<table border=\"1\" class=\"dataframe\">\n",
       "  <thead>\n",
       "    <tr style=\"text-align: right;\">\n",
       "      <th></th>\n",
       "      <th>custid</th>\n",
       "      <th>Recency</th>\n",
       "      <th>Frequency</th>\n",
       "      <th>Monetary</th>\n",
       "      <th>R</th>\n",
       "      <th>F</th>\n",
       "      <th>M</th>\n",
       "      <th>RFMGroup</th>\n",
       "      <th>RFMScore</th>\n",
       "      <th>RFM_Loyalty_Level</th>\n",
       "      <th>Cluster</th>\n",
       "      <th>Color</th>\n",
       "    </tr>\n",
       "  </thead>\n",
       "  <tbody>\n",
       "    <tr>\n",
       "      <th>0</th>\n",
       "      <td>QBLJQ7</td>\n",
       "      <td>1993</td>\n",
       "      <td>1</td>\n",
       "      <td>40</td>\n",
       "      <td>1</td>\n",
       "      <td>1</td>\n",
       "      <td>1</td>\n",
       "      <td>111</td>\n",
       "      <td>3</td>\n",
       "      <td>Broze</td>\n",
       "      <td>0</td>\n",
       "      <td>blue</td>\n",
       "    </tr>\n",
       "    <tr>\n",
       "      <th>1</th>\n",
       "      <td>X7HBDW</td>\n",
       "      <td>1998</td>\n",
       "      <td>1</td>\n",
       "      <td>40</td>\n",
       "      <td>1</td>\n",
       "      <td>1</td>\n",
       "      <td>1</td>\n",
       "      <td>111</td>\n",
       "      <td>3</td>\n",
       "      <td>Broze</td>\n",
       "      <td>0</td>\n",
       "      <td>blue</td>\n",
       "    </tr>\n",
       "    <tr>\n",
       "      <th>2</th>\n",
       "      <td>4VYCTC</td>\n",
       "      <td>1734</td>\n",
       "      <td>1</td>\n",
       "      <td>40</td>\n",
       "      <td>1</td>\n",
       "      <td>1</td>\n",
       "      <td>1</td>\n",
       "      <td>111</td>\n",
       "      <td>3</td>\n",
       "      <td>Broze</td>\n",
       "      <td>0</td>\n",
       "      <td>blue</td>\n",
       "    </tr>\n",
       "    <tr>\n",
       "      <th>3</th>\n",
       "      <td>LXJQKZ</td>\n",
       "      <td>1729</td>\n",
       "      <td>1</td>\n",
       "      <td>40</td>\n",
       "      <td>1</td>\n",
       "      <td>1</td>\n",
       "      <td>1</td>\n",
       "      <td>111</td>\n",
       "      <td>3</td>\n",
       "      <td>Broze</td>\n",
       "      <td>0</td>\n",
       "      <td>blue</td>\n",
       "    </tr>\n",
       "    <tr>\n",
       "      <th>4</th>\n",
       "      <td>QRWPX7</td>\n",
       "      <td>1984</td>\n",
       "      <td>1</td>\n",
       "      <td>40</td>\n",
       "      <td>1</td>\n",
       "      <td>1</td>\n",
       "      <td>1</td>\n",
       "      <td>111</td>\n",
       "      <td>3</td>\n",
       "      <td>Broze</td>\n",
       "      <td>0</td>\n",
       "      <td>blue</td>\n",
       "    </tr>\n",
       "    <tr>\n",
       "      <th>5</th>\n",
       "      <td>UC3QJ4</td>\n",
       "      <td>1977</td>\n",
       "      <td>1</td>\n",
       "      <td>40</td>\n",
       "      <td>1</td>\n",
       "      <td>1</td>\n",
       "      <td>1</td>\n",
       "      <td>111</td>\n",
       "      <td>3</td>\n",
       "      <td>Broze</td>\n",
       "      <td>0</td>\n",
       "      <td>blue</td>\n",
       "    </tr>\n",
       "    <tr>\n",
       "      <th>6</th>\n",
       "      <td>AFQJV8</td>\n",
       "      <td>1945</td>\n",
       "      <td>1</td>\n",
       "      <td>40</td>\n",
       "      <td>1</td>\n",
       "      <td>1</td>\n",
       "      <td>1</td>\n",
       "      <td>111</td>\n",
       "      <td>3</td>\n",
       "      <td>Broze</td>\n",
       "      <td>0</td>\n",
       "      <td>blue</td>\n",
       "    </tr>\n",
       "    <tr>\n",
       "      <th>7</th>\n",
       "      <td>54Z9V7</td>\n",
       "      <td>1972</td>\n",
       "      <td>1</td>\n",
       "      <td>40</td>\n",
       "      <td>1</td>\n",
       "      <td>1</td>\n",
       "      <td>1</td>\n",
       "      <td>111</td>\n",
       "      <td>3</td>\n",
       "      <td>Broze</td>\n",
       "      <td>0</td>\n",
       "      <td>blue</td>\n",
       "    </tr>\n",
       "    <tr>\n",
       "      <th>8</th>\n",
       "      <td>EX63QZ</td>\n",
       "      <td>2904</td>\n",
       "      <td>1</td>\n",
       "      <td>40</td>\n",
       "      <td>1</td>\n",
       "      <td>1</td>\n",
       "      <td>1</td>\n",
       "      <td>111</td>\n",
       "      <td>3</td>\n",
       "      <td>Broze</td>\n",
       "      <td>0</td>\n",
       "      <td>blue</td>\n",
       "    </tr>\n",
       "    <tr>\n",
       "      <th>9</th>\n",
       "      <td>U3PVTT</td>\n",
       "      <td>1687</td>\n",
       "      <td>1</td>\n",
       "      <td>40</td>\n",
       "      <td>1</td>\n",
       "      <td>1</td>\n",
       "      <td>1</td>\n",
       "      <td>111</td>\n",
       "      <td>3</td>\n",
       "      <td>Broze</td>\n",
       "      <td>0</td>\n",
       "      <td>blue</td>\n",
       "    </tr>\n",
       "  </tbody>\n",
       "</table>\n",
       "</div>"
      ],
      "text/plain": [
       "   custid  Recency  Frequency  Monetary  R  F  M RFMGroup  RFMScore  \\\n",
       "0  QBLJQ7     1993          1        40  1  1  1      111         3   \n",
       "1  X7HBDW     1998          1        40  1  1  1      111         3   \n",
       "2  4VYCTC     1734          1        40  1  1  1      111         3   \n",
       "3  LXJQKZ     1729          1        40  1  1  1      111         3   \n",
       "4  QRWPX7     1984          1        40  1  1  1      111         3   \n",
       "5  UC3QJ4     1977          1        40  1  1  1      111         3   \n",
       "6  AFQJV8     1945          1        40  1  1  1      111         3   \n",
       "7  54Z9V7     1972          1        40  1  1  1      111         3   \n",
       "8  EX63QZ     2904          1        40  1  1  1      111         3   \n",
       "9  U3PVTT     1687          1        40  1  1  1      111         3   \n",
       "\n",
       "  RFM_Loyalty_Level  Cluster Color  \n",
       "0             Broze        0  blue  \n",
       "1             Broze        0  blue  \n",
       "2             Broze        0  blue  \n",
       "3             Broze        0  blue  \n",
       "4             Broze        0  blue  \n",
       "5             Broze        0  blue  \n",
       "6             Broze        0  blue  \n",
       "7             Broze        0  blue  \n",
       "8             Broze        0  blue  \n",
       "9             Broze        0  blue  "
      ]
     },
     "execution_count": 95,
     "metadata": {},
     "output_type": "execute_result"
    }
   ],
   "source": [
    "RFMScores[RFMScores['RFMGroup']=='111'].sort_values('Monetary', ascending=False).reset_index().head(10)"
   ]
  },
  {
   "cell_type": "markdown",
   "metadata": {},
   "source": [
    "### Camparing the RFM Segemention and K-Mean Clustering"
   ]
  },
  {
   "cell_type": "code",
   "execution_count": 96,
   "metadata": {},
   "outputs": [
    {
     "data": {
      "text/plain": [
       "Broze       13452\n",
       "Silver       7716\n",
       "Platinum     5488\n",
       "Gold         4107\n",
       "Name: RFM_Loyalty_Level, dtype: int64"
      ]
     },
     "execution_count": 96,
     "metadata": {},
     "output_type": "execute_result"
    }
   ],
   "source": [
    "RFMScores['RFM_Loyalty_Level'].value_counts()"
   ]
  },
  {
   "cell_type": "code",
   "execution_count": 97,
   "metadata": {},
   "outputs": [
    {
     "data": {
      "text/plain": [
       "blue      17100\n",
       "yellow     9364\n",
       "red        4290\n",
       "green         9\n",
       "Name: Color, dtype: int64"
      ]
     },
     "execution_count": 97,
     "metadata": {},
     "output_type": "execute_result"
    }
   ],
   "source": [
    "RFMScores['Color'].value_counts()"
   ]
  },
  {
   "cell_type": "markdown",
   "metadata": {},
   "source": [
    "### We can see that there is a similarity between RFM Segemention and K-Mean Clustering"
   ]
  },
  {
   "cell_type": "code",
   "execution_count": 98,
   "metadata": {},
   "outputs": [],
   "source": [
    "RFM_Platinum_Cust = RFMScores[RFMScores['RFM_Loyalty_Level']=='Platinum']"
   ]
  },
  {
   "cell_type": "markdown",
   "metadata": {},
   "source": [
    "#### Created Separate dataframe for Platinum Customer"
   ]
  },
  {
   "cell_type": "code",
   "execution_count": 99,
   "metadata": {},
   "outputs": [
    {
     "data": {
      "text/html": [
       "<div>\n",
       "<style scoped>\n",
       "    .dataframe tbody tr th:only-of-type {\n",
       "        vertical-align: middle;\n",
       "    }\n",
       "\n",
       "    .dataframe tbody tr th {\n",
       "        vertical-align: top;\n",
       "    }\n",
       "\n",
       "    .dataframe thead th {\n",
       "        text-align: right;\n",
       "    }\n",
       "</style>\n",
       "<table border=\"1\" class=\"dataframe\">\n",
       "  <thead>\n",
       "    <tr style=\"text-align: right;\">\n",
       "      <th></th>\n",
       "      <th>Recency</th>\n",
       "      <th>Frequency</th>\n",
       "      <th>Monetary</th>\n",
       "      <th>R</th>\n",
       "      <th>F</th>\n",
       "      <th>M</th>\n",
       "      <th>RFMGroup</th>\n",
       "      <th>RFMScore</th>\n",
       "      <th>RFM_Loyalty_Level</th>\n",
       "      <th>Cluster</th>\n",
       "      <th>Color</th>\n",
       "    </tr>\n",
       "    <tr>\n",
       "      <th>custid</th>\n",
       "      <th></th>\n",
       "      <th></th>\n",
       "      <th></th>\n",
       "      <th></th>\n",
       "      <th></th>\n",
       "      <th></th>\n",
       "      <th></th>\n",
       "      <th></th>\n",
       "      <th></th>\n",
       "      <th></th>\n",
       "      <th></th>\n",
       "    </tr>\n",
       "  </thead>\n",
       "  <tbody>\n",
       "    <tr>\n",
       "      <th>225HF6</th>\n",
       "      <td>38</td>\n",
       "      <td>1</td>\n",
       "      <td>52</td>\n",
       "      <td>4</td>\n",
       "      <td>1</td>\n",
       "      <td>3</td>\n",
       "      <td>413</td>\n",
       "      <td>8</td>\n",
       "      <td>Platinum</td>\n",
       "      <td>2</td>\n",
       "      <td>red</td>\n",
       "    </tr>\n",
       "    <tr>\n",
       "      <th>226NMF</th>\n",
       "      <td>1471</td>\n",
       "      <td>1</td>\n",
       "      <td>160</td>\n",
       "      <td>3</td>\n",
       "      <td>1</td>\n",
       "      <td>4</td>\n",
       "      <td>314</td>\n",
       "      <td>8</td>\n",
       "      <td>Platinum</td>\n",
       "      <td>3</td>\n",
       "      <td>yellow</td>\n",
       "    </tr>\n",
       "    <tr>\n",
       "      <th>226R3S</th>\n",
       "      <td>1537</td>\n",
       "      <td>1</td>\n",
       "      <td>80</td>\n",
       "      <td>3</td>\n",
       "      <td>1</td>\n",
       "      <td>4</td>\n",
       "      <td>314</td>\n",
       "      <td>8</td>\n",
       "      <td>Platinum</td>\n",
       "      <td>3</td>\n",
       "      <td>yellow</td>\n",
       "    </tr>\n",
       "    <tr>\n",
       "      <th>2295FW</th>\n",
       "      <td>447</td>\n",
       "      <td>1</td>\n",
       "      <td>84</td>\n",
       "      <td>4</td>\n",
       "      <td>1</td>\n",
       "      <td>4</td>\n",
       "      <td>414</td>\n",
       "      <td>9</td>\n",
       "      <td>Platinum</td>\n",
       "      <td>3</td>\n",
       "      <td>yellow</td>\n",
       "    </tr>\n",
       "    <tr>\n",
       "      <th>22JNJ7</th>\n",
       "      <td>175</td>\n",
       "      <td>1</td>\n",
       "      <td>80</td>\n",
       "      <td>4</td>\n",
       "      <td>1</td>\n",
       "      <td>4</td>\n",
       "      <td>414</td>\n",
       "      <td>9</td>\n",
       "      <td>Platinum</td>\n",
       "      <td>2</td>\n",
       "      <td>red</td>\n",
       "    </tr>\n",
       "    <tr>\n",
       "      <th>...</th>\n",
       "      <td>...</td>\n",
       "      <td>...</td>\n",
       "      <td>...</td>\n",
       "      <td>...</td>\n",
       "      <td>...</td>\n",
       "      <td>...</td>\n",
       "      <td>...</td>\n",
       "      <td>...</td>\n",
       "      <td>...</td>\n",
       "      <td>...</td>\n",
       "      <td>...</td>\n",
       "    </tr>\n",
       "    <tr>\n",
       "      <th>ZYXCEZ</th>\n",
       "      <td>1466</td>\n",
       "      <td>1</td>\n",
       "      <td>56</td>\n",
       "      <td>4</td>\n",
       "      <td>1</td>\n",
       "      <td>3</td>\n",
       "      <td>413</td>\n",
       "      <td>8</td>\n",
       "      <td>Platinum</td>\n",
       "      <td>0</td>\n",
       "      <td>blue</td>\n",
       "    </tr>\n",
       "    <tr>\n",
       "      <th>ZZE6K3</th>\n",
       "      <td>76</td>\n",
       "      <td>1</td>\n",
       "      <td>82</td>\n",
       "      <td>4</td>\n",
       "      <td>1</td>\n",
       "      <td>4</td>\n",
       "      <td>414</td>\n",
       "      <td>9</td>\n",
       "      <td>Platinum</td>\n",
       "      <td>2</td>\n",
       "      <td>red</td>\n",
       "    </tr>\n",
       "    <tr>\n",
       "      <th>ZZNP39</th>\n",
       "      <td>154</td>\n",
       "      <td>1</td>\n",
       "      <td>79</td>\n",
       "      <td>4</td>\n",
       "      <td>1</td>\n",
       "      <td>4</td>\n",
       "      <td>414</td>\n",
       "      <td>9</td>\n",
       "      <td>Platinum</td>\n",
       "      <td>2</td>\n",
       "      <td>red</td>\n",
       "    </tr>\n",
       "    <tr>\n",
       "      <th>ZZTHFG</th>\n",
       "      <td>1533</td>\n",
       "      <td>1</td>\n",
       "      <td>164</td>\n",
       "      <td>3</td>\n",
       "      <td>1</td>\n",
       "      <td>4</td>\n",
       "      <td>314</td>\n",
       "      <td>8</td>\n",
       "      <td>Platinum</td>\n",
       "      <td>3</td>\n",
       "      <td>yellow</td>\n",
       "    </tr>\n",
       "    <tr>\n",
       "      <th>ZZYQAY</th>\n",
       "      <td>1528</td>\n",
       "      <td>1</td>\n",
       "      <td>82</td>\n",
       "      <td>3</td>\n",
       "      <td>1</td>\n",
       "      <td>4</td>\n",
       "      <td>314</td>\n",
       "      <td>8</td>\n",
       "      <td>Platinum</td>\n",
       "      <td>3</td>\n",
       "      <td>yellow</td>\n",
       "    </tr>\n",
       "  </tbody>\n",
       "</table>\n",
       "<p>5488 rows × 11 columns</p>\n",
       "</div>"
      ],
      "text/plain": [
       "        Recency  Frequency  Monetary  R  F  M RFMGroup  RFMScore  \\\n",
       "custid                                                             \n",
       "225HF6       38          1        52  4  1  3      413         8   \n",
       "226NMF     1471          1       160  3  1  4      314         8   \n",
       "226R3S     1537          1        80  3  1  4      314         8   \n",
       "2295FW      447          1        84  4  1  4      414         9   \n",
       "22JNJ7      175          1        80  4  1  4      414         9   \n",
       "...         ...        ...       ... .. .. ..      ...       ...   \n",
       "ZYXCEZ     1466          1        56  4  1  3      413         8   \n",
       "ZZE6K3       76          1        82  4  1  4      414         9   \n",
       "ZZNP39      154          1        79  4  1  4      414         9   \n",
       "ZZTHFG     1533          1       164  3  1  4      314         8   \n",
       "ZZYQAY     1528          1        82  3  1  4      314         8   \n",
       "\n",
       "       RFM_Loyalty_Level  Cluster   Color  \n",
       "custid                                     \n",
       "225HF6          Platinum        2     red  \n",
       "226NMF          Platinum        3  yellow  \n",
       "226R3S          Platinum        3  yellow  \n",
       "2295FW          Platinum        3  yellow  \n",
       "22JNJ7          Platinum        2     red  \n",
       "...                  ...      ...     ...  \n",
       "ZYXCEZ          Platinum        0    blue  \n",
       "ZZE6K3          Platinum        2     red  \n",
       "ZZNP39          Platinum        2     red  \n",
       "ZZTHFG          Platinum        3  yellow  \n",
       "ZZYQAY          Platinum        3  yellow  \n",
       "\n",
       "[5488 rows x 11 columns]"
      ]
     },
     "execution_count": 99,
     "metadata": {},
     "output_type": "execute_result"
    }
   ],
   "source": [
    "RFM_Platinum_Cust"
   ]
  },
  {
   "cell_type": "markdown",
   "metadata": {},
   "source": [
    "### Creating Graphical Represention of Platinum Customer"
   ]
  },
  {
   "cell_type": "code",
   "execution_count": 101,
   "metadata": {},
   "outputs": [
    {
     "data": {
      "image/png": "[encoded data removed]",
      "text/plain": [
       "<Figure size 720x288 with 1 Axes>"
      ]
     },
     "metadata": {},
     "output_type": "display_data"
    }
   ],
   "source": [
    "label = RFM_Platinum_Cust.Color.value_counts()\n",
    "sns.set_style(\"darkgrid\")\n",
    "plt.figure(figsize=(10,4))\n",
    "colors = ['#FFFF00',\"#ff0000\",'#0000FF',\"#00FF00\"]\n",
    "# Set your custom color palette\n",
    "sns.set_palette(sns.color_palette(colors))\n",
    "sns.barplot(x=label.index, y=label.values)\n",
    "plt.show()"
   ]
  },
  {
   "cell_type": "markdown",
   "metadata": {},
   "source": [
    "#### Created Separate dataframe for Gold Customer"
   ]
  },
  {
   "cell_type": "code",
   "execution_count": 104,
   "metadata": {},
   "outputs": [
    {
     "data": {
      "text/html": [
       "<div>\n",
       "<style scoped>\n",
       "    .dataframe tbody tr th:only-of-type {\n",
       "        vertical-align: middle;\n",
       "    }\n",
       "\n",
       "    .dataframe tbody tr th {\n",
       "        vertical-align: top;\n",
       "    }\n",
       "\n",
       "    .dataframe thead th {\n",
       "        text-align: right;\n",
       "    }\n",
       "</style>\n",
       "<table border=\"1\" class=\"dataframe\">\n",
       "  <thead>\n",
       "    <tr style=\"text-align: right;\">\n",
       "      <th></th>\n",
       "      <th>Recency</th>\n",
       "      <th>Frequency</th>\n",
       "      <th>Monetary</th>\n",
       "      <th>R</th>\n",
       "      <th>F</th>\n",
       "      <th>M</th>\n",
       "      <th>RFMGroup</th>\n",
       "      <th>RFMScore</th>\n",
       "      <th>RFM_Loyalty_Level</th>\n",
       "      <th>Cluster</th>\n",
       "      <th>Color</th>\n",
       "    </tr>\n",
       "    <tr>\n",
       "      <th>custid</th>\n",
       "      <th></th>\n",
       "      <th></th>\n",
       "      <th></th>\n",
       "      <th></th>\n",
       "      <th></th>\n",
       "      <th></th>\n",
       "      <th></th>\n",
       "      <th></th>\n",
       "      <th></th>\n",
       "      <th></th>\n",
       "      <th></th>\n",
       "    </tr>\n",
       "  </thead>\n",
       "  <tbody>\n",
       "    <tr>\n",
       "      <th>22LQJD</th>\n",
       "      <td>1555</td>\n",
       "      <td>1</td>\n",
       "      <td>79</td>\n",
       "      <td>2</td>\n",
       "      <td>1</td>\n",
       "      <td>4</td>\n",
       "      <td>214</td>\n",
       "      <td>7</td>\n",
       "      <td>Gold</td>\n",
       "      <td>3</td>\n",
       "      <td>yellow</td>\n",
       "    </tr>\n",
       "    <tr>\n",
       "      <th>22NS8Y</th>\n",
       "      <td>1471</td>\n",
       "      <td>1</td>\n",
       "      <td>60</td>\n",
       "      <td>3</td>\n",
       "      <td>1</td>\n",
       "      <td>3</td>\n",
       "      <td>313</td>\n",
       "      <td>7</td>\n",
       "      <td>Gold</td>\n",
       "      <td>0</td>\n",
       "      <td>blue</td>\n",
       "    </tr>\n",
       "    <tr>\n",
       "      <th>22R4GK</th>\n",
       "      <td>1572</td>\n",
       "      <td>1</td>\n",
       "      <td>78</td>\n",
       "      <td>2</td>\n",
       "      <td>1</td>\n",
       "      <td>4</td>\n",
       "      <td>214</td>\n",
       "      <td>7</td>\n",
       "      <td>Gold</td>\n",
       "      <td>3</td>\n",
       "      <td>yellow</td>\n",
       "    </tr>\n",
       "    <tr>\n",
       "      <th>236ZBV</th>\n",
       "      <td>1518</td>\n",
       "      <td>1</td>\n",
       "      <td>61</td>\n",
       "      <td>3</td>\n",
       "      <td>1</td>\n",
       "      <td>3</td>\n",
       "      <td>313</td>\n",
       "      <td>7</td>\n",
       "      <td>Gold</td>\n",
       "      <td>0</td>\n",
       "      <td>blue</td>\n",
       "    </tr>\n",
       "    <tr>\n",
       "      <th>23VJWP</th>\n",
       "      <td>1668</td>\n",
       "      <td>1</td>\n",
       "      <td>114</td>\n",
       "      <td>2</td>\n",
       "      <td>1</td>\n",
       "      <td>4</td>\n",
       "      <td>214</td>\n",
       "      <td>7</td>\n",
       "      <td>Gold</td>\n",
       "      <td>3</td>\n",
       "      <td>yellow</td>\n",
       "    </tr>\n",
       "    <tr>\n",
       "      <th>...</th>\n",
       "      <td>...</td>\n",
       "      <td>...</td>\n",
       "      <td>...</td>\n",
       "      <td>...</td>\n",
       "      <td>...</td>\n",
       "      <td>...</td>\n",
       "      <td>...</td>\n",
       "      <td>...</td>\n",
       "      <td>...</td>\n",
       "      <td>...</td>\n",
       "      <td>...</td>\n",
       "    </tr>\n",
       "    <tr>\n",
       "      <th>ZY5PLY</th>\n",
       "      <td>1463</td>\n",
       "      <td>1</td>\n",
       "      <td>45</td>\n",
       "      <td>4</td>\n",
       "      <td>1</td>\n",
       "      <td>2</td>\n",
       "      <td>412</td>\n",
       "      <td>7</td>\n",
       "      <td>Gold</td>\n",
       "      <td>0</td>\n",
       "      <td>blue</td>\n",
       "    </tr>\n",
       "    <tr>\n",
       "      <th>ZZ7G7X</th>\n",
       "      <td>1536</td>\n",
       "      <td>1</td>\n",
       "      <td>61</td>\n",
       "      <td>3</td>\n",
       "      <td>1</td>\n",
       "      <td>3</td>\n",
       "      <td>313</td>\n",
       "      <td>7</td>\n",
       "      <td>Gold</td>\n",
       "      <td>0</td>\n",
       "      <td>blue</td>\n",
       "    </tr>\n",
       "    <tr>\n",
       "      <th>ZZH59K</th>\n",
       "      <td>1498</td>\n",
       "      <td>1</td>\n",
       "      <td>58</td>\n",
       "      <td>3</td>\n",
       "      <td>1</td>\n",
       "      <td>3</td>\n",
       "      <td>313</td>\n",
       "      <td>7</td>\n",
       "      <td>Gold</td>\n",
       "      <td>0</td>\n",
       "      <td>blue</td>\n",
       "    </tr>\n",
       "    <tr>\n",
       "      <th>ZZN7AH</th>\n",
       "      <td>1591</td>\n",
       "      <td>1</td>\n",
       "      <td>79</td>\n",
       "      <td>2</td>\n",
       "      <td>1</td>\n",
       "      <td>4</td>\n",
       "      <td>214</td>\n",
       "      <td>7</td>\n",
       "      <td>Gold</td>\n",
       "      <td>3</td>\n",
       "      <td>yellow</td>\n",
       "    </tr>\n",
       "    <tr>\n",
       "      <th>ZZNZWE</th>\n",
       "      <td>1674</td>\n",
       "      <td>1</td>\n",
       "      <td>90</td>\n",
       "      <td>2</td>\n",
       "      <td>1</td>\n",
       "      <td>4</td>\n",
       "      <td>214</td>\n",
       "      <td>7</td>\n",
       "      <td>Gold</td>\n",
       "      <td>3</td>\n",
       "      <td>yellow</td>\n",
       "    </tr>\n",
       "  </tbody>\n",
       "</table>\n",
       "<p>4107 rows × 11 columns</p>\n",
       "</div>"
      ],
      "text/plain": [
       "        Recency  Frequency  Monetary  R  F  M RFMGroup  RFMScore  \\\n",
       "custid                                                             \n",
       "22LQJD     1555          1        79  2  1  4      214         7   \n",
       "22NS8Y     1471          1        60  3  1  3      313         7   \n",
       "22R4GK     1572          1        78  2  1  4      214         7   \n",
       "236ZBV     1518          1        61  3  1  3      313         7   \n",
       "23VJWP     1668          1       114  2  1  4      214         7   \n",
       "...         ...        ...       ... .. .. ..      ...       ...   \n",
       "ZY5PLY     1463          1        45  4  1  2      412         7   \n",
       "ZZ7G7X     1536          1        61  3  1  3      313         7   \n",
       "ZZH59K     1498          1        58  3  1  3      313         7   \n",
       "ZZN7AH     1591          1        79  2  1  4      214         7   \n",
       "ZZNZWE     1674          1        90  2  1  4      214         7   \n",
       "\n",
       "       RFM_Loyalty_Level  Cluster   Color  \n",
       "custid                                     \n",
       "22LQJD              Gold        3  yellow  \n",
       "22NS8Y              Gold        0    blue  \n",
       "22R4GK              Gold        3  yellow  \n",
       "236ZBV              Gold        0    blue  \n",
       "23VJWP              Gold        3  yellow  \n",
       "...                  ...      ...     ...  \n",
       "ZY5PLY              Gold        0    blue  \n",
       "ZZ7G7X              Gold        0    blue  \n",
       "ZZH59K              Gold        0    blue  \n",
       "ZZN7AH              Gold        3  yellow  \n",
       "ZZNZWE              Gold        3  yellow  \n",
       "\n",
       "[4107 rows x 11 columns]"
      ]
     },
     "execution_count": 104,
     "metadata": {},
     "output_type": "execute_result"
    }
   ],
   "source": [
    "RFM_Gold_Cust = RFMScores[RFMScores['RFM_Loyalty_Level']=='Gold'] \n",
    "RFM_Gold_Cust"
   ]
  },
  {
   "cell_type": "markdown",
   "metadata": {},
   "source": [
    "#### Creating Graphical Represention of Gold Customer"
   ]
  },
  {
   "cell_type": "code",
   "execution_count": 107,
   "metadata": {},
   "outputs": [
    {
     "data": {
      "image/png": "[encoded data removed]",
      "text/plain": [
       "<Figure size 720x288 with 1 Axes>"
      ]
     },
     "metadata": {},
     "output_type": "display_data"
    }
   ],
   "source": [
    "label = RFM_Gold_Cust.Color.value_counts()\n",
    "sns.set_style(\"darkgrid\")\n",
    "plt.figure(figsize=(10,4))\n",
    "colors = ['#FFFF00','#0000FF',\"#ff0000\"]\n",
    "# Set your custom color palette\n",
    "sns.set_palette(sns.color_palette(colors))\n",
    "sns.barplot(x=label.index, y=label.values)\n",
    "plt.show()"
   ]
  },
  {
   "cell_type": "markdown",
   "metadata": {},
   "source": [
    "#### Created Separate dataframe for Sliver Customer"
   ]
  },
  {
   "cell_type": "code",
   "execution_count": null,
   "metadata": {},
   "outputs": [],
   "source": [
    "RFM_Silver_Cust = RFMScores[RFMScores['RFM_Loyalty_Level']=='Silver'] \n",
    "RFM_Silver_Cust"
   ]
  },
  {
   "cell_type": "markdown",
   "metadata": {},
   "source": [
    "#### Creating Graphical Represention of Sliver Customer"
   ]
  },
  {
   "cell_type": "code",
   "execution_count": 111,
   "metadata": {},
   "outputs": [
    {
     "data": {
      "image/png": "[encoded data removed]",
      "text/plain": [
       "<Figure size 720x288 with 1 Axes>"
      ]
     },
     "metadata": {},
     "output_type": "display_data"
    }
   ],
   "source": [
    "label = RFM_Silver_Cust.Color.value_counts()\n",
    "sns.set_style(\"darkgrid\")\n",
    "plt.figure(figsize=(10,4))\n",
    "colors = ['#FFFF00','#0000FF',\"#ff0000\"]\n",
    "# Set your custom color palette\n",
    "sns.set_palette(sns.color_palette(colors))\n",
    "sns.barplot(x=label.index, y=label.values)\n",
    "plt.show()"
   ]
  },
  {
   "cell_type": "markdown",
   "metadata": {},
   "source": [
    "#### Created Separate dataframe for Bronze Customer"
   ]
  },
  {
   "cell_type": "code",
   "execution_count": 112,
   "metadata": {},
   "outputs": [
    {
     "data": {
      "text/html": [
       "<div>\n",
       "<style scoped>\n",
       "    .dataframe tbody tr th:only-of-type {\n",
       "        vertical-align: middle;\n",
       "    }\n",
       "\n",
       "    .dataframe tbody tr th {\n",
       "        vertical-align: top;\n",
       "    }\n",
       "\n",
       "    .dataframe thead th {\n",
       "        text-align: right;\n",
       "    }\n",
       "</style>\n",
       "<table border=\"1\" class=\"dataframe\">\n",
       "  <thead>\n",
       "    <tr style=\"text-align: right;\">\n",
       "      <th></th>\n",
       "      <th>Recency</th>\n",
       "      <th>Frequency</th>\n",
       "      <th>Monetary</th>\n",
       "      <th>R</th>\n",
       "      <th>F</th>\n",
       "      <th>M</th>\n",
       "      <th>RFMGroup</th>\n",
       "      <th>RFMScore</th>\n",
       "      <th>RFM_Loyalty_Level</th>\n",
       "      <th>Cluster</th>\n",
       "      <th>Color</th>\n",
       "    </tr>\n",
       "    <tr>\n",
       "      <th>custid</th>\n",
       "      <th></th>\n",
       "      <th></th>\n",
       "      <th></th>\n",
       "      <th></th>\n",
       "      <th></th>\n",
       "      <th></th>\n",
       "      <th></th>\n",
       "      <th></th>\n",
       "      <th></th>\n",
       "      <th></th>\n",
       "      <th></th>\n",
       "    </tr>\n",
       "  </thead>\n",
       "  <tbody>\n",
       "    <tr>\n",
       "      <th>2229GF</th>\n",
       "      <td>1564</td>\n",
       "      <td>1</td>\n",
       "      <td>41</td>\n",
       "      <td>2</td>\n",
       "      <td>1</td>\n",
       "      <td>2</td>\n",
       "      <td>212</td>\n",
       "      <td>5</td>\n",
       "      <td>Broze</td>\n",
       "      <td>0</td>\n",
       "      <td>blue</td>\n",
       "    </tr>\n",
       "    <tr>\n",
       "      <th>223KBA</th>\n",
       "      <td>1508</td>\n",
       "      <td>1</td>\n",
       "      <td>40</td>\n",
       "      <td>3</td>\n",
       "      <td>1</td>\n",
       "      <td>1</td>\n",
       "      <td>311</td>\n",
       "      <td>5</td>\n",
       "      <td>Broze</td>\n",
       "      <td>0</td>\n",
       "      <td>blue</td>\n",
       "    </tr>\n",
       "    <tr>\n",
       "      <th>22476K</th>\n",
       "      <td>1594</td>\n",
       "      <td>1</td>\n",
       "      <td>40</td>\n",
       "      <td>2</td>\n",
       "      <td>1</td>\n",
       "      <td>1</td>\n",
       "      <td>211</td>\n",
       "      <td>4</td>\n",
       "      <td>Broze</td>\n",
       "      <td>0</td>\n",
       "      <td>blue</td>\n",
       "    </tr>\n",
       "    <tr>\n",
       "      <th>2253X7</th>\n",
       "      <td>1472</td>\n",
       "      <td>1</td>\n",
       "      <td>31</td>\n",
       "      <td>3</td>\n",
       "      <td>1</td>\n",
       "      <td>1</td>\n",
       "      <td>311</td>\n",
       "      <td>5</td>\n",
       "      <td>Broze</td>\n",
       "      <td>0</td>\n",
       "      <td>blue</td>\n",
       "    </tr>\n",
       "    <tr>\n",
       "      <th>2264XM</th>\n",
       "      <td>1743</td>\n",
       "      <td>1</td>\n",
       "      <td>65</td>\n",
       "      <td>1</td>\n",
       "      <td>1</td>\n",
       "      <td>3</td>\n",
       "      <td>113</td>\n",
       "      <td>5</td>\n",
       "      <td>Broze</td>\n",
       "      <td>3</td>\n",
       "      <td>yellow</td>\n",
       "    </tr>\n",
       "    <tr>\n",
       "      <th>...</th>\n",
       "      <td>...</td>\n",
       "      <td>...</td>\n",
       "      <td>...</td>\n",
       "      <td>...</td>\n",
       "      <td>...</td>\n",
       "      <td>...</td>\n",
       "      <td>...</td>\n",
       "      <td>...</td>\n",
       "      <td>...</td>\n",
       "      <td>...</td>\n",
       "      <td>...</td>\n",
       "    </tr>\n",
       "    <tr>\n",
       "      <th>ZZSXHN</th>\n",
       "      <td>1507</td>\n",
       "      <td>1</td>\n",
       "      <td>40</td>\n",
       "      <td>3</td>\n",
       "      <td>1</td>\n",
       "      <td>1</td>\n",
       "      <td>311</td>\n",
       "      <td>5</td>\n",
       "      <td>Broze</td>\n",
       "      <td>0</td>\n",
       "      <td>blue</td>\n",
       "    </tr>\n",
       "    <tr>\n",
       "      <th>ZZW497</th>\n",
       "      <td>2221</td>\n",
       "      <td>1</td>\n",
       "      <td>16</td>\n",
       "      <td>1</td>\n",
       "      <td>1</td>\n",
       "      <td>1</td>\n",
       "      <td>111</td>\n",
       "      <td>3</td>\n",
       "      <td>Broze</td>\n",
       "      <td>0</td>\n",
       "      <td>blue</td>\n",
       "    </tr>\n",
       "    <tr>\n",
       "      <th>ZZXC9R</th>\n",
       "      <td>1589</td>\n",
       "      <td>1</td>\n",
       "      <td>40</td>\n",
       "      <td>2</td>\n",
       "      <td>1</td>\n",
       "      <td>1</td>\n",
       "      <td>211</td>\n",
       "      <td>4</td>\n",
       "      <td>Broze</td>\n",
       "      <td>0</td>\n",
       "      <td>blue</td>\n",
       "    </tr>\n",
       "    <tr>\n",
       "      <th>ZZY7MS</th>\n",
       "      <td>2301</td>\n",
       "      <td>1</td>\n",
       "      <td>50</td>\n",
       "      <td>1</td>\n",
       "      <td>1</td>\n",
       "      <td>2</td>\n",
       "      <td>112</td>\n",
       "      <td>4</td>\n",
       "      <td>Broze</td>\n",
       "      <td>0</td>\n",
       "      <td>blue</td>\n",
       "    </tr>\n",
       "    <tr>\n",
       "      <th>ZZZRTS</th>\n",
       "      <td>1598</td>\n",
       "      <td>1</td>\n",
       "      <td>40</td>\n",
       "      <td>2</td>\n",
       "      <td>1</td>\n",
       "      <td>1</td>\n",
       "      <td>211</td>\n",
       "      <td>4</td>\n",
       "      <td>Broze</td>\n",
       "      <td>0</td>\n",
       "      <td>blue</td>\n",
       "    </tr>\n",
       "  </tbody>\n",
       "</table>\n",
       "<p>13452 rows × 11 columns</p>\n",
       "</div>"
      ],
      "text/plain": [
       "        Recency  Frequency  Monetary  R  F  M RFMGroup  RFMScore  \\\n",
       "custid                                                             \n",
       "2229GF     1564          1        41  2  1  2      212         5   \n",
       "223KBA     1508          1        40  3  1  1      311         5   \n",
       "22476K     1594          1        40  2  1  1      211         4   \n",
       "2253X7     1472          1        31  3  1  1      311         5   \n",
       "2264XM     1743          1        65  1  1  3      113         5   \n",
       "...         ...        ...       ... .. .. ..      ...       ...   \n",
       "ZZSXHN     1507          1        40  3  1  1      311         5   \n",
       "ZZW497     2221          1        16  1  1  1      111         3   \n",
       "ZZXC9R     1589          1        40  2  1  1      211         4   \n",
       "ZZY7MS     2301          1        50  1  1  2      112         4   \n",
       "ZZZRTS     1598          1        40  2  1  1      211         4   \n",
       "\n",
       "       RFM_Loyalty_Level  Cluster   Color  \n",
       "custid                                     \n",
       "2229GF             Broze        0    blue  \n",
       "223KBA             Broze        0    blue  \n",
       "22476K             Broze        0    blue  \n",
       "2253X7             Broze        0    blue  \n",
       "2264XM             Broze        3  yellow  \n",
       "...                  ...      ...     ...  \n",
       "ZZSXHN             Broze        0    blue  \n",
       "ZZW497             Broze        0    blue  \n",
       "ZZXC9R             Broze        0    blue  \n",
       "ZZY7MS             Broze        0    blue  \n",
       "ZZZRTS             Broze        0    blue  \n",
       "\n",
       "[13452 rows x 11 columns]"
      ]
     },
     "execution_count": 112,
     "metadata": {},
     "output_type": "execute_result"
    }
   ],
   "source": [
    "RFM_Broze_Cust = RFMScores[RFMScores['RFM_Loyalty_Level']=='Bronze'] \n",
    "RFM_Broze_Cust"
   ]
  },
  {
   "cell_type": "markdown",
   "metadata": {},
   "source": [
    "#### Creating Graphical Represention of Bronze  Customer"
   ]
  },
  {
   "cell_type": "code",
   "execution_count": 115,
   "metadata": {},
   "outputs": [
    {
     "data": {
      "image/png": "[encoded data removed]",
      "text/plain": [
       "<Figure size 720x288 with 1 Axes>"
      ]
     },
     "metadata": {},
     "output_type": "display_data"
    }
   ],
   "source": [
    "label = RFM_Broze_Cust.Color.value_counts()\n",
    "sns.set_style(\"darkgrid\")\n",
    "plt.figure(figsize=(10,4))\n",
    "colors = ['#0000FF','#FFFF00']\n",
    "# Set your custom color palette\n",
    "sns.set_palette(sns.color_palette(colors))\n",
    "sns.barplot(x=label.index, y=label.values)\n",
    "plt.show()"
   ]
  },
  {
   "cell_type": "markdown",
   "metadata": {},
   "source": [
    "# Classfication Model"
   ]
  },
  {
   "cell_type": "code",
   "execution_count": 117,
   "metadata": {},
   "outputs": [
    {
     "data": {
      "text/html": [
       "<div>\n",
       "<style scoped>\n",
       "    .dataframe tbody tr th:only-of-type {\n",
       "        vertical-align: middle;\n",
       "    }\n",
       "\n",
       "    .dataframe tbody tr th {\n",
       "        vertical-align: top;\n",
       "    }\n",
       "\n",
       "    .dataframe thead th {\n",
       "        text-align: right;\n",
       "    }\n",
       "</style>\n",
       "<table border=\"1\" class=\"dataframe\">\n",
       "  <thead>\n",
       "    <tr style=\"text-align: right;\">\n",
       "      <th></th>\n",
       "      <th>custid</th>\n",
       "      <th>retained</th>\n",
       "      <th>created</th>\n",
       "      <th>firstorder</th>\n",
       "      <th>register_to_order</th>\n",
       "      <th>lastorder</th>\n",
       "      <th>first_to_last_order</th>\n",
       "      <th>esent</th>\n",
       "      <th>eopenrate</th>\n",
       "      <th>eclickrate</th>\n",
       "      <th>avgorder</th>\n",
       "      <th>ordfreq</th>\n",
       "      <th>Number of orders</th>\n",
       "      <th>paperless</th>\n",
       "      <th>refill</th>\n",
       "      <th>doorstep</th>\n",
       "      <th>favday</th>\n",
       "      <th>city</th>\n",
       "    </tr>\n",
       "  </thead>\n",
       "  <tbody>\n",
       "    <tr>\n",
       "      <th>0</th>\n",
       "      <td>4PL8PJ</td>\n",
       "      <td>0</td>\n",
       "      <td>7/20/2012</td>\n",
       "      <td>7/20/2012</td>\n",
       "      <td>0</td>\n",
       "      <td>7/20/2012</td>\n",
       "      <td>0</td>\n",
       "      <td>0</td>\n",
       "      <td>0.00</td>\n",
       "      <td>0.0</td>\n",
       "      <td>31</td>\n",
       "      <td>0</td>\n",
       "      <td>1</td>\n",
       "      <td>0</td>\n",
       "      <td>0</td>\n",
       "      <td>0</td>\n",
       "      <td>Sunday</td>\n",
       "      <td>MAA</td>\n",
       "    </tr>\n",
       "    <tr>\n",
       "      <th>1</th>\n",
       "      <td>EWWSX3</td>\n",
       "      <td>0</td>\n",
       "      <td>7/20/2012</td>\n",
       "      <td>7/20/2012</td>\n",
       "      <td>0</td>\n",
       "      <td>7/20/2012</td>\n",
       "      <td>0</td>\n",
       "      <td>0</td>\n",
       "      <td>0.00</td>\n",
       "      <td>0.0</td>\n",
       "      <td>35</td>\n",
       "      <td>0</td>\n",
       "      <td>1</td>\n",
       "      <td>0</td>\n",
       "      <td>0</td>\n",
       "      <td>0</td>\n",
       "      <td>Sunday</td>\n",
       "      <td>MAA</td>\n",
       "    </tr>\n",
       "    <tr>\n",
       "      <th>2</th>\n",
       "      <td>AA5UR5</td>\n",
       "      <td>1</td>\n",
       "      <td>7/20/2012</td>\n",
       "      <td>7/20/2012</td>\n",
       "      <td>0</td>\n",
       "      <td>7/20/2012</td>\n",
       "      <td>0</td>\n",
       "      <td>37</td>\n",
       "      <td>5.41</td>\n",
       "      <td>0.0</td>\n",
       "      <td>51</td>\n",
       "      <td>0</td>\n",
       "      <td>1</td>\n",
       "      <td>0</td>\n",
       "      <td>0</td>\n",
       "      <td>0</td>\n",
       "      <td>Sunday</td>\n",
       "      <td>BLR</td>\n",
       "    </tr>\n",
       "    <tr>\n",
       "      <th>3</th>\n",
       "      <td>JKN7DR</td>\n",
       "      <td>1</td>\n",
       "      <td>7/20/2012</td>\n",
       "      <td>7/20/2012</td>\n",
       "      <td>0</td>\n",
       "      <td>7/20/2012</td>\n",
       "      <td>0</td>\n",
       "      <td>36</td>\n",
       "      <td>0.00</td>\n",
       "      <td>0.0</td>\n",
       "      <td>62</td>\n",
       "      <td>0</td>\n",
       "      <td>1</td>\n",
       "      <td>0</td>\n",
       "      <td>0</td>\n",
       "      <td>0</td>\n",
       "      <td>Sunday</td>\n",
       "      <td>MAA</td>\n",
       "    </tr>\n",
       "    <tr>\n",
       "      <th>4</th>\n",
       "      <td>6F97V9</td>\n",
       "      <td>0</td>\n",
       "      <td>7/20/2012</td>\n",
       "      <td>7/20/2012</td>\n",
       "      <td>0</td>\n",
       "      <td>7/20/2012</td>\n",
       "      <td>0</td>\n",
       "      <td>0</td>\n",
       "      <td>0.00</td>\n",
       "      <td>0.0</td>\n",
       "      <td>30</td>\n",
       "      <td>0</td>\n",
       "      <td>1</td>\n",
       "      <td>0</td>\n",
       "      <td>0</td>\n",
       "      <td>0</td>\n",
       "      <td>Sunday</td>\n",
       "      <td>MAA</td>\n",
       "    </tr>\n",
       "  </tbody>\n",
       "</table>\n",
       "</div>"
      ],
      "text/plain": [
       "   custid  retained    created firstorder  register_to_order  lastorder  \\\n",
       "0  4PL8PJ         0  7/20/2012  7/20/2012                  0  7/20/2012   \n",
       "1  EWWSX3         0  7/20/2012  7/20/2012                  0  7/20/2012   \n",
       "2  AA5UR5         1  7/20/2012  7/20/2012                  0  7/20/2012   \n",
       "3  JKN7DR         1  7/20/2012  7/20/2012                  0  7/20/2012   \n",
       "4  6F97V9         0  7/20/2012  7/20/2012                  0  7/20/2012   \n",
       "\n",
       "   first_to_last_order  esent  eopenrate  eclickrate  avgorder  ordfreq  \\\n",
       "0                    0      0       0.00         0.0        31        0   \n",
       "1                    0      0       0.00         0.0        35        0   \n",
       "2                    0     37       5.41         0.0        51        0   \n",
       "3                    0     36       0.00         0.0        62        0   \n",
       "4                    0      0       0.00         0.0        30        0   \n",
       "\n",
       "    Number of orders   paperless  refill  doorstep  favday city  \n",
       "0                   1          0       0         0  Sunday  MAA  \n",
       "1                   1          0       0         0  Sunday  MAA  \n",
       "2                   1          0       0         0  Sunday  BLR  \n",
       "3                   1          0       0         0  Sunday  MAA  \n",
       "4                   1          0       0         0  Sunday  MAA  "
      ]
     },
     "execution_count": 117,
     "metadata": {},
     "output_type": "execute_result"
    }
   ],
   "source": [
    "#Import Dataset\n",
    "retain_dataset = cr.copy() # making a copy for encoded new df\n",
    "retain_dataset.head()"
   ]
  },
  {
   "cell_type": "code",
   "execution_count": 118,
   "metadata": {},
   "outputs": [
    {
     "data": {
      "text/plain": [
       "(30772, 18)"
      ]
     },
     "execution_count": 118,
     "metadata": {},
     "output_type": "execute_result"
    }
   ],
   "source": [
    "# Number of Columns and Rows in the Dataset\n",
    "retain_dataset.shape"
   ]
  },
  {
   "cell_type": "code",
   "execution_count": 119,
   "metadata": {},
   "outputs": [
    {
     "data": {
      "text/html": [
       "<div>\n",
       "<style scoped>\n",
       "    .dataframe tbody tr th:only-of-type {\n",
       "        vertical-align: middle;\n",
       "    }\n",
       "\n",
       "    .dataframe tbody tr th {\n",
       "        vertical-align: top;\n",
       "    }\n",
       "\n",
       "    .dataframe thead th {\n",
       "        text-align: right;\n",
       "    }\n",
       "</style>\n",
       "<table border=\"1\" class=\"dataframe\">\n",
       "  <thead>\n",
       "    <tr style=\"text-align: right;\">\n",
       "      <th></th>\n",
       "      <th>custid</th>\n",
       "      <th>retained</th>\n",
       "      <th>created</th>\n",
       "      <th>firstorder</th>\n",
       "      <th>register_to_order</th>\n",
       "      <th>lastorder</th>\n",
       "      <th>first_to_last_order</th>\n",
       "      <th>esent</th>\n",
       "      <th>eopenrate</th>\n",
       "      <th>eclickrate</th>\n",
       "      <th>avgorder</th>\n",
       "      <th>ordfreq</th>\n",
       "      <th>Number of orders</th>\n",
       "      <th>paperless</th>\n",
       "      <th>refill</th>\n",
       "      <th>doorstep</th>\n",
       "      <th>favday</th>\n",
       "      <th>city</th>\n",
       "    </tr>\n",
       "  </thead>\n",
       "  <tbody>\n",
       "    <tr>\n",
       "      <th>0</th>\n",
       "      <td>4PL8PJ</td>\n",
       "      <td>0</td>\n",
       "      <td>7/20/2012</td>\n",
       "      <td>7/20/2012</td>\n",
       "      <td>0</td>\n",
       "      <td>7/20/2012</td>\n",
       "      <td>0</td>\n",
       "      <td>0</td>\n",
       "      <td>0.00</td>\n",
       "      <td>0.00</td>\n",
       "      <td>31</td>\n",
       "      <td>0</td>\n",
       "      <td>1</td>\n",
       "      <td>0</td>\n",
       "      <td>0</td>\n",
       "      <td>0</td>\n",
       "      <td>Sunday</td>\n",
       "      <td>MAA</td>\n",
       "    </tr>\n",
       "    <tr>\n",
       "      <th>1</th>\n",
       "      <td>EWWSX3</td>\n",
       "      <td>0</td>\n",
       "      <td>7/20/2012</td>\n",
       "      <td>7/20/2012</td>\n",
       "      <td>0</td>\n",
       "      <td>7/20/2012</td>\n",
       "      <td>0</td>\n",
       "      <td>0</td>\n",
       "      <td>0.00</td>\n",
       "      <td>0.00</td>\n",
       "      <td>35</td>\n",
       "      <td>0</td>\n",
       "      <td>1</td>\n",
       "      <td>0</td>\n",
       "      <td>0</td>\n",
       "      <td>0</td>\n",
       "      <td>Sunday</td>\n",
       "      <td>MAA</td>\n",
       "    </tr>\n",
       "    <tr>\n",
       "      <th>2</th>\n",
       "      <td>AA5UR5</td>\n",
       "      <td>1</td>\n",
       "      <td>7/20/2012</td>\n",
       "      <td>7/20/2012</td>\n",
       "      <td>0</td>\n",
       "      <td>7/20/2012</td>\n",
       "      <td>0</td>\n",
       "      <td>37</td>\n",
       "      <td>5.41</td>\n",
       "      <td>0.00</td>\n",
       "      <td>51</td>\n",
       "      <td>0</td>\n",
       "      <td>1</td>\n",
       "      <td>0</td>\n",
       "      <td>0</td>\n",
       "      <td>0</td>\n",
       "      <td>Sunday</td>\n",
       "      <td>BLR</td>\n",
       "    </tr>\n",
       "    <tr>\n",
       "      <th>3</th>\n",
       "      <td>JKN7DR</td>\n",
       "      <td>1</td>\n",
       "      <td>7/20/2012</td>\n",
       "      <td>7/20/2012</td>\n",
       "      <td>0</td>\n",
       "      <td>7/20/2012</td>\n",
       "      <td>0</td>\n",
       "      <td>36</td>\n",
       "      <td>0.00</td>\n",
       "      <td>0.00</td>\n",
       "      <td>62</td>\n",
       "      <td>0</td>\n",
       "      <td>1</td>\n",
       "      <td>0</td>\n",
       "      <td>0</td>\n",
       "      <td>0</td>\n",
       "      <td>Sunday</td>\n",
       "      <td>MAA</td>\n",
       "    </tr>\n",
       "    <tr>\n",
       "      <th>4</th>\n",
       "      <td>6F97V9</td>\n",
       "      <td>0</td>\n",
       "      <td>7/20/2012</td>\n",
       "      <td>7/20/2012</td>\n",
       "      <td>0</td>\n",
       "      <td>7/20/2012</td>\n",
       "      <td>0</td>\n",
       "      <td>0</td>\n",
       "      <td>0.00</td>\n",
       "      <td>0.00</td>\n",
       "      <td>30</td>\n",
       "      <td>0</td>\n",
       "      <td>1</td>\n",
       "      <td>0</td>\n",
       "      <td>0</td>\n",
       "      <td>0</td>\n",
       "      <td>Sunday</td>\n",
       "      <td>MAA</td>\n",
       "    </tr>\n",
       "    <tr>\n",
       "      <th>...</th>\n",
       "      <td>...</td>\n",
       "      <td>...</td>\n",
       "      <td>...</td>\n",
       "      <td>...</td>\n",
       "      <td>...</td>\n",
       "      <td>...</td>\n",
       "      <td>...</td>\n",
       "      <td>...</td>\n",
       "      <td>...</td>\n",
       "      <td>...</td>\n",
       "      <td>...</td>\n",
       "      <td>...</td>\n",
       "      <td>...</td>\n",
       "      <td>...</td>\n",
       "      <td>...</td>\n",
       "      <td>...</td>\n",
       "      <td>...</td>\n",
       "      <td>...</td>\n",
       "    </tr>\n",
       "    <tr>\n",
       "      <th>30767</th>\n",
       "      <td>TL9BZS</td>\n",
       "      <td>1</td>\n",
       "      <td>10/31/2009</td>\n",
       "      <td>1/4/2014</td>\n",
       "      <td>1526</td>\n",
       "      <td>1/4/2014</td>\n",
       "      <td>0</td>\n",
       "      <td>18</td>\n",
       "      <td>50.00</td>\n",
       "      <td>5.56</td>\n",
       "      <td>51</td>\n",
       "      <td>0</td>\n",
       "      <td>1</td>\n",
       "      <td>0</td>\n",
       "      <td>0</td>\n",
       "      <td>0</td>\n",
       "      <td>Monday</td>\n",
       "      <td>DEL</td>\n",
       "    </tr>\n",
       "    <tr>\n",
       "      <th>30768</th>\n",
       "      <td>LLX2PU</td>\n",
       "      <td>1</td>\n",
       "      <td>7/9/2009</td>\n",
       "      <td>9/24/2013</td>\n",
       "      <td>1538</td>\n",
       "      <td>9/24/2013</td>\n",
       "      <td>0</td>\n",
       "      <td>45</td>\n",
       "      <td>6.67</td>\n",
       "      <td>0.00</td>\n",
       "      <td>90</td>\n",
       "      <td>0</td>\n",
       "      <td>1</td>\n",
       "      <td>0</td>\n",
       "      <td>0</td>\n",
       "      <td>0</td>\n",
       "      <td>Wednesday</td>\n",
       "      <td>DEL</td>\n",
       "    </tr>\n",
       "    <tr>\n",
       "      <th>30769</th>\n",
       "      <td>79VFJW</td>\n",
       "      <td>1</td>\n",
       "      <td>4/11/2009</td>\n",
       "      <td>10/18/2013</td>\n",
       "      <td>1651</td>\n",
       "      <td>1/19/2014</td>\n",
       "      <td>93</td>\n",
       "      <td>36</td>\n",
       "      <td>8.33</td>\n",
       "      <td>0.00</td>\n",
       "      <td>58</td>\n",
       "      <td>0</td>\n",
       "      <td>6</td>\n",
       "      <td>0</td>\n",
       "      <td>0</td>\n",
       "      <td>0</td>\n",
       "      <td>Monday</td>\n",
       "      <td>DEL</td>\n",
       "    </tr>\n",
       "    <tr>\n",
       "      <th>30770</th>\n",
       "      <td>DVRL7B</td>\n",
       "      <td>1</td>\n",
       "      <td>10/7/2008</td>\n",
       "      <td>1/4/2014</td>\n",
       "      <td>1915</td>\n",
       "      <td>1/4/2014</td>\n",
       "      <td>0</td>\n",
       "      <td>9</td>\n",
       "      <td>88.89</td>\n",
       "      <td>11.11</td>\n",
       "      <td>48</td>\n",
       "      <td>0</td>\n",
       "      <td>1</td>\n",
       "      <td>1</td>\n",
       "      <td>0</td>\n",
       "      <td>0</td>\n",
       "      <td>Saturday</td>\n",
       "      <td>DEL</td>\n",
       "    </tr>\n",
       "    <tr>\n",
       "      <th>30771</th>\n",
       "      <td>5EKGJ7</td>\n",
       "      <td>1</td>\n",
       "      <td>7/22/2008</td>\n",
       "      <td>1/10/2014</td>\n",
       "      <td>1998</td>\n",
       "      <td>1/10/2014</td>\n",
       "      <td>0</td>\n",
       "      <td>31</td>\n",
       "      <td>16.13</td>\n",
       "      <td>6.45</td>\n",
       "      <td>35</td>\n",
       "      <td>0</td>\n",
       "      <td>1</td>\n",
       "      <td>0</td>\n",
       "      <td>0</td>\n",
       "      <td>0</td>\n",
       "      <td>Friday</td>\n",
       "      <td>DEL</td>\n",
       "    </tr>\n",
       "  </tbody>\n",
       "</table>\n",
       "<p>30772 rows × 18 columns</p>\n",
       "</div>"
      ],
      "text/plain": [
       "       custid  retained     created  firstorder  register_to_order  lastorder  \\\n",
       "0      4PL8PJ         0   7/20/2012   7/20/2012                  0  7/20/2012   \n",
       "1      EWWSX3         0   7/20/2012   7/20/2012                  0  7/20/2012   \n",
       "2      AA5UR5         1   7/20/2012   7/20/2012                  0  7/20/2012   \n",
       "3      JKN7DR         1   7/20/2012   7/20/2012                  0  7/20/2012   \n",
       "4      6F97V9         0   7/20/2012   7/20/2012                  0  7/20/2012   \n",
       "...       ...       ...         ...         ...                ...        ...   \n",
       "30767  TL9BZS         1  10/31/2009    1/4/2014               1526   1/4/2014   \n",
       "30768  LLX2PU         1    7/9/2009   9/24/2013               1538  9/24/2013   \n",
       "30769  79VFJW         1   4/11/2009  10/18/2013               1651  1/19/2014   \n",
       "30770  DVRL7B         1   10/7/2008    1/4/2014               1915   1/4/2014   \n",
       "30771  5EKGJ7         1   7/22/2008   1/10/2014               1998  1/10/2014   \n",
       "\n",
       "       first_to_last_order  esent  eopenrate  eclickrate  avgorder  ordfreq  \\\n",
       "0                        0      0       0.00        0.00        31        0   \n",
       "1                        0      0       0.00        0.00        35        0   \n",
       "2                        0     37       5.41        0.00        51        0   \n",
       "3                        0     36       0.00        0.00        62        0   \n",
       "4                        0      0       0.00        0.00        30        0   \n",
       "...                    ...    ...        ...         ...       ...      ...   \n",
       "30767                    0     18      50.00        5.56        51        0   \n",
       "30768                    0     45       6.67        0.00        90        0   \n",
       "30769                   93     36       8.33        0.00        58        0   \n",
       "30770                    0      9      88.89       11.11        48        0   \n",
       "30771                    0     31      16.13        6.45        35        0   \n",
       "\n",
       "        Number of orders   paperless  refill  doorstep     favday city  \n",
       "0                       1          0       0         0     Sunday  MAA  \n",
       "1                       1          0       0         0     Sunday  MAA  \n",
       "2                       1          0       0         0     Sunday  BLR  \n",
       "3                       1          0       0         0     Sunday  MAA  \n",
       "4                       1          0       0         0     Sunday  MAA  \n",
       "...                   ...        ...     ...       ...        ...  ...  \n",
       "30767                   1          0       0         0     Monday  DEL  \n",
       "30768                   1          0       0         0  Wednesday  DEL  \n",
       "30769                   6          0       0         0     Monday  DEL  \n",
       "30770                   1          1       0         0   Saturday  DEL  \n",
       "30771                   1          0       0         0     Friday  DEL  \n",
       "\n",
       "[30772 rows x 18 columns]"
      ]
     },
     "execution_count": 119,
     "metadata": {},
     "output_type": "execute_result"
    }
   ],
   "source": [
    "retain_dataset"
   ]
  },
  {
   "cell_type": "code",
   "execution_count": 120,
   "metadata": {},
   "outputs": [],
   "source": [
    "retain_encoded = retain_dataset.copy() # making a copy for encoded new df"
   ]
  },
  {
   "cell_type": "markdown",
   "metadata": {},
   "source": [
    "#### Creating Dummies Varaibles "
   ]
  },
  {
   "cell_type": "code",
   "execution_count": 121,
   "metadata": {},
   "outputs": [],
   "source": [
    "retain_encoded = pd.get_dummies(retain_encoded, columns = ['favday','city'\n",
    "                                                        ],\n",
    "                              drop_first=True)"
   ]
  },
  {
   "cell_type": "code",
   "execution_count": 122,
   "metadata": {},
   "outputs": [
    {
     "data": {
      "text/html": [
       "<div>\n",
       "<style scoped>\n",
       "    .dataframe tbody tr th:only-of-type {\n",
       "        vertical-align: middle;\n",
       "    }\n",
       "\n",
       "    .dataframe tbody tr th {\n",
       "        vertical-align: top;\n",
       "    }\n",
       "\n",
       "    .dataframe thead th {\n",
       "        text-align: right;\n",
       "    }\n",
       "</style>\n",
       "<table border=\"1\" class=\"dataframe\">\n",
       "  <thead>\n",
       "    <tr style=\"text-align: right;\">\n",
       "      <th></th>\n",
       "      <th>custid</th>\n",
       "      <th>retained</th>\n",
       "      <th>created</th>\n",
       "      <th>firstorder</th>\n",
       "      <th>register_to_order</th>\n",
       "      <th>lastorder</th>\n",
       "      <th>first_to_last_order</th>\n",
       "      <th>esent</th>\n",
       "      <th>eopenrate</th>\n",
       "      <th>eclickrate</th>\n",
       "      <th>...</th>\n",
       "      <th>doorstep</th>\n",
       "      <th>favday_Monday</th>\n",
       "      <th>favday_Saturday</th>\n",
       "      <th>favday_Sunday</th>\n",
       "      <th>favday_Thursday</th>\n",
       "      <th>favday_Tuesday</th>\n",
       "      <th>favday_Wednesday</th>\n",
       "      <th>city_BOM</th>\n",
       "      <th>city_DEL</th>\n",
       "      <th>city_MAA</th>\n",
       "    </tr>\n",
       "  </thead>\n",
       "  <tbody>\n",
       "    <tr>\n",
       "      <th>0</th>\n",
       "      <td>4PL8PJ</td>\n",
       "      <td>0</td>\n",
       "      <td>7/20/2012</td>\n",
       "      <td>7/20/2012</td>\n",
       "      <td>0</td>\n",
       "      <td>7/20/2012</td>\n",
       "      <td>0</td>\n",
       "      <td>0</td>\n",
       "      <td>0.00</td>\n",
       "      <td>0.00</td>\n",
       "      <td>...</td>\n",
       "      <td>0</td>\n",
       "      <td>0</td>\n",
       "      <td>0</td>\n",
       "      <td>1</td>\n",
       "      <td>0</td>\n",
       "      <td>0</td>\n",
       "      <td>0</td>\n",
       "      <td>0</td>\n",
       "      <td>0</td>\n",
       "      <td>1</td>\n",
       "    </tr>\n",
       "    <tr>\n",
       "      <th>1</th>\n",
       "      <td>EWWSX3</td>\n",
       "      <td>0</td>\n",
       "      <td>7/20/2012</td>\n",
       "      <td>7/20/2012</td>\n",
       "      <td>0</td>\n",
       "      <td>7/20/2012</td>\n",
       "      <td>0</td>\n",
       "      <td>0</td>\n",
       "      <td>0.00</td>\n",
       "      <td>0.00</td>\n",
       "      <td>...</td>\n",
       "      <td>0</td>\n",
       "      <td>0</td>\n",
       "      <td>0</td>\n",
       "      <td>1</td>\n",
       "      <td>0</td>\n",
       "      <td>0</td>\n",
       "      <td>0</td>\n",
       "      <td>0</td>\n",
       "      <td>0</td>\n",
       "      <td>1</td>\n",
       "    </tr>\n",
       "    <tr>\n",
       "      <th>2</th>\n",
       "      <td>AA5UR5</td>\n",
       "      <td>1</td>\n",
       "      <td>7/20/2012</td>\n",
       "      <td>7/20/2012</td>\n",
       "      <td>0</td>\n",
       "      <td>7/20/2012</td>\n",
       "      <td>0</td>\n",
       "      <td>37</td>\n",
       "      <td>5.41</td>\n",
       "      <td>0.00</td>\n",
       "      <td>...</td>\n",
       "      <td>0</td>\n",
       "      <td>0</td>\n",
       "      <td>0</td>\n",
       "      <td>1</td>\n",
       "      <td>0</td>\n",
       "      <td>0</td>\n",
       "      <td>0</td>\n",
       "      <td>0</td>\n",
       "      <td>0</td>\n",
       "      <td>0</td>\n",
       "    </tr>\n",
       "    <tr>\n",
       "      <th>3</th>\n",
       "      <td>JKN7DR</td>\n",
       "      <td>1</td>\n",
       "      <td>7/20/2012</td>\n",
       "      <td>7/20/2012</td>\n",
       "      <td>0</td>\n",
       "      <td>7/20/2012</td>\n",
       "      <td>0</td>\n",
       "      <td>36</td>\n",
       "      <td>0.00</td>\n",
       "      <td>0.00</td>\n",
       "      <td>...</td>\n",
       "      <td>0</td>\n",
       "      <td>0</td>\n",
       "      <td>0</td>\n",
       "      <td>1</td>\n",
       "      <td>0</td>\n",
       "      <td>0</td>\n",
       "      <td>0</td>\n",
       "      <td>0</td>\n",
       "      <td>0</td>\n",
       "      <td>1</td>\n",
       "    </tr>\n",
       "    <tr>\n",
       "      <th>4</th>\n",
       "      <td>6F97V9</td>\n",
       "      <td>0</td>\n",
       "      <td>7/20/2012</td>\n",
       "      <td>7/20/2012</td>\n",
       "      <td>0</td>\n",
       "      <td>7/20/2012</td>\n",
       "      <td>0</td>\n",
       "      <td>0</td>\n",
       "      <td>0.00</td>\n",
       "      <td>0.00</td>\n",
       "      <td>...</td>\n",
       "      <td>0</td>\n",
       "      <td>0</td>\n",
       "      <td>0</td>\n",
       "      <td>1</td>\n",
       "      <td>0</td>\n",
       "      <td>0</td>\n",
       "      <td>0</td>\n",
       "      <td>0</td>\n",
       "      <td>0</td>\n",
       "      <td>1</td>\n",
       "    </tr>\n",
       "    <tr>\n",
       "      <th>...</th>\n",
       "      <td>...</td>\n",
       "      <td>...</td>\n",
       "      <td>...</td>\n",
       "      <td>...</td>\n",
       "      <td>...</td>\n",
       "      <td>...</td>\n",
       "      <td>...</td>\n",
       "      <td>...</td>\n",
       "      <td>...</td>\n",
       "      <td>...</td>\n",
       "      <td>...</td>\n",
       "      <td>...</td>\n",
       "      <td>...</td>\n",
       "      <td>...</td>\n",
       "      <td>...</td>\n",
       "      <td>...</td>\n",
       "      <td>...</td>\n",
       "      <td>...</td>\n",
       "      <td>...</td>\n",
       "      <td>...</td>\n",
       "      <td>...</td>\n",
       "    </tr>\n",
       "    <tr>\n",
       "      <th>30767</th>\n",
       "      <td>TL9BZS</td>\n",
       "      <td>1</td>\n",
       "      <td>10/31/2009</td>\n",
       "      <td>1/4/2014</td>\n",
       "      <td>1526</td>\n",
       "      <td>1/4/2014</td>\n",
       "      <td>0</td>\n",
       "      <td>18</td>\n",
       "      <td>50.00</td>\n",
       "      <td>5.56</td>\n",
       "      <td>...</td>\n",
       "      <td>0</td>\n",
       "      <td>1</td>\n",
       "      <td>0</td>\n",
       "      <td>0</td>\n",
       "      <td>0</td>\n",
       "      <td>0</td>\n",
       "      <td>0</td>\n",
       "      <td>0</td>\n",
       "      <td>1</td>\n",
       "      <td>0</td>\n",
       "    </tr>\n",
       "    <tr>\n",
       "      <th>30768</th>\n",
       "      <td>LLX2PU</td>\n",
       "      <td>1</td>\n",
       "      <td>7/9/2009</td>\n",
       "      <td>9/24/2013</td>\n",
       "      <td>1538</td>\n",
       "      <td>9/24/2013</td>\n",
       "      <td>0</td>\n",
       "      <td>45</td>\n",
       "      <td>6.67</td>\n",
       "      <td>0.00</td>\n",
       "      <td>...</td>\n",
       "      <td>0</td>\n",
       "      <td>0</td>\n",
       "      <td>0</td>\n",
       "      <td>0</td>\n",
       "      <td>0</td>\n",
       "      <td>0</td>\n",
       "      <td>1</td>\n",
       "      <td>0</td>\n",
       "      <td>1</td>\n",
       "      <td>0</td>\n",
       "    </tr>\n",
       "    <tr>\n",
       "      <th>30769</th>\n",
       "      <td>79VFJW</td>\n",
       "      <td>1</td>\n",
       "      <td>4/11/2009</td>\n",
       "      <td>10/18/2013</td>\n",
       "      <td>1651</td>\n",
       "      <td>1/19/2014</td>\n",
       "      <td>93</td>\n",
       "      <td>36</td>\n",
       "      <td>8.33</td>\n",
       "      <td>0.00</td>\n",
       "      <td>...</td>\n",
       "      <td>0</td>\n",
       "      <td>1</td>\n",
       "      <td>0</td>\n",
       "      <td>0</td>\n",
       "      <td>0</td>\n",
       "      <td>0</td>\n",
       "      <td>0</td>\n",
       "      <td>0</td>\n",
       "      <td>1</td>\n",
       "      <td>0</td>\n",
       "    </tr>\n",
       "    <tr>\n",
       "      <th>30770</th>\n",
       "      <td>DVRL7B</td>\n",
       "      <td>1</td>\n",
       "      <td>10/7/2008</td>\n",
       "      <td>1/4/2014</td>\n",
       "      <td>1915</td>\n",
       "      <td>1/4/2014</td>\n",
       "      <td>0</td>\n",
       "      <td>9</td>\n",
       "      <td>88.89</td>\n",
       "      <td>11.11</td>\n",
       "      <td>...</td>\n",
       "      <td>0</td>\n",
       "      <td>0</td>\n",
       "      <td>1</td>\n",
       "      <td>0</td>\n",
       "      <td>0</td>\n",
       "      <td>0</td>\n",
       "      <td>0</td>\n",
       "      <td>0</td>\n",
       "      <td>1</td>\n",
       "      <td>0</td>\n",
       "    </tr>\n",
       "    <tr>\n",
       "      <th>30771</th>\n",
       "      <td>5EKGJ7</td>\n",
       "      <td>1</td>\n",
       "      <td>7/22/2008</td>\n",
       "      <td>1/10/2014</td>\n",
       "      <td>1998</td>\n",
       "      <td>1/10/2014</td>\n",
       "      <td>0</td>\n",
       "      <td>31</td>\n",
       "      <td>16.13</td>\n",
       "      <td>6.45</td>\n",
       "      <td>...</td>\n",
       "      <td>0</td>\n",
       "      <td>0</td>\n",
       "      <td>0</td>\n",
       "      <td>0</td>\n",
       "      <td>0</td>\n",
       "      <td>0</td>\n",
       "      <td>0</td>\n",
       "      <td>0</td>\n",
       "      <td>1</td>\n",
       "      <td>0</td>\n",
       "    </tr>\n",
       "  </tbody>\n",
       "</table>\n",
       "<p>30772 rows × 25 columns</p>\n",
       "</div>"
      ],
      "text/plain": [
       "       custid  retained     created  firstorder  register_to_order  lastorder  \\\n",
       "0      4PL8PJ         0   7/20/2012   7/20/2012                  0  7/20/2012   \n",
       "1      EWWSX3         0   7/20/2012   7/20/2012                  0  7/20/2012   \n",
       "2      AA5UR5         1   7/20/2012   7/20/2012                  0  7/20/2012   \n",
       "3      JKN7DR         1   7/20/2012   7/20/2012                  0  7/20/2012   \n",
       "4      6F97V9         0   7/20/2012   7/20/2012                  0  7/20/2012   \n",
       "...       ...       ...         ...         ...                ...        ...   \n",
       "30767  TL9BZS         1  10/31/2009    1/4/2014               1526   1/4/2014   \n",
       "30768  LLX2PU         1    7/9/2009   9/24/2013               1538  9/24/2013   \n",
       "30769  79VFJW         1   4/11/2009  10/18/2013               1651  1/19/2014   \n",
       "30770  DVRL7B         1   10/7/2008    1/4/2014               1915   1/4/2014   \n",
       "30771  5EKGJ7         1   7/22/2008   1/10/2014               1998  1/10/2014   \n",
       "\n",
       "       first_to_last_order  esent  eopenrate  eclickrate  ...  doorstep  \\\n",
       "0                        0      0       0.00        0.00  ...         0   \n",
       "1                        0      0       0.00        0.00  ...         0   \n",
       "2                        0     37       5.41        0.00  ...         0   \n",
       "3                        0     36       0.00        0.00  ...         0   \n",
       "4                        0      0       0.00        0.00  ...         0   \n",
       "...                    ...    ...        ...         ...  ...       ...   \n",
       "30767                    0     18      50.00        5.56  ...         0   \n",
       "30768                    0     45       6.67        0.00  ...         0   \n",
       "30769                   93     36       8.33        0.00  ...         0   \n",
       "30770                    0      9      88.89       11.11  ...         0   \n",
       "30771                    0     31      16.13        6.45  ...         0   \n",
       "\n",
       "       favday_Monday  favday_Saturday  favday_Sunday  favday_Thursday  \\\n",
       "0                  0                0              1                0   \n",
       "1                  0                0              1                0   \n",
       "2                  0                0              1                0   \n",
       "3                  0                0              1                0   \n",
       "4                  0                0              1                0   \n",
       "...              ...              ...            ...              ...   \n",
       "30767              1                0              0                0   \n",
       "30768              0                0              0                0   \n",
       "30769              1                0              0                0   \n",
       "30770              0                1              0                0   \n",
       "30771              0                0              0                0   \n",
       "\n",
       "       favday_Tuesday  favday_Wednesday  city_BOM  city_DEL  city_MAA  \n",
       "0                   0                 0         0         0         1  \n",
       "1                   0                 0         0         0         1  \n",
       "2                   0                 0         0         0         0  \n",
       "3                   0                 0         0         0         1  \n",
       "4                   0                 0         0         0         1  \n",
       "...               ...               ...       ...       ...       ...  \n",
       "30767               0                 0         0         1         0  \n",
       "30768               0                 1         0         1         0  \n",
       "30769               0                 0         0         1         0  \n",
       "30770               0                 0         0         1         0  \n",
       "30771               0                 0         0         1         0  \n",
       "\n",
       "[30772 rows x 25 columns]"
      ]
     },
     "execution_count": 122,
     "metadata": {},
     "output_type": "execute_result"
    }
   ],
   "source": [
    "retain_encoded"
   ]
  },
  {
   "cell_type": "code",
   "execution_count": 123,
   "metadata": {},
   "outputs": [
    {
     "data": {
      "text/plain": [
       "Index(['custid', 'retained', 'created', 'firstorder', 'register_to_order',\n",
       "       'lastorder', 'first_to_last_order', 'esent', 'eopenrate', 'eclickrate',\n",
       "       'avgorder', 'ordfreq', ' Number of orders ', 'paperless', 'refill',\n",
       "       'doorstep', 'favday_Monday', 'favday_Saturday', 'favday_Sunday',\n",
       "       'favday_Thursday', 'favday_Tuesday', 'favday_Wednesday', 'city_BOM',\n",
       "       'city_DEL', 'city_MAA'],\n",
       "      dtype='object')"
      ]
     },
     "execution_count": 123,
     "metadata": {},
     "output_type": "execute_result"
    }
   ],
   "source": [
    "retain_encoded.columns"
   ]
  },
  {
   "cell_type": "markdown",
   "metadata": {},
   "source": [
    "##### Create Feature variable X and Target variable y"
   ]
  },
  {
   "cell_type": "code",
   "execution_count": 124,
   "metadata": {},
   "outputs": [],
   "source": [
    "#Create Feature variable X and Target variable y\n",
    "y = retain_encoded['retained']\n",
    "X = retain_encoded.drop(['retained','custid','firstorder','created','lastorder'], axis = 1)"
   ]
  },
  {
   "cell_type": "markdown",
   "metadata": {},
   "source": [
    "### Creating Model without SMOTE "
   ]
  },
  {
   "cell_type": "code",
   "execution_count": 125,
   "metadata": {},
   "outputs": [],
   "source": [
    "#Split the data into training set (70%) and test set (30%)\n",
    "from sklearn.model_selection import train_test_split\n",
    "X_train, X_test, y_train, y_test = train_test_split(X, y, test_size = 0.30, random_state = 50)"
   ]
  },
  {
   "cell_type": "code",
   "execution_count": 126,
   "metadata": {},
   "outputs": [],
   "source": [
    "# Machine Learning classification model libraries\n",
    "from sklearn.linear_model import LogisticRegression\n",
    "from sklearn.tree import DecisionTreeClassifier\n",
    "from sklearn.ensemble import RandomForestClassifier\n",
    "from sklearn import metrics"
   ]
  },
  {
   "cell_type": "code",
   "execution_count": 127,
   "metadata": {},
   "outputs": [],
   "source": [
    "#Fit the logistic Regression Model\n",
    "logmodel = LogisticRegression(random_state=50)\n",
    "logmodel.fit(X_train,y_train)\n",
    "\n",
    "#Predict the value for new, unseen data\n",
    "pred = logmodel.predict(X_test)\n",
    "\n",
    "# Find Accuracy using accuracy_score method\n",
    "logmodel_accuracy = round(metrics.accuracy_score(y_test, pred) * 100, 2)"
   ]
  },
  {
   "cell_type": "code",
   "execution_count": 128,
   "metadata": {},
   "outputs": [],
   "source": [
    "#Fit the Random Forest Classification Model\n",
    "from sklearn.ensemble import RandomForestClassifier\n",
    "rfmodel = RandomForestClassifier(n_estimators = 100, criterion = 'entropy', random_state = 0)\n",
    "rfmodel.fit(X_train, y_train) \n",
    "  \n",
    "#Predict the value for new, unseen data\n",
    "rf_pred = rfmodel.predict(X_test)\n",
    "\n",
    "# Find Accuracy using accuracy_score method\n",
    "rf_accuracy = round(metrics.accuracy_score(y_test, rf_pred) * 100, 2)"
   ]
  },
  {
   "cell_type": "code",
   "execution_count": 129,
   "metadata": {},
   "outputs": [],
   "source": [
    "#Fit the Decision Tree Classification Model\n",
    "from sklearn.tree import DecisionTreeClassifier\n",
    "dtmodel = DecisionTreeClassifier(criterion = \"gini\", random_state = 50)\n",
    "dtmodel.fit(X_train, y_train) \n",
    "  \n",
    "#Predict the value for new, unseen data\n",
    "dt_pred = dtmodel.predict(X_test)\n",
    "\n",
    "# Find Accuracy using accuracy_score method\n",
    "dt_accuracy = round(metrics.accuracy_score(y_test, dt_pred) * 100, 2)"
   ]
  },
  {
   "cell_type": "code",
   "execution_count": 130,
   "metadata": {},
   "outputs": [
    {
     "data": {
      "text/html": [
       "<div>\n",
       "<style scoped>\n",
       "    .dataframe tbody tr th:only-of-type {\n",
       "        vertical-align: middle;\n",
       "    }\n",
       "\n",
       "    .dataframe tbody tr th {\n",
       "        vertical-align: top;\n",
       "    }\n",
       "\n",
       "    .dataframe thead th {\n",
       "        text-align: right;\n",
       "    }\n",
       "</style>\n",
       "<table border=\"1\" class=\"dataframe\">\n",
       "  <thead>\n",
       "    <tr style=\"text-align: right;\">\n",
       "      <th></th>\n",
       "      <th>Score</th>\n",
       "      <th>Model</th>\n",
       "    </tr>\n",
       "  </thead>\n",
       "  <tbody>\n",
       "    <tr>\n",
       "      <th>0</th>\n",
       "      <td>95.56</td>\n",
       "      <td>Random Forest</td>\n",
       "    </tr>\n",
       "    <tr>\n",
       "      <th>1</th>\n",
       "      <td>94.59</td>\n",
       "      <td>Logistic Regression</td>\n",
       "    </tr>\n",
       "    <tr>\n",
       "      <th>2</th>\n",
       "      <td>93.10</td>\n",
       "      <td>Decision Tree</td>\n",
       "    </tr>\n",
       "  </tbody>\n",
       "</table>\n",
       "</div>"
      ],
      "text/plain": [
       "   Score                Model\n",
       "0  95.56        Random Forest\n",
       "1  94.59  Logistic Regression\n",
       "2  93.10        Decision Tree"
      ]
     },
     "execution_count": 130,
     "metadata": {},
     "output_type": "execute_result"
    }
   ],
   "source": [
    "# Compare Several models according to their Accuracies\n",
    "Model_Comparison = pd.DataFrame({\n",
    "    'Model': ['Logistic Regression', 'Random Forest', 'Decision Tree'],\n",
    "    'Score': [logmodel_accuracy,  rf_accuracy, dt_accuracy]})\n",
    "Model_Comparison_df = Model_Comparison.sort_values(by='Score', ascending=False)\n",
    "Model_Comparison_df = Model_Comparison_df.set_index('Score')\n",
    "Model_Comparison_df.reset_index()"
   ]
  },
  {
   "cell_type": "markdown",
   "metadata": {},
   "source": [
    "## Applying SMOTE Sampling tech"
   ]
  },
  {
   "cell_type": "code",
   "execution_count": 131,
   "metadata": {},
   "outputs": [],
   "source": [
    "from imblearn.over_sampling import SMOTE\n",
    "smote = SMOTE()"
   ]
  },
  {
   "cell_type": "code",
   "execution_count": 132,
   "metadata": {},
   "outputs": [],
   "source": [
    "X_train_smote, y_train_smote = smote.fit_resample(X_train.astype('float'),y_train)"
   ]
  },
  {
   "cell_type": "code",
   "execution_count": 133,
   "metadata": {},
   "outputs": [
    {
     "name": "stdout",
     "output_type": "stream",
     "text": [
      "Before SMOTE : Counter({1: 17152, 0: 4388})\n",
      "After SMOTE : Counter({1: 17152, 0: 17152})\n"
     ]
    }
   ],
   "source": [
    "from collections import Counter\n",
    "print(\"Before SMOTE :\" , Counter(y_train))\n",
    "print(\"After SMOTE :\" , Counter(y_train_smote))"
   ]
  },
  {
   "cell_type": "markdown",
   "metadata": {},
   "source": [
    "# HyperParameter Tuning for model"
   ]
  },
  {
   "cell_type": "code",
   "execution_count": 134,
   "metadata": {},
   "outputs": [],
   "source": [
    "from sklearn.tree import DecisionTreeClassifier\n",
    "from sklearn.ensemble import RandomForestClassifier\n",
    "from sklearn.linear_model import LogisticRegression\n",
    "\n",
    "model_params = {\n",
    "    'DecisionTree': {\n",
    "        'model': DecisionTreeClassifier(random_state = 50),\n",
    "        'params' : {\n",
    "            'criterion': ['gini','entropy'],\n",
    "            'max_depth': [1,5,10,15,20]\n",
    "        }  \n",
    "    },\n",
    "    'random_forest': {\n",
    "        'model': RandomForestClassifier(random_state = 50,  n_jobs = -1),\n",
    "        'params' : {\n",
    "            'n_estimators': [1,5,10,130]\n",
    "        }\n",
    "    },\n",
    "    'logistic_regression' : {\n",
    "        'model': LogisticRegression(multi_class='auto',random_state = 50),\n",
    "        'params': {\n",
    "            'C': [1,5,10],\n",
    "            'solver' : ['newton-cg', 'lbfgs', 'liblinear', 'sag', 'saga']\n",
    "        }\n",
    "    }\n",
    "}"
   ]
  },
  {
   "cell_type": "code",
   "execution_count": 135,
   "metadata": {},
   "outputs": [
    {
     "data": {
      "text/html": [
       "<div>\n",
       "<style scoped>\n",
       "    .dataframe tbody tr th:only-of-type {\n",
       "        vertical-align: middle;\n",
       "    }\n",
       "\n",
       "    .dataframe tbody tr th {\n",
       "        vertical-align: top;\n",
       "    }\n",
       "\n",
       "    .dataframe thead th {\n",
       "        text-align: right;\n",
       "    }\n",
       "</style>\n",
       "<table border=\"1\" class=\"dataframe\">\n",
       "  <thead>\n",
       "    <tr style=\"text-align: right;\">\n",
       "      <th></th>\n",
       "      <th>model</th>\n",
       "      <th>best_score</th>\n",
       "      <th>best_params</th>\n",
       "    </tr>\n",
       "  </thead>\n",
       "  <tbody>\n",
       "    <tr>\n",
       "      <th>0</th>\n",
       "      <td>DecisionTree</td>\n",
       "      <td>0.952921</td>\n",
       "      <td>{'criterion': 'gini', 'max_depth': 10}</td>\n",
       "    </tr>\n",
       "    <tr>\n",
       "      <th>1</th>\n",
       "      <td>random_forest</td>\n",
       "      <td>0.970237</td>\n",
       "      <td>{'n_estimators': 130}</td>\n",
       "    </tr>\n",
       "    <tr>\n",
       "      <th>2</th>\n",
       "      <td>logistic_regression</td>\n",
       "      <td>0.898059</td>\n",
       "      <td>{'C': 5, 'solver': 'liblinear'}</td>\n",
       "    </tr>\n",
       "  </tbody>\n",
       "</table>\n",
       "</div>"
      ],
      "text/plain": [
       "                 model  best_score                             best_params\n",
       "0         DecisionTree    0.952921  {'criterion': 'gini', 'max_depth': 10}\n",
       "1        random_forest    0.970237                   {'n_estimators': 130}\n",
       "2  logistic_regression    0.898059         {'C': 5, 'solver': 'liblinear'}"
      ]
     },
     "execution_count": 135,
     "metadata": {},
     "output_type": "execute_result"
    }
   ],
   "source": [
    "from sklearn.model_selection import GridSearchCV \n",
    "scores = []\n",
    "\n",
    "for model_name, mp in model_params.items():\n",
    "    clf =  GridSearchCV(mp['model'], mp['params'], cv=5, return_train_score=True)\n",
    "    clf.fit(X_train_smote, y_train_smote)\n",
    "    scores.append({\n",
    "        'model': model_name,\n",
    "        'best_score': clf.best_score_,\n",
    "        'best_params': clf.best_params_\n",
    "    })\n",
    "    \n",
    "df = pd.DataFrame(scores,columns=['model','best_score','best_parameters'])\n",
    "df"
   ]
  },
  {
   "cell_type": "markdown",
   "metadata": {},
   "source": [
    "#### After applying Hyperparameter tuning we can select the parameters which are good for model creation "
   ]
  },
  {
   "cell_type": "markdown",
   "metadata": {},
   "source": [
    "### Fitting Model again after hyperparameter Tuning "
   ]
  },
  {
   "cell_type": "code",
   "execution_count": 136,
   "metadata": {},
   "outputs": [],
   "source": [
    "#Fit the logistic Regression Model\n",
    "logmodel_smote = LogisticRegression(multi_class='auto', C = 10, solver = 'liblinear',random_state=50)\n",
    "logmodel_smote.fit(X_train_smote,y_train_smote)\n",
    "\n",
    "#Predict the value for new, unseen data\n",
    "pred = logmodel_smote.predict(X_test)\n",
    "\n",
    "# Find Accuracy using accuracy_score method\n",
    "logmodel_accuracy_smote = round(metrics.accuracy_score(y_test, pred) * 100, 2)"
   ]
  },
  {
   "cell_type": "markdown",
   "metadata": {},
   "source": [
    "### Finding best n_estimators value for Random Forest with the help of OOB Score "
   ]
  },
  {
   "cell_type": "code",
   "execution_count": 137,
   "metadata": {},
   "outputs": [
    {
     "name": "stdout",
     "output_type": "stream",
     "text": [
      "For n_estimators = 10\n",
      "OOB score is 0.9556611473880597\n",
      "************************\n",
      "For n_estimators = 30\n",
      "OOB score is 0.9721315298507462\n",
      "************************\n",
      "For n_estimators = 50\n",
      "OOB score is 0.9729769123134329\n",
      "************************\n",
      "For n_estimators = 70\n",
      "OOB score is 0.9733850279850746\n",
      "************************\n",
      "For n_estimators = 90\n",
      "OOB score is 0.9733558768656716\n",
      "************************\n",
      "For n_estimators = 110\n",
      "OOB score is 0.9735307835820896\n",
      "************************\n",
      "For n_estimators = 130\n",
      "OOB score is 0.9739972014925373\n",
      "************************\n",
      "For n_estimators = 150\n",
      "OOB score is 0.9736182369402985\n",
      "************************\n",
      "For n_estimators = 170\n",
      "OOB score is 0.9734433302238806\n",
      "************************\n",
      "For n_estimators = 190\n",
      "OOB score is 0.9736473880597015\n",
      "************************\n",
      "For n_estimators = 210\n",
      "OOB score is 0.9736765391791045\n",
      "************************\n",
      "For n_estimators = 230\n",
      "OOB score is 0.9739097481343284\n",
      "************************\n",
      "For n_estimators = 250\n",
      "OOB score is 0.9738514458955224\n",
      "************************\n",
      "For n_estimators = 270\n",
      "OOB score is 0.9740555037313433\n",
      "************************\n",
      "For n_estimators = 290\n",
      "OOB score is 0.9738514458955224\n",
      "************************\n"
     ]
    }
   ],
   "source": [
    "for w in range(10,300,20):\n",
    "    clf=RandomForestClassifier(n_estimators= w,random_state= 5, n_jobs = -1, oob_score= True)\n",
    "    clf.fit(X_train_smote,y_train_smote)\n",
    "    oob=clf.oob_score_\n",
    "    print ('For n_estimators = '+str(w))\n",
    "    print ('OOB score is '+str(oob))\n",
    "    print ('************************')"
   ]
  },
  {
   "cell_type": "code",
   "execution_count": 138,
   "metadata": {},
   "outputs": [],
   "source": [
    "#Fit the Random Forest Classification Model\n",
    "from sklearn.ensemble import RandomForestClassifier\n",
    "rfmodel_smote = RandomForestClassifier(n_estimators = 130, criterion = 'entropy', random_state = 0)\n",
    "rfmodel_smote.fit(X_train_smote,y_train_smote) \n",
    "  \n",
    "#Predict the value for new, unseen data\n",
    "rf_pred_smote = rfmodel_smote.predict(X_test)\n",
    "\n",
    "# Find Accuracy using accuracy_score method\n",
    "rf_accuracy_smote = round(metrics.accuracy_score(y_test, rf_pred) * 100, 2)"
   ]
  },
  {
   "cell_type": "code",
   "execution_count": 139,
   "metadata": {},
   "outputs": [],
   "source": [
    "#Fit the Decision Tree Classification Model\n",
    "from sklearn.tree import DecisionTreeClassifier\n",
    "dtmodel_smote = DecisionTreeClassifier(criterion = \"entropy\",max_depth = 15, random_state = 50)\n",
    "dtmodel_smote.fit(X_train_smote,y_train_smote) \n",
    "  \n",
    "#Predict the value for new, unseen data\n",
    "dt_pred = dtmodel_smote.predict(X_test)\n",
    "\n",
    "# Find Accuracy using accuracy_score method\n",
    "dt_accuracy_smote = round(metrics.accuracy_score(y_test, dt_pred) * 100, 2)"
   ]
  },
  {
   "cell_type": "markdown",
   "metadata": {},
   "source": [
    "### Getting the Accuracy for all three models after apply smote and hyperparameter tunning "
   ]
  },
  {
   "cell_type": "code",
   "execution_count": 140,
   "metadata": {},
   "outputs": [
    {
     "data": {
      "text/html": [
       "<div>\n",
       "<style scoped>\n",
       "    .dataframe tbody tr th:only-of-type {\n",
       "        vertical-align: middle;\n",
       "    }\n",
       "\n",
       "    .dataframe tbody tr th {\n",
       "        vertical-align: top;\n",
       "    }\n",
       "\n",
       "    .dataframe thead th {\n",
       "        text-align: right;\n",
       "    }\n",
       "</style>\n",
       "<table border=\"1\" class=\"dataframe\">\n",
       "  <thead>\n",
       "    <tr style=\"text-align: right;\">\n",
       "      <th></th>\n",
       "      <th>Score</th>\n",
       "      <th>Model</th>\n",
       "    </tr>\n",
       "  </thead>\n",
       "  <tbody>\n",
       "    <tr>\n",
       "      <th>0</th>\n",
       "      <td>95.56</td>\n",
       "      <td>Random Forest</td>\n",
       "    </tr>\n",
       "    <tr>\n",
       "      <th>1</th>\n",
       "      <td>93.71</td>\n",
       "      <td>Decision Tree</td>\n",
       "    </tr>\n",
       "    <tr>\n",
       "      <th>2</th>\n",
       "      <td>89.60</td>\n",
       "      <td>Logistic Regression</td>\n",
       "    </tr>\n",
       "  </tbody>\n",
       "</table>\n",
       "</div>"
      ],
      "text/plain": [
       "   Score                Model\n",
       "0  95.56        Random Forest\n",
       "1  93.71        Decision Tree\n",
       "2  89.60  Logistic Regression"
      ]
     },
     "execution_count": 140,
     "metadata": {},
     "output_type": "execute_result"
    }
   ],
   "source": [
    "# Compare Several models according to their Accuracies\n",
    "Model_Comparison = pd.DataFrame({\n",
    "    'Model': ['Logistic Regression', 'Random Forest', 'Decision Tree'],\n",
    "    'Score': [logmodel_accuracy_smote,  rf_accuracy_smote, dt_accuracy_smote]})\n",
    "Model_Comparison_df = Model_Comparison.sort_values(by='Score', ascending=False)\n",
    "Model_Comparison_df = Model_Comparison_df.set_index('Score')\n",
    "Model_Comparison_df.reset_index()"
   ]
  },
  {
   "cell_type": "markdown",
   "metadata": {},
   "source": [
    "### After Comparing the Accuracy for three models Random Forest is giving the best score "
   ]
  },
  {
   "cell_type": "markdown",
   "metadata": {},
   "source": [
    "## Creating a ROC & AUC"
   ]
  },
  {
   "cell_type": "code",
   "execution_count": 141,
   "metadata": {},
   "outputs": [],
   "source": [
    "# predict probabilities\n",
    "pred_prob1 = logmodel_smote.predict_proba(X_test)\n",
    "pred_prob2 = rfmodel_smote.predict_proba(X_test) \n",
    "pred_prob3 = dtmodel_smote.predict_proba(X_test)"
   ]
  },
  {
   "cell_type": "code",
   "execution_count": 142,
   "metadata": {},
   "outputs": [],
   "source": [
    "from sklearn.metrics import roc_curve\n",
    "\n",
    "# roc curve for models\n",
    "fpr1, tpr1, thresh1 = roc_curve(y_test, pred_prob1[:,1], pos_label=1)\n",
    "fpr2, tpr2, thresh2 = roc_curve(y_test, pred_prob2[:,1], pos_label=1)\n",
    "fpr3, tpr3, thresh3 = roc_curve(y_test, pred_prob3[:,1], pos_label=1)\n",
    "\n",
    "# roc curve for tpr = fpr \n",
    "random_probs = [0 for i in range(len(y_test))]\n",
    "p_fpr, p_tpr, _ = roc_curve(y_test, random_probs, pos_label=1)"
   ]
  },
  {
   "cell_type": "markdown",
   "metadata": {},
   "source": [
    "### AUC Score of all three models"
   ]
  },
  {
   "cell_type": "code",
   "execution_count": 143,
   "metadata": {},
   "outputs": [
    {
     "name": "stdout",
     "output_type": "stream",
     "text": [
      "Score for LogModel --->  96.97 Score for RFModel --->  97.35 Score for dtmodel --->  92.34\n"
     ]
    }
   ],
   "source": [
    "from sklearn.metrics import roc_auc_score\n",
    "\n",
    "# auc scores\n",
    "auc_score1 = round(roc_auc_score(y_test, pred_prob1[:,1]) * 100 ,2)\n",
    "auc_score2 = round(roc_auc_score(y_test, pred_prob2[:,1]) * 100 ,2)\n",
    "auc_score3 = round(roc_auc_score(y_test, pred_prob3[:,1]) * 100 ,2)\n",
    "\n",
    "print('Score for LogModel ---> ', auc_score1, 'Score for RFModel ---> ',auc_score2,'Score for dtmodel ---> ', auc_score3)"
   ]
  },
  {
   "cell_type": "markdown",
   "metadata": {},
   "source": [
    "### Creating ROC Curve for all three models"
   ]
  },
  {
   "cell_type": "code",
   "execution_count": 145,
   "metadata": {},
   "outputs": [
    {
     "data": {
      "image/png": "[encoded data removed]",
      "text/plain": [
       "<Figure size 576x396 with 1 Axes>"
      ]
     },
     "metadata": {},
     "output_type": "display_data"
    }
   ],
   "source": [
    "# matplotlib\n",
    "import matplotlib.pyplot as plt\n",
    "plt.style.use('seaborn')\n",
    "\n",
    "# plot roc curves\n",
    "plt.plot(fpr1, tpr1, linestyle='--',color='orange', label='Logistic Regression')\n",
    "plt.plot(fpr2, tpr2, linestyle='--',color='green', label='Random Forest Model') \n",
    "plt.plot(fpr3, tpr3, linestyle='--',color='aqua', label='Decision Tree Model')\n",
    "#plt.plot(p_fpr, p_tpr, linestyle='--', color='blue', label='Ther')\n",
    "# title\n",
    "plt.title('ROC curve')\n",
    "\n",
    "\n",
    "\n",
    "\n",
    "\n",
    "# x label\n",
    "plt.xlabel('False Positive Rate')\n",
    "# y label\n",
    "plt.ylabel('True Positive rate')\n",
    "\n",
    "plt.legend(loc='best')\n",
    "plt.savefig('ROC',dpi=300)\n",
    "plt.show();"
   ]
  },
  {
   "cell_type": "markdown",
   "metadata": {},
   "source": [
    "### On the basis of ROC Curve we can select Randomforest "
   ]
  },
  {
   "cell_type": "markdown",
   "metadata": {},
   "source": [
    "# F1 Score"
   ]
  },
  {
   "cell_type": "code",
   "execution_count": 146,
   "metadata": {},
   "outputs": [
    {
     "name": "stdout",
     "output_type": "stream",
     "text": [
      "Decision Tree F1 score:  96.01\n"
     ]
    }
   ],
   "source": [
    "from sklearn.metrics import f1_score\n",
    "# Decision Tree Classifier\n",
    "\n",
    "# instantiate\n",
    "dtc = DecisionTreeClassifier(criterion = \"entropy\",max_depth = 15, random_state = 50)\n",
    "\n",
    "# fit\n",
    "dtc.fit(X_train_smote, y_train_smote)\n",
    "\n",
    "# predict\n",
    "y_pred = dtc.predict(X_test)\n",
    "\n",
    "# f1 score\n",
    "score_smote_DT = round(f1_score(y_pred, y_test) * 100,2)\n",
    "\n",
    "# print\n",
    "print(\"Decision Tree F1 score: \", format(score_smote_DT))"
   ]
  },
  {
   "cell_type": "code",
   "execution_count": 147,
   "metadata": {},
   "outputs": [
    {
     "name": "stdout",
     "output_type": "stream",
     "text": [
      "Decision Tree F1 score: 96.67\n"
     ]
    }
   ],
   "source": [
    "from sklearn.metrics import f1_score\n",
    "# Decision Tree Classifier\n",
    "\n",
    "# instantiate\n",
    "dtc = DecisionTreeClassifier(criterion = \"entropy\",max_depth = 15, random_state = 50)\n",
    "\n",
    "# fit\n",
    "dtc.fit(X_train, y_train)\n",
    "\n",
    "# predict\n",
    "y_pred = dtc.predict(X_test)\n",
    "\n",
    "# f1 score\n",
    "score_DT = round(f1_score(y_pred, y_test) * 100 ,2)\n",
    "\n",
    "# print\n",
    "print(\"Decision Tree F1 score:\", format(score_DT))"
   ]
  },
  {
   "cell_type": "code",
   "execution_count": 148,
   "metadata": {},
   "outputs": [
    {
     "name": "stdout",
     "output_type": "stream",
     "text": [
      "Random Forest F1 score: 97.21\n"
     ]
    }
   ],
   "source": [
    "#Fit the Random Forest Classification Model \n",
    "from sklearn.metrics import f1_score\n",
    "from sklearn.ensemble import RandomForestClassifier\n",
    "rfmodel_smote = RandomForestClassifier(n_estimators = 130, criterion = 'entropy', random_state = 0)\n",
    "rfmodel_smote.fit(X_train_smote,y_train_smote) \n",
    "  \n",
    "#Predict the value for new, unseen data\n",
    "rf_pred_smote = rfmodel_smote.predict(X_test)\n",
    "\n",
    "score_RFModel_smote = round(f1_score(rf_pred_smote, y_test) * 100,2)\n",
    "\n",
    "# print\n",
    "print(\"Random Forest F1 score:\", format(score_RFModel_smote))"
   ]
  },
  {
   "cell_type": "code",
   "execution_count": 149,
   "metadata": {},
   "outputs": [
    {
     "name": "stdout",
     "output_type": "stream",
     "text": [
      "Random Forest F1 score: 97.23\n"
     ]
    }
   ],
   "source": [
    "#Fit the Random Forest Classification Model \n",
    "from sklearn.metrics import f1_score\n",
    "from sklearn.ensemble import RandomForestClassifier\n",
    "rfmodel = RandomForestClassifier(n_estimators = 130, criterion = 'entropy', random_state = 0)\n",
    "rfmodel.fit(X_train, y_train) \n",
    "  \n",
    "#Predict the value for new, unseen data\n",
    "rf_pred = rfmodel.predict(X_test)\n",
    "\n",
    "score_RFModel = round(f1_score(rf_pred, y_test) * 100,2)\n",
    "\n",
    "# print\n",
    "print(\"Random Forest F1 score:\", format(score_RFModel))"
   ]
  },
  {
   "cell_type": "code",
   "execution_count": 150,
   "metadata": {},
   "outputs": [
    {
     "name": "stdout",
     "output_type": "stream",
     "text": [
      "lOGModel F1 score: 96.67\n"
     ]
    }
   ],
   "source": [
    "from sklearn.metrics import f1_score\n",
    "logmodel_smote = LogisticRegression(multi_class='auto', C = 5, solver = 'liblinear',random_state=50)\n",
    "logmodel_smote.fit(X_train_smote,y_train_smote)\n",
    "  \n",
    "#Predict the value for new, unseen data\n",
    "logmodel_smote_pred = logmodel_smote.predict(X_test)\n",
    "\n",
    "score_logmodel_smote = round(f1_score(y_pred, y_test) * 100,2)\n",
    "\n",
    "# print\n",
    "print(\"lOGModel F1 score:\", format(score_logmodel_smote))"
   ]
  },
  {
   "cell_type": "code",
   "execution_count": 151,
   "metadata": {},
   "outputs": [
    {
     "name": "stdout",
     "output_type": "stream",
     "text": [
      "Random Forest F1 score: 96.67\n"
     ]
    }
   ],
   "source": [
    "from sklearn.metrics import f1_score \n",
    "logmodel = LogisticRegression(multi_class='auto', C = 5, solver = 'liblinear',random_state=50)\n",
    "logmodel.fit(X_train, y_train)\n",
    "\n",
    "#Predict the value for new, unseen data\n",
    "logmodel_pred = logmodel.predict(X_test)\n",
    "\n",
    "score_logmodel = round(f1_score(logmodel_pred, y_test) * 100,2)\n",
    "\n",
    "# print\n",
    "print(\"Random Forest F1 score:\", format(score_logmodel))"
   ]
  },
  {
   "cell_type": "code",
   "execution_count": 153,
   "metadata": {},
   "outputs": [
    {
     "data": {
      "text/html": [
       "<div>\n",
       "<style scoped>\n",
       "    .dataframe tbody tr th:only-of-type {\n",
       "        vertical-align: middle;\n",
       "    }\n",
       "\n",
       "    .dataframe tbody tr th {\n",
       "        vertical-align: top;\n",
       "    }\n",
       "\n",
       "    .dataframe thead th {\n",
       "        text-align: right;\n",
       "    }\n",
       "</style>\n",
       "<table border=\"1\" class=\"dataframe\">\n",
       "  <thead>\n",
       "    <tr style=\"text-align: right;\">\n",
       "      <th></th>\n",
       "      <th>Model</th>\n",
       "      <th>Accuracy</th>\n",
       "      <th>F1 Score with SMOTE</th>\n",
       "      <th>F1 Score without SMOTE</th>\n",
       "      <th>AUC Score</th>\n",
       "    </tr>\n",
       "  </thead>\n",
       "  <tbody>\n",
       "    <tr>\n",
       "      <th>0</th>\n",
       "      <td>Random Forest</td>\n",
       "      <td>95.56</td>\n",
       "      <td>97.21</td>\n",
       "      <td>97.23</td>\n",
       "      <td>97.35</td>\n",
       "    </tr>\n",
       "    <tr>\n",
       "      <th>1</th>\n",
       "      <td>Decision Tree</td>\n",
       "      <td>93.71</td>\n",
       "      <td>96.01</td>\n",
       "      <td>96.67</td>\n",
       "      <td>92.34</td>\n",
       "    </tr>\n",
       "    <tr>\n",
       "      <th>2</th>\n",
       "      <td>Logistic Regression</td>\n",
       "      <td>89.60</td>\n",
       "      <td>96.67</td>\n",
       "      <td>96.67</td>\n",
       "      <td>96.97</td>\n",
       "    </tr>\n",
       "  </tbody>\n",
       "</table>\n",
       "</div>"
      ],
      "text/plain": [
       "                 Model  Accuracy  F1 Score with SMOTE  F1 Score without SMOTE  \\\n",
       "0        Random Forest     95.56                97.21                   97.23   \n",
       "1        Decision Tree     93.71                96.01                   96.67   \n",
       "2  Logistic Regression     89.60                96.67                   96.67   \n",
       "\n",
       "   AUC Score  \n",
       "0      97.35  \n",
       "1      92.34  \n",
       "2      96.97  "
      ]
     },
     "execution_count": 153,
     "metadata": {},
     "output_type": "execute_result"
    }
   ],
   "source": [
    "Final_Model_Comparison = pd.DataFrame({\n",
    "    'Model': ['Logistic Regression', 'Random Forest', 'Decision Tree'],\n",
    "    'Accuracy': [logmodel_accuracy_smote,  rf_accuracy_smote, dt_accuracy_smote], \n",
    "    'F1 Score with SMOTE': [score_logmodel_smote,  score_RFModel_smote, score_smote_DT],\n",
    "    'F1 Score without SMOTE' : [score_logmodel, score_RFModel, score_DT],\n",
    "    'AUC Score' : [auc_score1, auc_score2, auc_score3] })\n",
    "Model_Comparison_df = Final_Model_Comparison.sort_values(by='Accuracy', ascending=False)\n",
    "Model_Comparison_df = Model_Comparison_df.set_index('Model')\n",
    "Model_Comparison_df.reset_index()"
   ]
  },
  {
   "cell_type": "markdown",
   "metadata": {},
   "source": [
    "### After comparing the three models Accuracy, F1 Score with or without SMOTE and AUC Score we can say that Random Forest is the best classification model for this dataset "
   ]
  },
  {
   "cell_type": "markdown",
   "metadata": {},
   "source": [
    "### Feature Importances"
   ]
  },
  {
   "cell_type": "code",
   "execution_count": 206,
   "metadata": {},
   "outputs": [],
   "source": [
    "imp=[]\n",
    "\n",
    "for i in rfmodel_smote.estimators_:\n",
    "    imp.append(i.feature_importances_)\n",
    "    \n",
    "imp=np.mean(imp,axis=0)"
   ]
  },
  {
   "cell_type": "code",
   "execution_count": 207,
   "metadata": {},
   "outputs": [],
   "source": [
    "feature_importances = pd.Series(imp, index = X.columns.tolist())"
   ]
  },
  {
   "cell_type": "code",
   "execution_count": 208,
   "metadata": {},
   "outputs": [
    {
     "data": {
      "text/plain": [
       "<AxesSubplot:>"
      ]
     },
     "execution_count": 208,
     "metadata": {},
     "output_type": "execute_result"
    },
    {
     "data": {
      "image/png": "[encoded data removed]",
      "text/plain": [
       "<Figure size 432x288 with 1 Axes>"
      ]
     },
     "metadata": {
      "needs_background": "light"
     },
     "output_type": "display_data"
    }
   ],
   "source": [
    "feature_importances.sort_values(ascending = False).plot(kind='bar')"
   ]
  },
  {
   "cell_type": "markdown",
   "metadata": {},
   "source": [
    "### After seeing the Feature Importance of the model we can say that esent, eopenrate, ecliclrate, paperless & avgorder plays a importance role in customer rention then other variables "
   ]
  },
  {
   "cell_type": "markdown",
   "metadata": {},
   "source": [
    "### Generate confusion matrix for Random Forest Classification Model as it has maximum Accuracy"
   ]
  },
  {
   "cell_type": "code",
   "execution_count": 209,
   "metadata": {},
   "outputs": [
    {
     "data": {
      "text/plain": [
       "array([[1640,  293],\n",
       "       [ 119, 7180]], dtype=int64)"
      ]
     },
     "execution_count": 209,
     "metadata": {},
     "output_type": "execute_result"
    }
   ],
   "source": [
    "#Generate confusion matrix for Random Forest Classification Model as it has maximum Accuracy\n",
    "from sklearn.metrics import confusion_matrix\n",
    "conf_mat_RFmodel = confusion_matrix(y_test,rf_pred_smote)\n",
    "conf_mat_RFmodel"
   ]
  },
  {
   "cell_type": "code",
   "execution_count": 215,
   "metadata": {},
   "outputs": [],
   "source": [
    "# Predict the probability of Churn of each customer\n",
    "retain_encoded['Probability_of_Retain'] = rfmodel_smote.predict_proba(retain_encoded[X_test.columns])[:,1]"
   ]
  },
  {
   "cell_type": "code",
   "execution_count": 217,
   "metadata": {},
   "outputs": [],
   "source": [
    "retain_encoded['Probability_of_Retain'] = round(retain_encoded['Probability_of_Retain'] * 100 ,2)"
   ]
  },
  {
   "cell_type": "code",
   "execution_count": 218,
   "metadata": {},
   "outputs": [
    {
     "data": {
      "text/html": [
       "<div>\n",
       "<style scoped>\n",
       "    .dataframe tbody tr th:only-of-type {\n",
       "        vertical-align: middle;\n",
       "    }\n",
       "\n",
       "    .dataframe tbody tr th {\n",
       "        vertical-align: top;\n",
       "    }\n",
       "\n",
       "    .dataframe thead th {\n",
       "        text-align: right;\n",
       "    }\n",
       "</style>\n",
       "<table border=\"1\" class=\"dataframe\">\n",
       "  <thead>\n",
       "    <tr style=\"text-align: right;\">\n",
       "      <th></th>\n",
       "      <th>custid</th>\n",
       "      <th>retained</th>\n",
       "      <th>Probability_of_Retain</th>\n",
       "    </tr>\n",
       "  </thead>\n",
       "  <tbody>\n",
       "    <tr>\n",
       "      <th>0</th>\n",
       "      <td>4PL8PJ</td>\n",
       "      <td>0</td>\n",
       "      <td>0.77</td>\n",
       "    </tr>\n",
       "    <tr>\n",
       "      <th>1</th>\n",
       "      <td>EWWSX3</td>\n",
       "      <td>0</td>\n",
       "      <td>0.77</td>\n",
       "    </tr>\n",
       "    <tr>\n",
       "      <th>2</th>\n",
       "      <td>AA5UR5</td>\n",
       "      <td>1</td>\n",
       "      <td>99.23</td>\n",
       "    </tr>\n",
       "    <tr>\n",
       "      <th>3</th>\n",
       "      <td>JKN7DR</td>\n",
       "      <td>1</td>\n",
       "      <td>100.00</td>\n",
       "    </tr>\n",
       "    <tr>\n",
       "      <th>4</th>\n",
       "      <td>6F97V9</td>\n",
       "      <td>0</td>\n",
       "      <td>0.00</td>\n",
       "    </tr>\n",
       "  </tbody>\n",
       "</table>\n",
       "</div>"
      ],
      "text/plain": [
       "   custid  retained  Probability_of_Retain\n",
       "0  4PL8PJ         0                   0.77\n",
       "1  EWWSX3         0                   0.77\n",
       "2  AA5UR5         1                  99.23\n",
       "3  JKN7DR         1                 100.00\n",
       "4  6F97V9         0                   0.00"
      ]
     },
     "execution_count": 218,
     "metadata": {},
     "output_type": "execute_result"
    }
   ],
   "source": [
    "# Create a Dataframe showcasing probability of retained of each customer\n",
    "retain_encoded[['custid','retained','Probability_of_Retain']].head()"
   ]
  },
  {
   "cell_type": "code",
   "execution_count": 220,
   "metadata": {},
   "outputs": [],
   "source": [
    "#Output a csv file\n",
    "out = retain_encoded\n",
    "out.to_csv('RetainedDataset.csv')"
   ]
  }
 ],
 "metadata": {
  "kernelspec": {
   "display_name": "Python 3",
   "language": "python",
   "name": "python3"
  },
  "language_info": {
   "codemirror_mode": {
    "name": "ipython",
    "version": 3
   },
   "file_extension": ".py",
   "mimetype": "text/x-python",
   "name": "python",
   "nbconvert_exporter": "python",
   "pygments_lexer": "ipython3",
   "version": "3.8.8"
  }
 },
 "nbformat": 4,
 "nbformat_minor": 4
}
